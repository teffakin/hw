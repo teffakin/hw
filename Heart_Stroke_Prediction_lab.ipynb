{
  "cells": [
    {
      "cell_type": "markdown",
      "metadata": {
        "id": "view-in-github",
        "colab_type": "text"
      },
      "source": [
        "<a href=\"https://colab.research.google.com/github/teffakin/hw/blob/main/Heart_Stroke_Prediction_lab.ipynb\" target=\"_parent\"><img src=\"https://colab.research.google.com/assets/colab-badge.svg\" alt=\"Open In Colab\"/></a>"
      ]
    },
    {
      "cell_type": "markdown",
      "id": "KI0TtW1tvm_r",
      "metadata": {
        "id": "KI0TtW1tvm_r"
      },
      "source": [
        "___\n",
        "\n",
        "<p style=\"text-align: center;\"><img src=\"https://docs.google.com/uc?id=1lY0Uj5R04yMY3-ZppPWxqCr5pvBLYPnV\" class=\"img-fluid\" alt=\"CLRSWY\"></p>\n",
        "\n",
        "___"
      ]
    },
    {
      "cell_type": "markdown",
      "id": "392a02f0-fdda-44ae-a0fc-97f3b03924a9",
      "metadata": {
        "id": "392a02f0-fdda-44ae-a0fc-97f3b03924a9"
      },
      "source": [
        "Data vocabulary:\n",
        "\n",
        "1. #3 (age): age in years \n",
        "2. #4 (sex): sex (1 = male; 0 = female) \n",
        "3. #9 (cp): cp: chest pain type | Value 0: typical angina | Value 1: atypical angina | Value 2: non-anginal pain | Value 3: asymptomatic \n",
        "4. #10 (trestbps): resting blood pressure (in mm Hg on admission to the hospital) \n",
        "5. #12 (chol): serum cholestoral in mg/dl \n",
        "6. #16 (fbs): (fasting blood sugar > 120 mg/dl) (1 = true; 0 = false) \n",
        "7. #19 (restecg): resting electrocardiographic results | Value 0: normal | Value 1: having ST-T wave abnormality (T wave inversions and/or ST elevation or depression of > 0.05 mV) | Value 2: showing probable or definite left ventricular hypertrophy by Estes' criteria \n",
        "8. #32 (thalach): maximum heart rate achieved \n",
        "9. #38 (exang): exercise induced angina (1 = yes; 0 = no) \n",
        "10. #40 (oldpeak): ST depression induced by exercise relative to rest \n",
        "11. #41 (slope): the slope of the peak exercise ST segment | Value 1: upsloping | Value 2: flat | Value 3: downsloping \n",
        "12. #44 (ca): number of major vessels (0-3) colored by flourosopy \n",
        "13. #51 (thal): 3 = normal; 6 = fixed defect; 7 = reversable defect \n",
        "14. #58 (num) (the predicted attribute): Value 0: < 50% diameter narrowing | Value 1: > 50% diameter narrowing \n",
        "\n",
        "\n",
        "* https://archive.ics.uci.edu/ml/datasets/heart+disease"
      ]
    },
    {
      "cell_type": "markdown",
      "id": "2kuJJ54iwAlk",
      "metadata": {
        "id": "2kuJJ54iwAlk"
      },
      "source": [
        "# Import esential Libraries"
      ]
    },
    {
      "cell_type": "code",
      "execution_count": null,
      "id": "d2f67c2a-c903-4b6c-bcda-2d69e2619192",
      "metadata": {
        "id": "d2f67c2a-c903-4b6c-bcda-2d69e2619192"
      },
      "outputs": [],
      "source": [
        "import numpy as np\n",
        "import pandas as pd\n",
        "import seaborn as sns\n",
        "import matplotlib.pyplot as plt\n",
        "\n",
        "%matplotlib inline\n",
        "plt.rcParams[\"figure.figsize\"] = (10,6)\n",
        "import warnings\n",
        "pd.options.display.float_format = '{:.3f}'.format"
      ]
    },
    {
      "cell_type": "markdown",
      "id": "6Qn_DjhPwKRF",
      "metadata": {
        "id": "6Qn_DjhPwKRF"
      },
      "source": [
        "# Ingest the data to notebook"
      ]
    },
    {
      "cell_type": "code",
      "execution_count": null,
      "id": "2faba457",
      "metadata": {
        "id": "2faba457",
        "outputId": "0f1205fe-f5c9-4165-a451-0af7e940ea83"
      },
      "outputs": [
        {
          "data": {
            "text/html": [
              "<div>\n",
              "<style scoped>\n",
              "    .dataframe tbody tr th:only-of-type {\n",
              "        vertical-align: middle;\n",
              "    }\n",
              "\n",
              "    .dataframe tbody tr th {\n",
              "        vertical-align: top;\n",
              "    }\n",
              "\n",
              "    .dataframe thead th {\n",
              "        text-align: right;\n",
              "    }\n",
              "</style>\n",
              "<table border=\"1\" class=\"dataframe\">\n",
              "  <thead>\n",
              "    <tr style=\"text-align: right;\">\n",
              "      <th></th>\n",
              "      <th>age</th>\n",
              "      <th>sex</th>\n",
              "      <th>cp</th>\n",
              "      <th>trestbps</th>\n",
              "      <th>chol</th>\n",
              "      <th>fbs</th>\n",
              "      <th>restecg</th>\n",
              "      <th>thalach</th>\n",
              "      <th>exang</th>\n",
              "      <th>oldpeak</th>\n",
              "      <th>slope</th>\n",
              "      <th>ca</th>\n",
              "      <th>thal</th>\n",
              "      <th>target</th>\n",
              "    </tr>\n",
              "  </thead>\n",
              "  <tbody>\n",
              "    <tr>\n",
              "      <th>0</th>\n",
              "      <td>63</td>\n",
              "      <td>1</td>\n",
              "      <td>3</td>\n",
              "      <td>145</td>\n",
              "      <td>233</td>\n",
              "      <td>1</td>\n",
              "      <td>0</td>\n",
              "      <td>150</td>\n",
              "      <td>0</td>\n",
              "      <td>2.300</td>\n",
              "      <td>0</td>\n",
              "      <td>0</td>\n",
              "      <td>1</td>\n",
              "      <td>1</td>\n",
              "    </tr>\n",
              "    <tr>\n",
              "      <th>1</th>\n",
              "      <td>37</td>\n",
              "      <td>1</td>\n",
              "      <td>2</td>\n",
              "      <td>130</td>\n",
              "      <td>250</td>\n",
              "      <td>0</td>\n",
              "      <td>1</td>\n",
              "      <td>187</td>\n",
              "      <td>0</td>\n",
              "      <td>3.500</td>\n",
              "      <td>0</td>\n",
              "      <td>0</td>\n",
              "      <td>2</td>\n",
              "      <td>1</td>\n",
              "    </tr>\n",
              "    <tr>\n",
              "      <th>2</th>\n",
              "      <td>41</td>\n",
              "      <td>0</td>\n",
              "      <td>1</td>\n",
              "      <td>130</td>\n",
              "      <td>204</td>\n",
              "      <td>0</td>\n",
              "      <td>0</td>\n",
              "      <td>172</td>\n",
              "      <td>0</td>\n",
              "      <td>1.400</td>\n",
              "      <td>2</td>\n",
              "      <td>0</td>\n",
              "      <td>2</td>\n",
              "      <td>1</td>\n",
              "    </tr>\n",
              "    <tr>\n",
              "      <th>3</th>\n",
              "      <td>56</td>\n",
              "      <td>1</td>\n",
              "      <td>1</td>\n",
              "      <td>120</td>\n",
              "      <td>236</td>\n",
              "      <td>0</td>\n",
              "      <td>1</td>\n",
              "      <td>178</td>\n",
              "      <td>0</td>\n",
              "      <td>0.800</td>\n",
              "      <td>2</td>\n",
              "      <td>0</td>\n",
              "      <td>2</td>\n",
              "      <td>1</td>\n",
              "    </tr>\n",
              "    <tr>\n",
              "      <th>4</th>\n",
              "      <td>57</td>\n",
              "      <td>0</td>\n",
              "      <td>0</td>\n",
              "      <td>120</td>\n",
              "      <td>354</td>\n",
              "      <td>0</td>\n",
              "      <td>1</td>\n",
              "      <td>163</td>\n",
              "      <td>1</td>\n",
              "      <td>0.600</td>\n",
              "      <td>2</td>\n",
              "      <td>0</td>\n",
              "      <td>2</td>\n",
              "      <td>1</td>\n",
              "    </tr>\n",
              "    <tr>\n",
              "      <th>...</th>\n",
              "      <td>...</td>\n",
              "      <td>...</td>\n",
              "      <td>...</td>\n",
              "      <td>...</td>\n",
              "      <td>...</td>\n",
              "      <td>...</td>\n",
              "      <td>...</td>\n",
              "      <td>...</td>\n",
              "      <td>...</td>\n",
              "      <td>...</td>\n",
              "      <td>...</td>\n",
              "      <td>...</td>\n",
              "      <td>...</td>\n",
              "      <td>...</td>\n",
              "    </tr>\n",
              "    <tr>\n",
              "      <th>298</th>\n",
              "      <td>57</td>\n",
              "      <td>0</td>\n",
              "      <td>0</td>\n",
              "      <td>140</td>\n",
              "      <td>241</td>\n",
              "      <td>0</td>\n",
              "      <td>1</td>\n",
              "      <td>123</td>\n",
              "      <td>1</td>\n",
              "      <td>0.200</td>\n",
              "      <td>1</td>\n",
              "      <td>0</td>\n",
              "      <td>3</td>\n",
              "      <td>0</td>\n",
              "    </tr>\n",
              "    <tr>\n",
              "      <th>299</th>\n",
              "      <td>45</td>\n",
              "      <td>1</td>\n",
              "      <td>3</td>\n",
              "      <td>110</td>\n",
              "      <td>264</td>\n",
              "      <td>0</td>\n",
              "      <td>1</td>\n",
              "      <td>132</td>\n",
              "      <td>0</td>\n",
              "      <td>1.200</td>\n",
              "      <td>1</td>\n",
              "      <td>0</td>\n",
              "      <td>3</td>\n",
              "      <td>0</td>\n",
              "    </tr>\n",
              "    <tr>\n",
              "      <th>300</th>\n",
              "      <td>68</td>\n",
              "      <td>1</td>\n",
              "      <td>0</td>\n",
              "      <td>144</td>\n",
              "      <td>193</td>\n",
              "      <td>1</td>\n",
              "      <td>1</td>\n",
              "      <td>141</td>\n",
              "      <td>0</td>\n",
              "      <td>3.400</td>\n",
              "      <td>1</td>\n",
              "      <td>2</td>\n",
              "      <td>3</td>\n",
              "      <td>0</td>\n",
              "    </tr>\n",
              "    <tr>\n",
              "      <th>301</th>\n",
              "      <td>57</td>\n",
              "      <td>1</td>\n",
              "      <td>0</td>\n",
              "      <td>130</td>\n",
              "      <td>131</td>\n",
              "      <td>0</td>\n",
              "      <td>1</td>\n",
              "      <td>115</td>\n",
              "      <td>1</td>\n",
              "      <td>1.200</td>\n",
              "      <td>1</td>\n",
              "      <td>1</td>\n",
              "      <td>3</td>\n",
              "      <td>0</td>\n",
              "    </tr>\n",
              "    <tr>\n",
              "      <th>302</th>\n",
              "      <td>57</td>\n",
              "      <td>0</td>\n",
              "      <td>1</td>\n",
              "      <td>130</td>\n",
              "      <td>236</td>\n",
              "      <td>0</td>\n",
              "      <td>0</td>\n",
              "      <td>174</td>\n",
              "      <td>0</td>\n",
              "      <td>0.000</td>\n",
              "      <td>1</td>\n",
              "      <td>1</td>\n",
              "      <td>2</td>\n",
              "      <td>0</td>\n",
              "    </tr>\n",
              "  </tbody>\n",
              "</table>\n",
              "<p>303 rows × 14 columns</p>\n",
              "</div>"
            ],
            "text/plain": [
              "     age  sex  cp  trestbps  chol  fbs  restecg  thalach  exang  oldpeak  \\\n",
              "0     63    1   3       145   233    1        0      150      0    2.300   \n",
              "1     37    1   2       130   250    0        1      187      0    3.500   \n",
              "2     41    0   1       130   204    0        0      172      0    1.400   \n",
              "3     56    1   1       120   236    0        1      178      0    0.800   \n",
              "4     57    0   0       120   354    0        1      163      1    0.600   \n",
              "..   ...  ...  ..       ...   ...  ...      ...      ...    ...      ...   \n",
              "298   57    0   0       140   241    0        1      123      1    0.200   \n",
              "299   45    1   3       110   264    0        1      132      0    1.200   \n",
              "300   68    1   0       144   193    1        1      141      0    3.400   \n",
              "301   57    1   0       130   131    0        1      115      1    1.200   \n",
              "302   57    0   1       130   236    0        0      174      0    0.000   \n",
              "\n",
              "     slope  ca  thal  target  \n",
              "0        0   0     1       1  \n",
              "1        0   0     2       1  \n",
              "2        2   0     2       1  \n",
              "3        2   0     2       1  \n",
              "4        2   0     2       1  \n",
              "..     ...  ..   ...     ...  \n",
              "298      1   0     3       0  \n",
              "299      1   0     3       0  \n",
              "300      1   2     3       0  \n",
              "301      1   1     3       0  \n",
              "302      1   1     2       0  \n",
              "\n",
              "[303 rows x 14 columns]"
            ]
          },
          "execution_count": 2,
          "metadata": {},
          "output_type": "execute_result"
        }
      ],
      "source": [
        "df = pd.read_csv(\"heart.csv\")\n",
        "df"
      ]
    },
    {
      "cell_type": "code",
      "execution_count": null,
      "id": "baee156e",
      "metadata": {
        "id": "baee156e",
        "outputId": "ece1b256-ca3b-49cb-9ad3-9247e394c692"
      },
      "outputs": [
        {
          "name": "stdout",
          "output_type": "stream",
          "text": [
            "<class 'pandas.core.frame.DataFrame'>\n",
            "RangeIndex: 303 entries, 0 to 302\n",
            "Data columns (total 14 columns):\n",
            " #   Column    Non-Null Count  Dtype  \n",
            "---  ------    --------------  -----  \n",
            " 0   age       303 non-null    int64  \n",
            " 1   sex       303 non-null    int64  \n",
            " 2   cp        303 non-null    int64  \n",
            " 3   trestbps  303 non-null    int64  \n",
            " 4   chol      303 non-null    int64  \n",
            " 5   fbs       303 non-null    int64  \n",
            " 6   restecg   303 non-null    int64  \n",
            " 7   thalach   303 non-null    int64  \n",
            " 8   exang     303 non-null    int64  \n",
            " 9   oldpeak   303 non-null    float64\n",
            " 10  slope     303 non-null    int64  \n",
            " 11  ca        303 non-null    int64  \n",
            " 12  thal      303 non-null    int64  \n",
            " 13  target    303 non-null    int64  \n",
            "dtypes: float64(1), int64(13)\n",
            "memory usage: 33.3 KB\n"
          ]
        }
      ],
      "source": [
        "df.info()"
      ]
    },
    {
      "cell_type": "code",
      "execution_count": null,
      "id": "2868dac5",
      "metadata": {
        "id": "2868dac5",
        "outputId": "5721a92c-968c-46d7-cfbb-80036a306566"
      },
      "outputs": [
        {
          "data": {
            "text/html": [
              "<div>\n",
              "<style scoped>\n",
              "    .dataframe tbody tr th:only-of-type {\n",
              "        vertical-align: middle;\n",
              "    }\n",
              "\n",
              "    .dataframe tbody tr th {\n",
              "        vertical-align: top;\n",
              "    }\n",
              "\n",
              "    .dataframe thead th {\n",
              "        text-align: right;\n",
              "    }\n",
              "</style>\n",
              "<table border=\"1\" class=\"dataframe\">\n",
              "  <thead>\n",
              "    <tr style=\"text-align: right;\">\n",
              "      <th></th>\n",
              "      <th>age</th>\n",
              "      <th>sex</th>\n",
              "      <th>cp</th>\n",
              "      <th>trestbps</th>\n",
              "      <th>chol</th>\n",
              "      <th>fbs</th>\n",
              "      <th>restecg</th>\n",
              "      <th>thalach</th>\n",
              "      <th>exang</th>\n",
              "      <th>oldpeak</th>\n",
              "      <th>slope</th>\n",
              "      <th>ca</th>\n",
              "      <th>thal</th>\n",
              "      <th>target</th>\n",
              "    </tr>\n",
              "  </thead>\n",
              "  <tbody>\n",
              "    <tr>\n",
              "      <th>count</th>\n",
              "      <td>303.000</td>\n",
              "      <td>303.000</td>\n",
              "      <td>303.000</td>\n",
              "      <td>303.000</td>\n",
              "      <td>303.000</td>\n",
              "      <td>303.000</td>\n",
              "      <td>303.000</td>\n",
              "      <td>303.000</td>\n",
              "      <td>303.000</td>\n",
              "      <td>303.000</td>\n",
              "      <td>303.000</td>\n",
              "      <td>303.000</td>\n",
              "      <td>303.000</td>\n",
              "      <td>303.000</td>\n",
              "    </tr>\n",
              "    <tr>\n",
              "      <th>mean</th>\n",
              "      <td>54.366</td>\n",
              "      <td>0.683</td>\n",
              "      <td>0.967</td>\n",
              "      <td>131.624</td>\n",
              "      <td>246.264</td>\n",
              "      <td>0.149</td>\n",
              "      <td>0.528</td>\n",
              "      <td>149.647</td>\n",
              "      <td>0.327</td>\n",
              "      <td>1.040</td>\n",
              "      <td>1.399</td>\n",
              "      <td>0.729</td>\n",
              "      <td>2.314</td>\n",
              "      <td>0.545</td>\n",
              "    </tr>\n",
              "    <tr>\n",
              "      <th>std</th>\n",
              "      <td>9.082</td>\n",
              "      <td>0.466</td>\n",
              "      <td>1.032</td>\n",
              "      <td>17.538</td>\n",
              "      <td>51.831</td>\n",
              "      <td>0.356</td>\n",
              "      <td>0.526</td>\n",
              "      <td>22.905</td>\n",
              "      <td>0.470</td>\n",
              "      <td>1.161</td>\n",
              "      <td>0.616</td>\n",
              "      <td>1.023</td>\n",
              "      <td>0.612</td>\n",
              "      <td>0.499</td>\n",
              "    </tr>\n",
              "    <tr>\n",
              "      <th>min</th>\n",
              "      <td>29.000</td>\n",
              "      <td>0.000</td>\n",
              "      <td>0.000</td>\n",
              "      <td>94.000</td>\n",
              "      <td>126.000</td>\n",
              "      <td>0.000</td>\n",
              "      <td>0.000</td>\n",
              "      <td>71.000</td>\n",
              "      <td>0.000</td>\n",
              "      <td>0.000</td>\n",
              "      <td>0.000</td>\n",
              "      <td>0.000</td>\n",
              "      <td>0.000</td>\n",
              "      <td>0.000</td>\n",
              "    </tr>\n",
              "    <tr>\n",
              "      <th>25%</th>\n",
              "      <td>47.500</td>\n",
              "      <td>0.000</td>\n",
              "      <td>0.000</td>\n",
              "      <td>120.000</td>\n",
              "      <td>211.000</td>\n",
              "      <td>0.000</td>\n",
              "      <td>0.000</td>\n",
              "      <td>133.500</td>\n",
              "      <td>0.000</td>\n",
              "      <td>0.000</td>\n",
              "      <td>1.000</td>\n",
              "      <td>0.000</td>\n",
              "      <td>2.000</td>\n",
              "      <td>0.000</td>\n",
              "    </tr>\n",
              "    <tr>\n",
              "      <th>50%</th>\n",
              "      <td>55.000</td>\n",
              "      <td>1.000</td>\n",
              "      <td>1.000</td>\n",
              "      <td>130.000</td>\n",
              "      <td>240.000</td>\n",
              "      <td>0.000</td>\n",
              "      <td>1.000</td>\n",
              "      <td>153.000</td>\n",
              "      <td>0.000</td>\n",
              "      <td>0.800</td>\n",
              "      <td>1.000</td>\n",
              "      <td>0.000</td>\n",
              "      <td>2.000</td>\n",
              "      <td>1.000</td>\n",
              "    </tr>\n",
              "    <tr>\n",
              "      <th>75%</th>\n",
              "      <td>61.000</td>\n",
              "      <td>1.000</td>\n",
              "      <td>2.000</td>\n",
              "      <td>140.000</td>\n",
              "      <td>274.500</td>\n",
              "      <td>0.000</td>\n",
              "      <td>1.000</td>\n",
              "      <td>166.000</td>\n",
              "      <td>1.000</td>\n",
              "      <td>1.600</td>\n",
              "      <td>2.000</td>\n",
              "      <td>1.000</td>\n",
              "      <td>3.000</td>\n",
              "      <td>1.000</td>\n",
              "    </tr>\n",
              "    <tr>\n",
              "      <th>max</th>\n",
              "      <td>77.000</td>\n",
              "      <td>1.000</td>\n",
              "      <td>3.000</td>\n",
              "      <td>200.000</td>\n",
              "      <td>564.000</td>\n",
              "      <td>1.000</td>\n",
              "      <td>2.000</td>\n",
              "      <td>202.000</td>\n",
              "      <td>1.000</td>\n",
              "      <td>6.200</td>\n",
              "      <td>2.000</td>\n",
              "      <td>4.000</td>\n",
              "      <td>3.000</td>\n",
              "      <td>1.000</td>\n",
              "    </tr>\n",
              "  </tbody>\n",
              "</table>\n",
              "</div>"
            ],
            "text/plain": [
              "          age     sex      cp  trestbps    chol     fbs  restecg  thalach  \\\n",
              "count 303.000 303.000 303.000   303.000 303.000 303.000  303.000  303.000   \n",
              "mean   54.366   0.683   0.967   131.624 246.264   0.149    0.528  149.647   \n",
              "std     9.082   0.466   1.032    17.538  51.831   0.356    0.526   22.905   \n",
              "min    29.000   0.000   0.000    94.000 126.000   0.000    0.000   71.000   \n",
              "25%    47.500   0.000   0.000   120.000 211.000   0.000    0.000  133.500   \n",
              "50%    55.000   1.000   1.000   130.000 240.000   0.000    1.000  153.000   \n",
              "75%    61.000   1.000   2.000   140.000 274.500   0.000    1.000  166.000   \n",
              "max    77.000   1.000   3.000   200.000 564.000   1.000    2.000  202.000   \n",
              "\n",
              "        exang  oldpeak   slope      ca    thal  target  \n",
              "count 303.000  303.000 303.000 303.000 303.000 303.000  \n",
              "mean    0.327    1.040   1.399   0.729   2.314   0.545  \n",
              "std     0.470    1.161   0.616   1.023   0.612   0.499  \n",
              "min     0.000    0.000   0.000   0.000   0.000   0.000  \n",
              "25%     0.000    0.000   1.000   0.000   2.000   0.000  \n",
              "50%     0.000    0.800   1.000   0.000   2.000   1.000  \n",
              "75%     1.000    1.600   2.000   1.000   3.000   1.000  \n",
              "max     1.000    6.200   2.000   4.000   3.000   1.000  "
            ]
          },
          "execution_count": 4,
          "metadata": {},
          "output_type": "execute_result"
        }
      ],
      "source": [
        "df.describe()"
      ]
    },
    {
      "cell_type": "markdown",
      "id": "v64txbyYwhzL",
      "metadata": {
        "id": "v64txbyYwhzL"
      },
      "source": [
        "# EDA"
      ]
    },
    {
      "cell_type": "code",
      "execution_count": null,
      "id": "5b303aed",
      "metadata": {
        "id": "5b303aed",
        "outputId": "aaad1958-8b54-474a-97c1-2c1e1952e1df"
      },
      "outputs": [
        {
          "data": {
            "text/plain": [
              "1    165\n",
              "0    138\n",
              "Name: target, dtype: int64"
            ]
          },
          "execution_count": 5,
          "metadata": {},
          "output_type": "execute_result"
        }
      ],
      "source": [
        "df[\"target\"].value_counts()"
      ]
    },
    {
      "cell_type": "code",
      "execution_count": null,
      "id": "2ee12034",
      "metadata": {
        "id": "2ee12034",
        "outputId": "2cea233f-c280-414a-fc4b-e40aaa8eeb69"
      },
      "outputs": [
        {
          "name": "stderr",
          "output_type": "stream",
          "text": [
            "C:\\Users\\teffa\\anaconda3\\lib\\site-packages\\seaborn\\_decorators.py:36: FutureWarning: Pass the following variable as a keyword arg: x. From version 0.12, the only valid positional argument will be `data`, and passing other arguments without an explicit keyword will result in an error or misinterpretation.\n",
            "  warnings.warn(\n"
          ]
        },
        {
          "data": {
            "image/png": "[encoded data removed]",
            "text/plain": [
              "<Figure size 720x432 with 1 Axes>"
            ]
          },
          "metadata": {
            "needs_background": "light"
          },
          "output_type": "display_data"
        }
      ],
      "source": [
        "ax = sns.countplot(df['target'])\n",
        "ax.spines['top'].set_visible(False)\n",
        "ax.spines['right'].set_visible(False)\n",
        "for p in ax.patches:\n",
        "    ax.annotate(str(p.get_height()), (p.get_x() + 0.3, p.get_height() * 1.03));"
      ]
    },
    {
      "cell_type": "code",
      "execution_count": null,
      "id": "b06b18c8",
      "metadata": {
        "id": "b06b18c8",
        "outputId": "5509b5b5-dd68-4864-9afa-e4978f0d44b4"
      },
      "outputs": [
        {
          "data": {
            "image/png": "[encoded data removed]",
            "text/plain": [
              "<Figure size 720x432 with 2 Axes>"
            ]
          },
          "metadata": {
            "needs_background": "light"
          },
          "output_type": "display_data"
        }
      ],
      "source": [
        "sns.heatmap(df.corr(), annot=True);"
      ]
    },
    {
      "cell_type": "code",
      "execution_count": null,
      "id": "b143d0cc",
      "metadata": {
        "id": "b143d0cc",
        "outputId": "9b6d9551-e64e-444c-f879-8ebff910240c"
      },
      "outputs": [
        {
          "data": {
            "image/png": "[encoded data removed]",
            "text/plain": [
              "<Figure size 1440x1440 with 13 Axes>"
            ]
          },
          "metadata": {
            "needs_background": "light"
          },
          "output_type": "display_data"
        }
      ],
      "source": [
        "index = 0\n",
        "plt.figure(figsize=(20,20))\n",
        "for feature in df.columns :\n",
        "    if feature != 'target' :\n",
        "        index += 1\n",
        "        plt.subplot(5,5,index)\n",
        "        sns.boxplot(x = 'target', y = feature, data = df)\n"
      ]
    },
    {
      "cell_type": "code",
      "execution_count": null,
      "id": "e84b558a",
      "metadata": {
        "id": "e84b558a",
        "outputId": "ec4865ca-e053-453e-8137-683aa3b7f409"
      },
      "outputs": [
        {
          "data": {
            "image/png": "[encoded data removed]",
            "text/plain": [
              "<Figure size 720x432 with 1 Axes>"
            ]
          },
          "metadata": {
            "needs_background": "light"
          },
          "output_type": "display_data"
        }
      ],
      "source": [
        "df.corr()[\"target\"].drop(\"target\").sort_values().plot.barh();\n"
      ]
    },
    {
      "cell_type": "markdown",
      "id": "9XRYs7_ZwvG1",
      "metadata": {
        "id": "9XRYs7_ZwvG1"
      },
      "source": [
        "# Data Preprocessing"
      ]
    },
    {
      "cell_type": "code",
      "execution_count": null,
      "id": "2dcdb063",
      "metadata": {
        "id": "2dcdb063"
      },
      "outputs": [],
      "source": [
        "X = df.drop('target',axis=1)\n",
        "y = df['target']"
      ]
    },
    {
      "cell_type": "code",
      "execution_count": null,
      "id": "409d4da5",
      "metadata": {
        "id": "409d4da5"
      },
      "outputs": [],
      "source": [
        "X_train, X_test, y_train, y_test = train_test_split(X, y, test_size=0.2, random_state=101)"
      ]
    },
    {
      "cell_type": "code",
      "execution_count": null,
      "id": "9f850aee",
      "metadata": {
        "id": "9f850aee"
      },
      "outputs": [],
      "source": [
        "from sklearn.model_selection import train_test_split\n",
        "from sklearn.preprocessing import MinMaxScaler"
      ]
    },
    {
      "cell_type": "code",
      "execution_count": null,
      "id": "5f7980f3",
      "metadata": {
        "id": "5f7980f3"
      },
      "outputs": [],
      "source": [
        "scaler = MinMaxScaler()"
      ]
    },
    {
      "cell_type": "code",
      "execution_count": null,
      "id": "d3d1a6cd",
      "metadata": {
        "id": "d3d1a6cd"
      },
      "outputs": [],
      "source": [
        "X_train_scaled = scaler.fit_transform(X_train)\n",
        "X_test_scaled = scaler.transform(X_test)"
      ]
    },
    {
      "cell_type": "markdown",
      "id": "jeBjgfDiw6uJ",
      "metadata": {
        "id": "jeBjgfDiw6uJ"
      },
      "source": [
        "# Implement Logistic Regression and Evaluate"
      ]
    },
    {
      "cell_type": "code",
      "execution_count": null,
      "id": "f7f6864d-dfad-433b-a2a5-fd7e92865fd0",
      "metadata": {
        "id": "f7f6864d-dfad-433b-a2a5-fd7e92865fd0"
      },
      "outputs": [],
      "source": [
        "from sklearn.linear_model import LogisticRegression"
      ]
    },
    {
      "cell_type": "code",
      "execution_count": null,
      "id": "6c33b312",
      "metadata": {
        "id": "6c33b312"
      },
      "outputs": [],
      "source": [
        "log_model = LogisticRegression()"
      ]
    },
    {
      "cell_type": "code",
      "execution_count": null,
      "id": "100e6660",
      "metadata": {
        "id": "100e6660",
        "outputId": "ebf4f7e5-719f-4f36-e1ac-a0554ee18e4c"
      },
      "outputs": [
        {
          "data": {
            "text/plain": [
              "LogisticRegression()"
            ]
          },
          "execution_count": 17,
          "metadata": {},
          "output_type": "execute_result"
        }
      ],
      "source": [
        "log_model.fit(X_train_scaled, y_train)"
      ]
    },
    {
      "cell_type": "code",
      "execution_count": null,
      "id": "1e8e7126",
      "metadata": {
        "id": "1e8e7126",
        "outputId": "a1647fe1-0e82-4479-d8db-27a821d23a5e"
      },
      "outputs": [
        {
          "data": {
            "text/plain": [
              "array([0, 1, 1, 1, 0, 1, 1, 0, 0, 1, 0, 1, 0, 0, 1, 1, 1, 1, 1, 0, 0, 1,\n",
              "       1, 1, 1, 1, 0, 1, 0, 0, 0, 1, 0, 0, 1, 1, 1, 1, 1, 1, 0, 1, 1, 1,\n",
              "       0, 1, 0, 1, 1, 0, 0, 1, 0, 1, 1, 0, 0, 1, 0, 0, 1], dtype=int64)"
            ]
          },
          "execution_count": 18,
          "metadata": {},
          "output_type": "execute_result"
        }
      ],
      "source": [
        "y_pred = log_model.predict(X_test_scaled)\n",
        "y_pred"
      ]
    },
    {
      "cell_type": "code",
      "execution_count": null,
      "id": "4a9fe74f",
      "metadata": {
        "id": "4a9fe74f",
        "outputId": "c8c2ec74-9012-4819-df08-031b5485b33a"
      },
      "outputs": [
        {
          "data": {
            "text/plain": [
              "array([[0.97231009, 0.02768991],\n",
              "       [0.17102381, 0.82897619],\n",
              "       [0.31666738, 0.68333262],\n",
              "       [0.05706165, 0.94293835],\n",
              "       [0.94517392, 0.05482608],\n",
              "       [0.1640271 , 0.8359729 ],\n",
              "       [0.10202914, 0.89797086],\n",
              "       [0.94785969, 0.05214031],\n",
              "       [0.88030536, 0.11969464],\n",
              "       [0.22319242, 0.77680758],\n",
              "       [0.92346026, 0.07653974],\n",
              "       [0.3753912 , 0.6246088 ],\n",
              "       [0.91110754, 0.08889246],\n",
              "       [0.63542722, 0.36457278],\n",
              "       [0.10301309, 0.89698691],\n",
              "       [0.27667491, 0.72332509],\n",
              "       [0.03550222, 0.96449778],\n",
              "       [0.32499826, 0.67500174],\n",
              "       [0.24571371, 0.75428629],\n",
              "       [0.93893583, 0.06106417],\n",
              "       [0.96275468, 0.03724532],\n",
              "       [0.349577  , 0.650423  ],\n",
              "       [0.44692902, 0.55307098],\n",
              "       [0.26518983, 0.73481017],\n",
              "       [0.48315305, 0.51684695],\n",
              "       [0.07645178, 0.92354822],\n",
              "       [0.94039295, 0.05960705],\n",
              "       [0.19451839, 0.80548161],\n",
              "       [0.93176449, 0.06823551],\n",
              "       [0.8607522 , 0.1392478 ],\n",
              "       [0.95512808, 0.04487192],\n",
              "       [0.36787943, 0.63212057],\n",
              "       [0.8522903 , 0.1477097 ],\n",
              "       [0.51052186, 0.48947814],\n",
              "       [0.07327882, 0.92672118],\n",
              "       [0.48417171, 0.51582829],\n",
              "       [0.12698499, 0.87301501],\n",
              "       [0.26677639, 0.73322361],\n",
              "       [0.16022745, 0.83977255],\n",
              "       [0.10401515, 0.89598485],\n",
              "       [0.69540768, 0.30459232],\n",
              "       [0.14307566, 0.85692434],\n",
              "       [0.0952086 , 0.9047914 ],\n",
              "       [0.32396117, 0.67603883],\n",
              "       [0.51229334, 0.48770666],\n",
              "       [0.4236081 , 0.5763919 ],\n",
              "       [0.74852667, 0.25147333],\n",
              "       [0.05642557, 0.94357443],\n",
              "       [0.01733132, 0.98266868],\n",
              "       [0.76461368, 0.23538632],\n",
              "       [0.94718889, 0.05281111],\n",
              "       [0.33898447, 0.66101553],\n",
              "       [0.93256672, 0.06743328],\n",
              "       [0.07643207, 0.92356793],\n",
              "       [0.2427879 , 0.7572121 ],\n",
              "       [0.8200317 , 0.1799683 ],\n",
              "       [0.84600903, 0.15399097],\n",
              "       [0.02139827, 0.97860173],\n",
              "       [0.96137132, 0.03862868],\n",
              "       [0.88492394, 0.11507606],\n",
              "       [0.18226632, 0.81773368]])"
            ]
          },
          "execution_count": 19,
          "metadata": {},
          "output_type": "execute_result"
        }
      ],
      "source": [
        "y_pred_proba = log_model.predict_proba(X_test_scaled)\n",
        "y_pred_proba"
      ]
    },
    {
      "cell_type": "code",
      "execution_count": null,
      "id": "82d10f26",
      "metadata": {
        "id": "82d10f26",
        "outputId": "2c469fb9-53f5-448d-aee5-4ab4d5c0dacf"
      },
      "outputs": [
        {
          "data": {
            "text/html": [
              "<div>\n",
              "<style scoped>\n",
              "    .dataframe tbody tr th:only-of-type {\n",
              "        vertical-align: middle;\n",
              "    }\n",
              "\n",
              "    .dataframe tbody tr th {\n",
              "        vertical-align: top;\n",
              "    }\n",
              "\n",
              "    .dataframe thead th {\n",
              "        text-align: right;\n",
              "    }\n",
              "</style>\n",
              "<table border=\"1\" class=\"dataframe\">\n",
              "  <thead>\n",
              "    <tr style=\"text-align: right;\">\n",
              "      <th></th>\n",
              "      <th>age</th>\n",
              "      <th>sex</th>\n",
              "      <th>cp</th>\n",
              "      <th>trestbps</th>\n",
              "      <th>chol</th>\n",
              "      <th>fbs</th>\n",
              "      <th>restecg</th>\n",
              "      <th>thalach</th>\n",
              "      <th>exang</th>\n",
              "      <th>oldpeak</th>\n",
              "      <th>slope</th>\n",
              "      <th>ca</th>\n",
              "      <th>thal</th>\n",
              "      <th>target</th>\n",
              "    </tr>\n",
              "  </thead>\n",
              "  <tbody>\n",
              "    <tr>\n",
              "      <th>221</th>\n",
              "      <td>55</td>\n",
              "      <td>1</td>\n",
              "      <td>0</td>\n",
              "      <td>140</td>\n",
              "      <td>217</td>\n",
              "      <td>0</td>\n",
              "      <td>1</td>\n",
              "      <td>111</td>\n",
              "      <td>1</td>\n",
              "      <td>5.600</td>\n",
              "      <td>0</td>\n",
              "      <td>0</td>\n",
              "      <td>3</td>\n",
              "      <td>0</td>\n",
              "    </tr>\n",
              "    <tr>\n",
              "      <th>8</th>\n",
              "      <td>52</td>\n",
              "      <td>1</td>\n",
              "      <td>2</td>\n",
              "      <td>172</td>\n",
              "      <td>199</td>\n",
              "      <td>1</td>\n",
              "      <td>1</td>\n",
              "      <td>162</td>\n",
              "      <td>0</td>\n",
              "      <td>0.500</td>\n",
              "      <td>2</td>\n",
              "      <td>0</td>\n",
              "      <td>3</td>\n",
              "      <td>1</td>\n",
              "    </tr>\n",
              "    <tr>\n",
              "      <th>89</th>\n",
              "      <td>58</td>\n",
              "      <td>0</td>\n",
              "      <td>0</td>\n",
              "      <td>100</td>\n",
              "      <td>248</td>\n",
              "      <td>0</td>\n",
              "      <td>0</td>\n",
              "      <td>122</td>\n",
              "      <td>0</td>\n",
              "      <td>1.000</td>\n",
              "      <td>1</td>\n",
              "      <td>0</td>\n",
              "      <td>2</td>\n",
              "      <td>1</td>\n",
              "    </tr>\n",
              "    <tr>\n",
              "      <th>154</th>\n",
              "      <td>39</td>\n",
              "      <td>0</td>\n",
              "      <td>2</td>\n",
              "      <td>138</td>\n",
              "      <td>220</td>\n",
              "      <td>0</td>\n",
              "      <td>1</td>\n",
              "      <td>152</td>\n",
              "      <td>0</td>\n",
              "      <td>0.000</td>\n",
              "      <td>1</td>\n",
              "      <td>0</td>\n",
              "      <td>2</td>\n",
              "      <td>1</td>\n",
              "    </tr>\n",
              "    <tr>\n",
              "      <th>201</th>\n",
              "      <td>60</td>\n",
              "      <td>1</td>\n",
              "      <td>0</td>\n",
              "      <td>125</td>\n",
              "      <td>258</td>\n",
              "      <td>0</td>\n",
              "      <td>0</td>\n",
              "      <td>141</td>\n",
              "      <td>1</td>\n",
              "      <td>2.800</td>\n",
              "      <td>1</td>\n",
              "      <td>1</td>\n",
              "      <td>3</td>\n",
              "      <td>0</td>\n",
              "    </tr>\n",
              "    <tr>\n",
              "      <th>...</th>\n",
              "      <td>...</td>\n",
              "      <td>...</td>\n",
              "      <td>...</td>\n",
              "      <td>...</td>\n",
              "      <td>...</td>\n",
              "      <td>...</td>\n",
              "      <td>...</td>\n",
              "      <td>...</td>\n",
              "      <td>...</td>\n",
              "      <td>...</td>\n",
              "      <td>...</td>\n",
              "      <td>...</td>\n",
              "      <td>...</td>\n",
              "      <td>...</td>\n",
              "    </tr>\n",
              "    <tr>\n",
              "      <th>202</th>\n",
              "      <td>58</td>\n",
              "      <td>1</td>\n",
              "      <td>0</td>\n",
              "      <td>150</td>\n",
              "      <td>270</td>\n",
              "      <td>0</td>\n",
              "      <td>0</td>\n",
              "      <td>111</td>\n",
              "      <td>1</td>\n",
              "      <td>0.800</td>\n",
              "      <td>2</td>\n",
              "      <td>0</td>\n",
              "      <td>3</td>\n",
              "      <td>0</td>\n",
              "    </tr>\n",
              "    <tr>\n",
              "      <th>48</th>\n",
              "      <td>53</td>\n",
              "      <td>0</td>\n",
              "      <td>2</td>\n",
              "      <td>128</td>\n",
              "      <td>216</td>\n",
              "      <td>0</td>\n",
              "      <td>0</td>\n",
              "      <td>115</td>\n",
              "      <td>0</td>\n",
              "      <td>0.000</td>\n",
              "      <td>2</td>\n",
              "      <td>0</td>\n",
              "      <td>0</td>\n",
              "      <td>1</td>\n",
              "    </tr>\n",
              "    <tr>\n",
              "      <th>255</th>\n",
              "      <td>45</td>\n",
              "      <td>1</td>\n",
              "      <td>0</td>\n",
              "      <td>142</td>\n",
              "      <td>309</td>\n",
              "      <td>0</td>\n",
              "      <td>0</td>\n",
              "      <td>147</td>\n",
              "      <td>1</td>\n",
              "      <td>0.000</td>\n",
              "      <td>1</td>\n",
              "      <td>3</td>\n",
              "      <td>3</td>\n",
              "      <td>0</td>\n",
              "    </tr>\n",
              "    <tr>\n",
              "      <th>178</th>\n",
              "      <td>43</td>\n",
              "      <td>1</td>\n",
              "      <td>0</td>\n",
              "      <td>120</td>\n",
              "      <td>177</td>\n",
              "      <td>0</td>\n",
              "      <td>0</td>\n",
              "      <td>120</td>\n",
              "      <td>1</td>\n",
              "      <td>2.500</td>\n",
              "      <td>1</td>\n",
              "      <td>0</td>\n",
              "      <td>3</td>\n",
              "      <td>0</td>\n",
              "    </tr>\n",
              "    <tr>\n",
              "      <th>153</th>\n",
              "      <td>66</td>\n",
              "      <td>0</td>\n",
              "      <td>2</td>\n",
              "      <td>146</td>\n",
              "      <td>278</td>\n",
              "      <td>0</td>\n",
              "      <td>0</td>\n",
              "      <td>152</td>\n",
              "      <td>0</td>\n",
              "      <td>0.000</td>\n",
              "      <td>1</td>\n",
              "      <td>1</td>\n",
              "      <td>2</td>\n",
              "      <td>1</td>\n",
              "    </tr>\n",
              "  </tbody>\n",
              "</table>\n",
              "<p>61 rows × 14 columns</p>\n",
              "</div>"
            ],
            "text/plain": [
              "     age  sex  cp  trestbps  chol  fbs  restecg  thalach  exang  oldpeak  \\\n",
              "221   55    1   0       140   217    0        1      111      1    5.600   \n",
              "8     52    1   2       172   199    1        1      162      0    0.500   \n",
              "89    58    0   0       100   248    0        0      122      0    1.000   \n",
              "154   39    0   2       138   220    0        1      152      0    0.000   \n",
              "201   60    1   0       125   258    0        0      141      1    2.800   \n",
              "..   ...  ...  ..       ...   ...  ...      ...      ...    ...      ...   \n",
              "202   58    1   0       150   270    0        0      111      1    0.800   \n",
              "48    53    0   2       128   216    0        0      115      0    0.000   \n",
              "255   45    1   0       142   309    0        0      147      1    0.000   \n",
              "178   43    1   0       120   177    0        0      120      1    2.500   \n",
              "153   66    0   2       146   278    0        0      152      0    0.000   \n",
              "\n",
              "     slope  ca  thal  target  \n",
              "221      0   0     3       0  \n",
              "8        2   0     3       1  \n",
              "89       1   0     2       1  \n",
              "154      1   0     2       1  \n",
              "201      1   1     3       0  \n",
              "..     ...  ..   ...     ...  \n",
              "202      2   0     3       0  \n",
              "48       2   0     0       1  \n",
              "255      1   3     3       0  \n",
              "178      1   0     3       0  \n",
              "153      1   1     2       1  \n",
              "\n",
              "[61 rows x 14 columns]"
            ]
          },
          "execution_count": 20,
          "metadata": {},
          "output_type": "execute_result"
        }
      ],
      "source": [
        "test_data = pd.concat([X_test, y_test], axis=1)\n",
        "test_data"
      ]
    },
    {
      "cell_type": "code",
      "execution_count": null,
      "id": "59c6878b",
      "metadata": {
        "id": "59c6878b",
        "outputId": "0f6afcc5-d1d3-4403-d793-57b09b253358"
      },
      "outputs": [
        {
          "data": {
            "text/html": [
              "<div>\n",
              "<style scoped>\n",
              "    .dataframe tbody tr th:only-of-type {\n",
              "        vertical-align: middle;\n",
              "    }\n",
              "\n",
              "    .dataframe tbody tr th {\n",
              "        vertical-align: top;\n",
              "    }\n",
              "\n",
              "    .dataframe thead th {\n",
              "        text-align: right;\n",
              "    }\n",
              "</style>\n",
              "<table border=\"1\" class=\"dataframe\">\n",
              "  <thead>\n",
              "    <tr style=\"text-align: right;\">\n",
              "      <th></th>\n",
              "      <th>age</th>\n",
              "      <th>sex</th>\n",
              "      <th>cp</th>\n",
              "      <th>trestbps</th>\n",
              "      <th>chol</th>\n",
              "      <th>fbs</th>\n",
              "      <th>restecg</th>\n",
              "      <th>thalach</th>\n",
              "      <th>exang</th>\n",
              "      <th>oldpeak</th>\n",
              "      <th>slope</th>\n",
              "      <th>ca</th>\n",
              "      <th>thal</th>\n",
              "      <th>target</th>\n",
              "      <th>pred_proba</th>\n",
              "    </tr>\n",
              "  </thead>\n",
              "  <tbody>\n",
              "    <tr>\n",
              "      <th>221</th>\n",
              "      <td>55</td>\n",
              "      <td>1</td>\n",
              "      <td>0</td>\n",
              "      <td>140</td>\n",
              "      <td>217</td>\n",
              "      <td>0</td>\n",
              "      <td>1</td>\n",
              "      <td>111</td>\n",
              "      <td>1</td>\n",
              "      <td>5.600</td>\n",
              "      <td>0</td>\n",
              "      <td>0</td>\n",
              "      <td>3</td>\n",
              "      <td>0</td>\n",
              "      <td>0.028</td>\n",
              "    </tr>\n",
              "    <tr>\n",
              "      <th>8</th>\n",
              "      <td>52</td>\n",
              "      <td>1</td>\n",
              "      <td>2</td>\n",
              "      <td>172</td>\n",
              "      <td>199</td>\n",
              "      <td>1</td>\n",
              "      <td>1</td>\n",
              "      <td>162</td>\n",
              "      <td>0</td>\n",
              "      <td>0.500</td>\n",
              "      <td>2</td>\n",
              "      <td>0</td>\n",
              "      <td>3</td>\n",
              "      <td>1</td>\n",
              "      <td>0.829</td>\n",
              "    </tr>\n",
              "    <tr>\n",
              "      <th>89</th>\n",
              "      <td>58</td>\n",
              "      <td>0</td>\n",
              "      <td>0</td>\n",
              "      <td>100</td>\n",
              "      <td>248</td>\n",
              "      <td>0</td>\n",
              "      <td>0</td>\n",
              "      <td>122</td>\n",
              "      <td>0</td>\n",
              "      <td>1.000</td>\n",
              "      <td>1</td>\n",
              "      <td>0</td>\n",
              "      <td>2</td>\n",
              "      <td>1</td>\n",
              "      <td>0.683</td>\n",
              "    </tr>\n",
              "    <tr>\n",
              "      <th>154</th>\n",
              "      <td>39</td>\n",
              "      <td>0</td>\n",
              "      <td>2</td>\n",
              "      <td>138</td>\n",
              "      <td>220</td>\n",
              "      <td>0</td>\n",
              "      <td>1</td>\n",
              "      <td>152</td>\n",
              "      <td>0</td>\n",
              "      <td>0.000</td>\n",
              "      <td>1</td>\n",
              "      <td>0</td>\n",
              "      <td>2</td>\n",
              "      <td>1</td>\n",
              "      <td>0.943</td>\n",
              "    </tr>\n",
              "    <tr>\n",
              "      <th>201</th>\n",
              "      <td>60</td>\n",
              "      <td>1</td>\n",
              "      <td>0</td>\n",
              "      <td>125</td>\n",
              "      <td>258</td>\n",
              "      <td>0</td>\n",
              "      <td>0</td>\n",
              "      <td>141</td>\n",
              "      <td>1</td>\n",
              "      <td>2.800</td>\n",
              "      <td>1</td>\n",
              "      <td>1</td>\n",
              "      <td>3</td>\n",
              "      <td>0</td>\n",
              "      <td>0.055</td>\n",
              "    </tr>\n",
              "    <tr>\n",
              "      <th>...</th>\n",
              "      <td>...</td>\n",
              "      <td>...</td>\n",
              "      <td>...</td>\n",
              "      <td>...</td>\n",
              "      <td>...</td>\n",
              "      <td>...</td>\n",
              "      <td>...</td>\n",
              "      <td>...</td>\n",
              "      <td>...</td>\n",
              "      <td>...</td>\n",
              "      <td>...</td>\n",
              "      <td>...</td>\n",
              "      <td>...</td>\n",
              "      <td>...</td>\n",
              "      <td>...</td>\n",
              "    </tr>\n",
              "    <tr>\n",
              "      <th>202</th>\n",
              "      <td>58</td>\n",
              "      <td>1</td>\n",
              "      <td>0</td>\n",
              "      <td>150</td>\n",
              "      <td>270</td>\n",
              "      <td>0</td>\n",
              "      <td>0</td>\n",
              "      <td>111</td>\n",
              "      <td>1</td>\n",
              "      <td>0.800</td>\n",
              "      <td>2</td>\n",
              "      <td>0</td>\n",
              "      <td>3</td>\n",
              "      <td>0</td>\n",
              "      <td>0.154</td>\n",
              "    </tr>\n",
              "    <tr>\n",
              "      <th>48</th>\n",
              "      <td>53</td>\n",
              "      <td>0</td>\n",
              "      <td>2</td>\n",
              "      <td>128</td>\n",
              "      <td>216</td>\n",
              "      <td>0</td>\n",
              "      <td>0</td>\n",
              "      <td>115</td>\n",
              "      <td>0</td>\n",
              "      <td>0.000</td>\n",
              "      <td>2</td>\n",
              "      <td>0</td>\n",
              "      <td>0</td>\n",
              "      <td>1</td>\n",
              "      <td>0.979</td>\n",
              "    </tr>\n",
              "    <tr>\n",
              "      <th>255</th>\n",
              "      <td>45</td>\n",
              "      <td>1</td>\n",
              "      <td>0</td>\n",
              "      <td>142</td>\n",
              "      <td>309</td>\n",
              "      <td>0</td>\n",
              "      <td>0</td>\n",
              "      <td>147</td>\n",
              "      <td>1</td>\n",
              "      <td>0.000</td>\n",
              "      <td>1</td>\n",
              "      <td>3</td>\n",
              "      <td>3</td>\n",
              "      <td>0</td>\n",
              "      <td>0.039</td>\n",
              "    </tr>\n",
              "    <tr>\n",
              "      <th>178</th>\n",
              "      <td>43</td>\n",
              "      <td>1</td>\n",
              "      <td>0</td>\n",
              "      <td>120</td>\n",
              "      <td>177</td>\n",
              "      <td>0</td>\n",
              "      <td>0</td>\n",
              "      <td>120</td>\n",
              "      <td>1</td>\n",
              "      <td>2.500</td>\n",
              "      <td>1</td>\n",
              "      <td>0</td>\n",
              "      <td>3</td>\n",
              "      <td>0</td>\n",
              "      <td>0.115</td>\n",
              "    </tr>\n",
              "    <tr>\n",
              "      <th>153</th>\n",
              "      <td>66</td>\n",
              "      <td>0</td>\n",
              "      <td>2</td>\n",
              "      <td>146</td>\n",
              "      <td>278</td>\n",
              "      <td>0</td>\n",
              "      <td>0</td>\n",
              "      <td>152</td>\n",
              "      <td>0</td>\n",
              "      <td>0.000</td>\n",
              "      <td>1</td>\n",
              "      <td>1</td>\n",
              "      <td>2</td>\n",
              "      <td>1</td>\n",
              "      <td>0.818</td>\n",
              "    </tr>\n",
              "  </tbody>\n",
              "</table>\n",
              "<p>61 rows × 15 columns</p>\n",
              "</div>"
            ],
            "text/plain": [
              "     age  sex  cp  trestbps  chol  fbs  restecg  thalach  exang  oldpeak  \\\n",
              "221   55    1   0       140   217    0        1      111      1    5.600   \n",
              "8     52    1   2       172   199    1        1      162      0    0.500   \n",
              "89    58    0   0       100   248    0        0      122      0    1.000   \n",
              "154   39    0   2       138   220    0        1      152      0    0.000   \n",
              "201   60    1   0       125   258    0        0      141      1    2.800   \n",
              "..   ...  ...  ..       ...   ...  ...      ...      ...    ...      ...   \n",
              "202   58    1   0       150   270    0        0      111      1    0.800   \n",
              "48    53    0   2       128   216    0        0      115      0    0.000   \n",
              "255   45    1   0       142   309    0        0      147      1    0.000   \n",
              "178   43    1   0       120   177    0        0      120      1    2.500   \n",
              "153   66    0   2       146   278    0        0      152      0    0.000   \n",
              "\n",
              "     slope  ca  thal  target  pred_proba  \n",
              "221      0   0     3       0       0.028  \n",
              "8        2   0     3       1       0.829  \n",
              "89       1   0     2       1       0.683  \n",
              "154      1   0     2       1       0.943  \n",
              "201      1   1     3       0       0.055  \n",
              "..     ...  ..   ...     ...         ...  \n",
              "202      2   0     3       0       0.154  \n",
              "48       2   0     0       1       0.979  \n",
              "255      1   3     3       0       0.039  \n",
              "178      1   0     3       0       0.115  \n",
              "153      1   1     2       1       0.818  \n",
              "\n",
              "[61 rows x 15 columns]"
            ]
          },
          "execution_count": 21,
          "metadata": {},
          "output_type": "execute_result"
        }
      ],
      "source": [
        "test_data[\"pred_proba\"] = y_pred_proba[:,1]\n",
        "test_data"
      ]
    },
    {
      "cell_type": "code",
      "execution_count": null,
      "id": "86de85fa",
      "metadata": {
        "id": "86de85fa",
        "outputId": "abafae9a-abc1-4779-c7c9-9e48ad4d74b5"
      },
      "outputs": [
        {
          "data": {
            "text/html": [
              "<div>\n",
              "<style scoped>\n",
              "    .dataframe tbody tr th:only-of-type {\n",
              "        vertical-align: middle;\n",
              "    }\n",
              "\n",
              "    .dataframe tbody tr th {\n",
              "        vertical-align: top;\n",
              "    }\n",
              "\n",
              "    .dataframe thead th {\n",
              "        text-align: right;\n",
              "    }\n",
              "</style>\n",
              "<table border=\"1\" class=\"dataframe\">\n",
              "  <thead>\n",
              "    <tr style=\"text-align: right;\">\n",
              "      <th></th>\n",
              "      <th>age</th>\n",
              "      <th>sex</th>\n",
              "      <th>cp</th>\n",
              "      <th>trestbps</th>\n",
              "      <th>chol</th>\n",
              "      <th>fbs</th>\n",
              "      <th>restecg</th>\n",
              "      <th>thalach</th>\n",
              "      <th>exang</th>\n",
              "      <th>oldpeak</th>\n",
              "      <th>slope</th>\n",
              "      <th>ca</th>\n",
              "      <th>thal</th>\n",
              "      <th>target</th>\n",
              "      <th>pred_proba</th>\n",
              "      <th>pred</th>\n",
              "    </tr>\n",
              "  </thead>\n",
              "  <tbody>\n",
              "    <tr>\n",
              "      <th>221</th>\n",
              "      <td>55</td>\n",
              "      <td>1</td>\n",
              "      <td>0</td>\n",
              "      <td>140</td>\n",
              "      <td>217</td>\n",
              "      <td>0</td>\n",
              "      <td>1</td>\n",
              "      <td>111</td>\n",
              "      <td>1</td>\n",
              "      <td>5.600</td>\n",
              "      <td>0</td>\n",
              "      <td>0</td>\n",
              "      <td>3</td>\n",
              "      <td>0</td>\n",
              "      <td>0.028</td>\n",
              "      <td>0</td>\n",
              "    </tr>\n",
              "    <tr>\n",
              "      <th>8</th>\n",
              "      <td>52</td>\n",
              "      <td>1</td>\n",
              "      <td>2</td>\n",
              "      <td>172</td>\n",
              "      <td>199</td>\n",
              "      <td>1</td>\n",
              "      <td>1</td>\n",
              "      <td>162</td>\n",
              "      <td>0</td>\n",
              "      <td>0.500</td>\n",
              "      <td>2</td>\n",
              "      <td>0</td>\n",
              "      <td>3</td>\n",
              "      <td>1</td>\n",
              "      <td>0.829</td>\n",
              "      <td>1</td>\n",
              "    </tr>\n",
              "    <tr>\n",
              "      <th>89</th>\n",
              "      <td>58</td>\n",
              "      <td>0</td>\n",
              "      <td>0</td>\n",
              "      <td>100</td>\n",
              "      <td>248</td>\n",
              "      <td>0</td>\n",
              "      <td>0</td>\n",
              "      <td>122</td>\n",
              "      <td>0</td>\n",
              "      <td>1.000</td>\n",
              "      <td>1</td>\n",
              "      <td>0</td>\n",
              "      <td>2</td>\n",
              "      <td>1</td>\n",
              "      <td>0.683</td>\n",
              "      <td>1</td>\n",
              "    </tr>\n",
              "    <tr>\n",
              "      <th>154</th>\n",
              "      <td>39</td>\n",
              "      <td>0</td>\n",
              "      <td>2</td>\n",
              "      <td>138</td>\n",
              "      <td>220</td>\n",
              "      <td>0</td>\n",
              "      <td>1</td>\n",
              "      <td>152</td>\n",
              "      <td>0</td>\n",
              "      <td>0.000</td>\n",
              "      <td>1</td>\n",
              "      <td>0</td>\n",
              "      <td>2</td>\n",
              "      <td>1</td>\n",
              "      <td>0.943</td>\n",
              "      <td>1</td>\n",
              "    </tr>\n",
              "    <tr>\n",
              "      <th>201</th>\n",
              "      <td>60</td>\n",
              "      <td>1</td>\n",
              "      <td>0</td>\n",
              "      <td>125</td>\n",
              "      <td>258</td>\n",
              "      <td>0</td>\n",
              "      <td>0</td>\n",
              "      <td>141</td>\n",
              "      <td>1</td>\n",
              "      <td>2.800</td>\n",
              "      <td>1</td>\n",
              "      <td>1</td>\n",
              "      <td>3</td>\n",
              "      <td>0</td>\n",
              "      <td>0.055</td>\n",
              "      <td>0</td>\n",
              "    </tr>\n",
              "    <tr>\n",
              "      <th>...</th>\n",
              "      <td>...</td>\n",
              "      <td>...</td>\n",
              "      <td>...</td>\n",
              "      <td>...</td>\n",
              "      <td>...</td>\n",
              "      <td>...</td>\n",
              "      <td>...</td>\n",
              "      <td>...</td>\n",
              "      <td>...</td>\n",
              "      <td>...</td>\n",
              "      <td>...</td>\n",
              "      <td>...</td>\n",
              "      <td>...</td>\n",
              "      <td>...</td>\n",
              "      <td>...</td>\n",
              "      <td>...</td>\n",
              "    </tr>\n",
              "    <tr>\n",
              "      <th>202</th>\n",
              "      <td>58</td>\n",
              "      <td>1</td>\n",
              "      <td>0</td>\n",
              "      <td>150</td>\n",
              "      <td>270</td>\n",
              "      <td>0</td>\n",
              "      <td>0</td>\n",
              "      <td>111</td>\n",
              "      <td>1</td>\n",
              "      <td>0.800</td>\n",
              "      <td>2</td>\n",
              "      <td>0</td>\n",
              "      <td>3</td>\n",
              "      <td>0</td>\n",
              "      <td>0.154</td>\n",
              "      <td>0</td>\n",
              "    </tr>\n",
              "    <tr>\n",
              "      <th>48</th>\n",
              "      <td>53</td>\n",
              "      <td>0</td>\n",
              "      <td>2</td>\n",
              "      <td>128</td>\n",
              "      <td>216</td>\n",
              "      <td>0</td>\n",
              "      <td>0</td>\n",
              "      <td>115</td>\n",
              "      <td>0</td>\n",
              "      <td>0.000</td>\n",
              "      <td>2</td>\n",
              "      <td>0</td>\n",
              "      <td>0</td>\n",
              "      <td>1</td>\n",
              "      <td>0.979</td>\n",
              "      <td>1</td>\n",
              "    </tr>\n",
              "    <tr>\n",
              "      <th>255</th>\n",
              "      <td>45</td>\n",
              "      <td>1</td>\n",
              "      <td>0</td>\n",
              "      <td>142</td>\n",
              "      <td>309</td>\n",
              "      <td>0</td>\n",
              "      <td>0</td>\n",
              "      <td>147</td>\n",
              "      <td>1</td>\n",
              "      <td>0.000</td>\n",
              "      <td>1</td>\n",
              "      <td>3</td>\n",
              "      <td>3</td>\n",
              "      <td>0</td>\n",
              "      <td>0.039</td>\n",
              "      <td>0</td>\n",
              "    </tr>\n",
              "    <tr>\n",
              "      <th>178</th>\n",
              "      <td>43</td>\n",
              "      <td>1</td>\n",
              "      <td>0</td>\n",
              "      <td>120</td>\n",
              "      <td>177</td>\n",
              "      <td>0</td>\n",
              "      <td>0</td>\n",
              "      <td>120</td>\n",
              "      <td>1</td>\n",
              "      <td>2.500</td>\n",
              "      <td>1</td>\n",
              "      <td>0</td>\n",
              "      <td>3</td>\n",
              "      <td>0</td>\n",
              "      <td>0.115</td>\n",
              "      <td>0</td>\n",
              "    </tr>\n",
              "    <tr>\n",
              "      <th>153</th>\n",
              "      <td>66</td>\n",
              "      <td>0</td>\n",
              "      <td>2</td>\n",
              "      <td>146</td>\n",
              "      <td>278</td>\n",
              "      <td>0</td>\n",
              "      <td>0</td>\n",
              "      <td>152</td>\n",
              "      <td>0</td>\n",
              "      <td>0.000</td>\n",
              "      <td>1</td>\n",
              "      <td>1</td>\n",
              "      <td>2</td>\n",
              "      <td>1</td>\n",
              "      <td>0.818</td>\n",
              "      <td>1</td>\n",
              "    </tr>\n",
              "  </tbody>\n",
              "</table>\n",
              "<p>61 rows × 16 columns</p>\n",
              "</div>"
            ],
            "text/plain": [
              "     age  sex  cp  trestbps  chol  fbs  restecg  thalach  exang  oldpeak  \\\n",
              "221   55    1   0       140   217    0        1      111      1    5.600   \n",
              "8     52    1   2       172   199    1        1      162      0    0.500   \n",
              "89    58    0   0       100   248    0        0      122      0    1.000   \n",
              "154   39    0   2       138   220    0        1      152      0    0.000   \n",
              "201   60    1   0       125   258    0        0      141      1    2.800   \n",
              "..   ...  ...  ..       ...   ...  ...      ...      ...    ...      ...   \n",
              "202   58    1   0       150   270    0        0      111      1    0.800   \n",
              "48    53    0   2       128   216    0        0      115      0    0.000   \n",
              "255   45    1   0       142   309    0        0      147      1    0.000   \n",
              "178   43    1   0       120   177    0        0      120      1    2.500   \n",
              "153   66    0   2       146   278    0        0      152      0    0.000   \n",
              "\n",
              "     slope  ca  thal  target  pred_proba  pred  \n",
              "221      0   0     3       0       0.028     0  \n",
              "8        2   0     3       1       0.829     1  \n",
              "89       1   0     2       1       0.683     1  \n",
              "154      1   0     2       1       0.943     1  \n",
              "201      1   1     3       0       0.055     0  \n",
              "..     ...  ..   ...     ...         ...   ...  \n",
              "202      2   0     3       0       0.154     0  \n",
              "48       2   0     0       1       0.979     1  \n",
              "255      1   3     3       0       0.039     0  \n",
              "178      1   0     3       0       0.115     0  \n",
              "153      1   1     2       1       0.818     1  \n",
              "\n",
              "[61 rows x 16 columns]"
            ]
          },
          "execution_count": 22,
          "metadata": {},
          "output_type": "execute_result"
        }
      ],
      "source": [
        "test_data[\"pred\"] = y_pred\n",
        "test_data"
      ]
    },
    {
      "cell_type": "code",
      "execution_count": null,
      "id": "9c9df3fd",
      "metadata": {
        "scrolled": true,
        "id": "9c9df3fd",
        "outputId": "64e1d3d2-9f3f-46e5-c3bb-42e997ae822d"
      },
      "outputs": [
        {
          "data": {
            "text/html": [
              "<div>\n",
              "<style scoped>\n",
              "    .dataframe tbody tr th:only-of-type {\n",
              "        vertical-align: middle;\n",
              "    }\n",
              "\n",
              "    .dataframe tbody tr th {\n",
              "        vertical-align: top;\n",
              "    }\n",
              "\n",
              "    .dataframe thead th {\n",
              "        text-align: right;\n",
              "    }\n",
              "</style>\n",
              "<table border=\"1\" class=\"dataframe\">\n",
              "  <thead>\n",
              "    <tr style=\"text-align: right;\">\n",
              "      <th></th>\n",
              "      <th>age</th>\n",
              "      <th>sex</th>\n",
              "      <th>cp</th>\n",
              "      <th>trestbps</th>\n",
              "      <th>chol</th>\n",
              "      <th>fbs</th>\n",
              "      <th>restecg</th>\n",
              "      <th>thalach</th>\n",
              "      <th>exang</th>\n",
              "      <th>oldpeak</th>\n",
              "      <th>slope</th>\n",
              "      <th>ca</th>\n",
              "      <th>thal</th>\n",
              "      <th>target</th>\n",
              "      <th>pred_proba</th>\n",
              "      <th>pred</th>\n",
              "    </tr>\n",
              "  </thead>\n",
              "  <tbody>\n",
              "    <tr>\n",
              "      <th>154</th>\n",
              "      <td>39</td>\n",
              "      <td>0</td>\n",
              "      <td>2</td>\n",
              "      <td>138</td>\n",
              "      <td>220</td>\n",
              "      <td>0</td>\n",
              "      <td>1</td>\n",
              "      <td>152</td>\n",
              "      <td>0</td>\n",
              "      <td>0.000</td>\n",
              "      <td>1</td>\n",
              "      <td>0</td>\n",
              "      <td>2</td>\n",
              "      <td>1</td>\n",
              "      <td>0.943</td>\n",
              "      <td>1</td>\n",
              "    </tr>\n",
              "    <tr>\n",
              "      <th>158</th>\n",
              "      <td>58</td>\n",
              "      <td>1</td>\n",
              "      <td>1</td>\n",
              "      <td>125</td>\n",
              "      <td>220</td>\n",
              "      <td>0</td>\n",
              "      <td>1</td>\n",
              "      <td>144</td>\n",
              "      <td>0</td>\n",
              "      <td>0.400</td>\n",
              "      <td>1</td>\n",
              "      <td>4</td>\n",
              "      <td>3</td>\n",
              "      <td>1</td>\n",
              "      <td>0.139</td>\n",
              "      <td>0</td>\n",
              "    </tr>\n",
              "    <tr>\n",
              "      <th>265</th>\n",
              "      <td>66</td>\n",
              "      <td>1</td>\n",
              "      <td>0</td>\n",
              "      <td>112</td>\n",
              "      <td>212</td>\n",
              "      <td>0</td>\n",
              "      <td>0</td>\n",
              "      <td>132</td>\n",
              "      <td>1</td>\n",
              "      <td>0.100</td>\n",
              "      <td>2</td>\n",
              "      <td>1</td>\n",
              "      <td>2</td>\n",
              "      <td>0</td>\n",
              "      <td>0.251</td>\n",
              "      <td>0</td>\n",
              "    </tr>\n",
              "    <tr>\n",
              "      <th>48</th>\n",
              "      <td>53</td>\n",
              "      <td>0</td>\n",
              "      <td>2</td>\n",
              "      <td>128</td>\n",
              "      <td>216</td>\n",
              "      <td>0</td>\n",
              "      <td>0</td>\n",
              "      <td>115</td>\n",
              "      <td>0</td>\n",
              "      <td>0.000</td>\n",
              "      <td>2</td>\n",
              "      <td>0</td>\n",
              "      <td>0</td>\n",
              "      <td>1</td>\n",
              "      <td>0.979</td>\n",
              "      <td>1</td>\n",
              "    </tr>\n",
              "    <tr>\n",
              "      <th>19</th>\n",
              "      <td>69</td>\n",
              "      <td>0</td>\n",
              "      <td>3</td>\n",
              "      <td>140</td>\n",
              "      <td>239</td>\n",
              "      <td>0</td>\n",
              "      <td>1</td>\n",
              "      <td>151</td>\n",
              "      <td>0</td>\n",
              "      <td>1.800</td>\n",
              "      <td>2</td>\n",
              "      <td>2</td>\n",
              "      <td>2</td>\n",
              "      <td>1</td>\n",
              "      <td>0.897</td>\n",
              "      <td>1</td>\n",
              "    </tr>\n",
              "  </tbody>\n",
              "</table>\n",
              "</div>"
            ],
            "text/plain": [
              "     age  sex  cp  trestbps  chol  fbs  restecg  thalach  exang  oldpeak  \\\n",
              "154   39    0   2       138   220    0        1      152      0    0.000   \n",
              "158   58    1   1       125   220    0        1      144      0    0.400   \n",
              "265   66    1   0       112   212    0        0      132      1    0.100   \n",
              "48    53    0   2       128   216    0        0      115      0    0.000   \n",
              "19    69    0   3       140   239    0        1      151      0    1.800   \n",
              "\n",
              "     slope  ca  thal  target  pred_proba  pred  \n",
              "154      1   0     2       1       0.943     1  \n",
              "158      1   4     3       1       0.139     0  \n",
              "265      2   1     2       0       0.251     0  \n",
              "48       2   0     0       1       0.979     1  \n",
              "19       2   2     2       1       0.897     1  "
            ]
          },
          "execution_count": 23,
          "metadata": {},
          "output_type": "execute_result"
        }
      ],
      "source": [
        "test_data.sample(5)"
      ]
    },
    {
      "cell_type": "code",
      "execution_count": null,
      "id": "aa457f01",
      "metadata": {
        "id": "aa457f01"
      },
      "outputs": [],
      "source": [
        "from sklearn.metrics import precision_score, recall_score, accuracy_score, f1_score\n"
      ]
    },
    {
      "cell_type": "code",
      "execution_count": null,
      "id": "2652b9d1",
      "metadata": {
        "id": "2652b9d1",
        "outputId": "b3852f32-1032-47d5-bb5d-102bf9566fa4"
      },
      "outputs": [
        {
          "name": "stdout",
          "output_type": "stream",
          "text": [
            "[[23  8]\n",
            " [ 2 28]]\n",
            "              precision    recall  f1-score   support\n",
            "\n",
            "           0       0.92      0.74      0.82        31\n",
            "           1       0.78      0.93      0.85        30\n",
            "\n",
            "    accuracy                           0.84        61\n",
            "   macro avg       0.85      0.84      0.83        61\n",
            "weighted avg       0.85      0.84      0.83        61\n",
            "\n"
          ]
        }
      ],
      "source": [
        "print(confusion_matrix(y_test, y_pred))\n",
        "print(classification_report(y_test, y_pred))"
      ]
    },
    {
      "cell_type": "code",
      "execution_count": null,
      "id": "1ed7f0c6",
      "metadata": {
        "id": "1ed7f0c6"
      },
      "outputs": [],
      "source": [
        "from sklearn.metrics import confusion_matrix, classification_report, plot_confusion_matrix"
      ]
    },
    {
      "cell_type": "code",
      "execution_count": null,
      "id": "5b5cce3b",
      "metadata": {
        "id": "5b5cce3b",
        "outputId": "f73fc6d4-f781-496b-d9b7-3c18e26a1b70"
      },
      "outputs": [
        {
          "data": {
            "text/plain": [
              "array([[23,  8],\n",
              "       [ 2, 28]], dtype=int64)"
            ]
          },
          "execution_count": 30,
          "metadata": {},
          "output_type": "execute_result"
        }
      ],
      "source": [
        "confusion_matrix(y_test,y_pred)"
      ]
    },
    {
      "cell_type": "code",
      "execution_count": null,
      "id": "d7af5512",
      "metadata": {
        "id": "d7af5512",
        "outputId": "e50ef584-6681-4d6c-c0c4-e55e1f80d803"
      },
      "outputs": [
        {
          "data": {
            "image/png": "[encoded data removed]",
            "text/plain": [
              "<Figure size 720x432 with 2 Axes>"
            ]
          },
          "metadata": {
            "needs_background": "light"
          },
          "output_type": "display_data"
        }
      ],
      "source": [
        "plot_confusion_matrix(log_model, X_test_scaled, y_test);"
      ]
    },
    {
      "cell_type": "code",
      "execution_count": null,
      "id": "d794e691",
      "metadata": {
        "id": "d794e691",
        "outputId": "04fcb562-5205-4872-8f49-97ae236d21b3"
      },
      "outputs": [
        {
          "data": {
            "image/png": "[encoded data removed]",
            "text/plain": [
              "<Figure size 720x432 with 2 Axes>"
            ]
          },
          "metadata": {
            "needs_background": "light"
          },
          "output_type": "display_data"
        }
      ],
      "source": [
        "plot_confusion_matrix(log_model, X_test_scaled, y_test, normalize='pred');"
      ]
    },
    {
      "cell_type": "code",
      "execution_count": null,
      "id": "49e16ac7",
      "metadata": {
        "id": "49e16ac7"
      },
      "outputs": [],
      "source": [
        "from sklearn.model_selection import cross_validate"
      ]
    },
    {
      "cell_type": "code",
      "execution_count": null,
      "id": "3c18d553",
      "metadata": {
        "id": "3c18d553",
        "outputId": "a7879aa1-1aef-4cf3-c165-e604514d69f0"
      },
      "outputs": [
        {
          "data": {
            "text/html": [
              "<div>\n",
              "<style scoped>\n",
              "    .dataframe tbody tr th:only-of-type {\n",
              "        vertical-align: middle;\n",
              "    }\n",
              "\n",
              "    .dataframe tbody tr th {\n",
              "        vertical-align: top;\n",
              "    }\n",
              "\n",
              "    .dataframe thead th {\n",
              "        text-align: right;\n",
              "    }\n",
              "</style>\n",
              "<table border=\"1\" class=\"dataframe\">\n",
              "  <thead>\n",
              "    <tr style=\"text-align: right;\">\n",
              "      <th></th>\n",
              "      <th>fit_time</th>\n",
              "      <th>score_time</th>\n",
              "      <th>test_accuracy</th>\n",
              "      <th>test_precision</th>\n",
              "      <th>test_recall</th>\n",
              "      <th>test_f1</th>\n",
              "    </tr>\n",
              "  </thead>\n",
              "  <tbody>\n",
              "    <tr>\n",
              "      <th>1</th>\n",
              "      <td>0.006</td>\n",
              "      <td>0.002</td>\n",
              "      <td>0.800</td>\n",
              "      <td>0.846</td>\n",
              "      <td>0.786</td>\n",
              "      <td>0.815</td>\n",
              "    </tr>\n",
              "    <tr>\n",
              "      <th>2</th>\n",
              "      <td>0.004</td>\n",
              "      <td>0.002</td>\n",
              "      <td>0.840</td>\n",
              "      <td>0.812</td>\n",
              "      <td>0.929</td>\n",
              "      <td>0.867</td>\n",
              "    </tr>\n",
              "    <tr>\n",
              "      <th>3</th>\n",
              "      <td>0.006</td>\n",
              "      <td>0.003</td>\n",
              "      <td>0.833</td>\n",
              "      <td>0.812</td>\n",
              "      <td>0.929</td>\n",
              "      <td>0.867</td>\n",
              "    </tr>\n",
              "    <tr>\n",
              "      <th>4</th>\n",
              "      <td>0.006</td>\n",
              "      <td>0.002</td>\n",
              "      <td>0.750</td>\n",
              "      <td>0.722</td>\n",
              "      <td>0.929</td>\n",
              "      <td>0.813</td>\n",
              "    </tr>\n",
              "    <tr>\n",
              "      <th>5</th>\n",
              "      <td>0.005</td>\n",
              "      <td>0.002</td>\n",
              "      <td>0.875</td>\n",
              "      <td>0.923</td>\n",
              "      <td>0.857</td>\n",
              "      <td>0.889</td>\n",
              "    </tr>\n",
              "    <tr>\n",
              "      <th>6</th>\n",
              "      <td>0.005</td>\n",
              "      <td>0.002</td>\n",
              "      <td>0.792</td>\n",
              "      <td>0.833</td>\n",
              "      <td>0.769</td>\n",
              "      <td>0.800</td>\n",
              "    </tr>\n",
              "    <tr>\n",
              "      <th>7</th>\n",
              "      <td>0.005</td>\n",
              "      <td>0.002</td>\n",
              "      <td>0.792</td>\n",
              "      <td>0.786</td>\n",
              "      <td>0.846</td>\n",
              "      <td>0.815</td>\n",
              "    </tr>\n",
              "    <tr>\n",
              "      <th>8</th>\n",
              "      <td>0.004</td>\n",
              "      <td>0.002</td>\n",
              "      <td>0.708</td>\n",
              "      <td>0.688</td>\n",
              "      <td>0.846</td>\n",
              "      <td>0.759</td>\n",
              "    </tr>\n",
              "    <tr>\n",
              "      <th>9</th>\n",
              "      <td>0.005</td>\n",
              "      <td>0.002</td>\n",
              "      <td>0.792</td>\n",
              "      <td>0.750</td>\n",
              "      <td>0.923</td>\n",
              "      <td>0.828</td>\n",
              "    </tr>\n",
              "    <tr>\n",
              "      <th>10</th>\n",
              "      <td>0.005</td>\n",
              "      <td>0.002</td>\n",
              "      <td>1.000</td>\n",
              "      <td>1.000</td>\n",
              "      <td>1.000</td>\n",
              "      <td>1.000</td>\n",
              "    </tr>\n",
              "  </tbody>\n",
              "</table>\n",
              "</div>"
            ],
            "text/plain": [
              "    fit_time  score_time  test_accuracy  test_precision  test_recall  test_f1\n",
              "1      0.006       0.002          0.800           0.846        0.786    0.815\n",
              "2      0.004       0.002          0.840           0.812        0.929    0.867\n",
              "3      0.006       0.003          0.833           0.812        0.929    0.867\n",
              "4      0.006       0.002          0.750           0.722        0.929    0.813\n",
              "5      0.005       0.002          0.875           0.923        0.857    0.889\n",
              "6      0.005       0.002          0.792           0.833        0.769    0.800\n",
              "7      0.005       0.002          0.792           0.786        0.846    0.815\n",
              "8      0.004       0.002          0.708           0.688        0.846    0.759\n",
              "9      0.005       0.002          0.792           0.750        0.923    0.828\n",
              "10     0.005       0.002          1.000           1.000        1.000    1.000"
            ]
          },
          "execution_count": 34,
          "metadata": {},
          "output_type": "execute_result"
        }
      ],
      "source": [
        "model = LogisticRegression()\n",
        "\n",
        "scores = cross_validate(model, X_train_scaled, y_train, scoring = ['accuracy', 'precision','recall','f1'], cv = 10)\n",
        "df_scores = pd.DataFrame(scores, index = range(1, 11))\n",
        "df_scores"
      ]
    },
    {
      "cell_type": "code",
      "execution_count": null,
      "id": "3bb84816",
      "metadata": {
        "id": "3bb84816",
        "outputId": "3edf2108-d244-4866-ff92-b48c813d78e5"
      },
      "outputs": [
        {
          "data": {
            "text/plain": [
              "test_accuracy    0.818\n",
              "test_precision   0.817\n",
              "test_recall      0.881\n",
              "test_f1          0.845\n",
              "dtype: float64"
            ]
          },
          "execution_count": 35,
          "metadata": {},
          "output_type": "execute_result"
        }
      ],
      "source": [
        "df_scores.mean()[2:]"
      ]
    },
    {
      "cell_type": "code",
      "execution_count": null,
      "id": "4a8cde7e",
      "metadata": {
        "id": "4a8cde7e",
        "outputId": "cc6aafec-27f2-4268-c1ad-6317cc0c1755"
      },
      "outputs": [
        {
          "name": "stdout",
          "output_type": "stream",
          "text": [
            "Test Set\n",
            "              precision    recall  f1-score   support\n",
            "\n",
            "           0       0.92      0.74      0.82        31\n",
            "           1       0.78      0.93      0.85        30\n",
            "\n",
            "    accuracy                           0.84        61\n",
            "   macro avg       0.85      0.84      0.83        61\n",
            "weighted avg       0.85      0.84      0.83        61\n",
            "\n",
            "Train Set\n",
            "\n",
            "              precision    recall  f1-score   support\n",
            "\n",
            "           0       0.87      0.75      0.80       107\n",
            "           1       0.82      0.91      0.86       135\n",
            "\n",
            "    accuracy                           0.84       242\n",
            "   macro avg       0.84      0.83      0.83       242\n",
            "weighted avg       0.84      0.84      0.84       242\n",
            "\n"
          ]
        }
      ],
      "source": [
        "print(\"Test Set\")\n",
        "print(classification_report(y_test,y_pred))\n",
        "print(\"Train Set\\n\")\n",
        "y_train_pred = log_model.predict(X_train_scaled)\n",
        "print(classification_report(y_train,y_train_pred))"
      ]
    },
    {
      "cell_type": "code",
      "execution_count": null,
      "id": "bb74e6dc",
      "metadata": {
        "id": "bb74e6dc"
      },
      "outputs": [],
      "source": [
        "from sklearn.model_selection import GridSearchCV"
      ]
    },
    {
      "cell_type": "code",
      "execution_count": null,
      "id": "fa0aa296",
      "metadata": {
        "id": "fa0aa296"
      },
      "outputs": [],
      "source": [
        "model = LogisticRegression()\n",
        "\n",
        "penalty = [\"l1\", \"l2\"]\n",
        "C = np.logspace(-1, 5, 20)\n",
        "class_weight= [\"balanced\", None] \n",
        "\n",
        "solver = [\"lbfgs\", \"liblinear\", \"sag\", \"saga\"]\n",
        "\n",
        "param_grid = {\"penalty\" : penalty,\n",
        "              \"C\" : C,\n",
        "              \"class_weight\":class_weight,\n",
        "              \"solver\":solver}\n"
      ]
    },
    {
      "cell_type": "code",
      "execution_count": null,
      "id": "1f7e42b7",
      "metadata": {
        "id": "1f7e42b7"
      },
      "outputs": [],
      "source": [
        "grid_model = GridSearchCV(estimator=model,\n",
        "                          param_grid=param_grid,\n",
        "                          cv=10,\n",
        "                          scoring = \"recall\",\n",
        "                          n_jobs = -1)"
      ]
    },
    {
      "cell_type": "code",
      "execution_count": null,
      "id": "559f3600",
      "metadata": {
        "id": "559f3600",
        "outputId": "f1528bba-f5b3-4f9c-8606-e680bf0640f5"
      },
      "outputs": [
        {
          "name": "stderr",
          "output_type": "stream",
          "text": [
            "C:\\Users\\teffa\\anaconda3\\lib\\site-packages\\sklearn\\model_selection\\_search.py:918: UserWarning: One or more of the test scores are non-finite: [       nan 0.77087912        nan 0.80054945 0.83681319 0.82912088\n",
            " 0.83681319 0.83681319        nan 0.85989011        nan 0.88076923\n",
            " 0.91813187 0.89615385 0.91813187 0.91813187        nan 0.81428571\n",
            "        nan 0.80659341 0.84450549 0.83681319 0.84450549 0.84450549\n",
            "        nan 0.88131868        nan 0.8510989  0.9032967  0.88901099\n",
            " 0.9032967  0.9032967         nan 0.81373626        nan 0.82857143\n",
            " 0.85164835 0.85164835 0.85164835 0.85164835        nan 0.85824176\n",
            "        nan 0.86538462 0.8956044  0.88846154 0.8956044  0.8956044\n",
            "        nan 0.83626374        nan 0.85824176 0.85164835 0.84395604\n",
            " 0.85164835 0.85164835        nan 0.86593407        nan 0.87307692\n",
            " 0.88846154 0.88131868 0.88846154 0.88846154        nan 0.84340659\n",
            "        nan 0.84340659 0.84395604 0.83681319 0.84395604 0.84395604\n",
            "        nan 0.85879121        nan 0.87362637 0.87417582 0.88131868\n",
            " 0.87417582 0.87417582        nan 0.83626374        nan 0.83626374\n",
            " 0.82912088 0.82912088 0.82912088 0.82912088        nan 0.87362637\n",
            "        nan 0.86593407 0.86648352 0.87362637 0.86648352 0.86648352\n",
            "        nan 0.82912088        nan 0.83681319 0.82912088 0.82912088\n",
            " 0.82912088 0.82912088        nan 0.85879121        nan 0.85879121\n",
            " 0.85934066 0.85164835 0.85934066 0.85934066        nan 0.82912088\n",
            "        nan 0.82912088 0.82197802 0.82197802 0.82197802 0.82197802\n",
            "        nan 0.85879121        nan 0.85879121 0.85164835 0.85164835\n",
            " 0.85164835 0.85164835        nan 0.82912088        nan 0.82912088\n",
            " 0.82912088 0.82912088 0.82912088 0.82912088        nan 0.85164835\n",
            "        nan 0.85164835 0.85879121 0.85164835 0.85879121 0.85879121\n",
            "        nan 0.82912088        nan 0.82912088 0.82912088 0.82912088\n",
            " 0.82912088 0.82912088        nan 0.85164835        nan 0.85164835\n",
            " 0.85164835 0.84450549 0.85164835 0.85164835        nan 0.82912088\n",
            "        nan 0.82912088 0.82912088 0.82912088 0.82912088 0.82912088\n",
            "        nan 0.85879121        nan 0.85164835 0.85164835 0.85164835\n",
            " 0.85164835 0.85164835        nan 0.82912088        nan 0.82912088\n",
            " 0.82912088 0.82912088 0.82912088 0.82912088        nan 0.85879121\n",
            "        nan 0.85164835 0.85164835 0.85164835 0.85164835 0.85164835\n",
            "        nan 0.82912088        nan 0.82912088 0.82912088 0.82912088\n",
            " 0.82912088 0.82912088        nan 0.85879121        nan 0.85164835\n",
            " 0.85164835 0.85879121 0.85164835 0.85164835        nan 0.82912088\n",
            "        nan 0.82912088 0.82912088 0.82912088 0.82912088 0.82912088\n",
            "        nan 0.85879121        nan 0.85164835 0.85879121 0.85879121\n",
            " 0.85879121 0.85164835        nan 0.82912088        nan 0.82912088\n",
            " 0.82912088 0.82912088 0.82912088 0.82912088        nan 0.85879121\n",
            "        nan 0.85164835 0.85879121 0.85879121 0.85879121 0.85164835\n",
            "        nan 0.82912088        nan 0.82912088 0.82912088 0.82912088\n",
            " 0.82912088 0.82912088        nan 0.85879121        nan 0.85164835\n",
            " 0.85879121 0.85879121 0.85879121 0.85164835        nan 0.82912088\n",
            "        nan 0.82912088 0.82912088 0.82912088 0.82912088 0.82912088\n",
            "        nan 0.85879121        nan 0.85164835 0.85879121 0.85879121\n",
            " 0.85879121 0.85164835        nan 0.82912088        nan 0.82912088\n",
            " 0.82912088 0.82912088 0.82912088 0.82912088        nan 0.85879121\n",
            "        nan 0.85164835 0.85879121 0.85879121 0.85879121 0.85164835\n",
            "        nan 0.82912088        nan 0.82912088 0.82912088 0.82912088\n",
            " 0.82912088 0.82912088        nan 0.85879121        nan 0.85164835\n",
            " 0.85879121 0.85879121 0.85879121 0.85164835        nan 0.82912088\n",
            "        nan 0.82912088 0.82912088 0.82912088 0.82912088 0.82912088\n",
            "        nan 0.85879121        nan 0.85164835 0.85879121 0.85879121\n",
            " 0.85879121 0.85164835]\n",
            "  warnings.warn(\n"
          ]
        },
        {
          "data": {
            "text/plain": [
              "GridSearchCV(cv=10, estimator=LogisticRegression(), n_jobs=-1,\n",
              "             param_grid={'C': array([1.00000000e-01, 2.06913808e-01, 4.28133240e-01, 8.85866790e-01,\n",
              "       1.83298071e+00, 3.79269019e+00, 7.84759970e+00, 1.62377674e+01,\n",
              "       3.35981829e+01, 6.95192796e+01, 1.43844989e+02, 2.97635144e+02,\n",
              "       6.15848211e+02, 1.27427499e+03, 2.63665090e+03, 5.45559478e+03,\n",
              "       1.12883789e+04, 2.33572147e+04, 4.83293024e+04, 1.00000000e+05]),\n",
              "                         'class_weight': ['balanced', None],\n",
              "                         'penalty': ['l1', 'l2'],\n",
              "                         'solver': ['lbfgs', 'liblinear', 'sag', 'saga']},\n",
              "             scoring='recall')"
            ]
          },
          "execution_count": 40,
          "metadata": {},
          "output_type": "execute_result"
        }
      ],
      "source": [
        "grid_model.fit(X_train_scaled,y_train)"
      ]
    },
    {
      "cell_type": "code",
      "execution_count": null,
      "id": "96752a56",
      "metadata": {
        "scrolled": true,
        "id": "96752a56",
        "outputId": "72d80899-ab17-4e00-d28c-5e9f49c387d9"
      },
      "outputs": [
        {
          "data": {
            "text/plain": [
              "{'C': 0.1, 'class_weight': None, 'penalty': 'l2', 'solver': 'lbfgs'}"
            ]
          },
          "execution_count": 41,
          "metadata": {},
          "output_type": "execute_result"
        }
      ],
      "source": [
        "grid_model.best_params_"
      ]
    },
    {
      "cell_type": "code",
      "execution_count": null,
      "id": "bd74de92",
      "metadata": {
        "id": "bd74de92"
      },
      "outputs": [],
      "source": [
        "def eval_metric(model, X_train, y_train, X_test, y_test):\n",
        "    y_train_pred = model.predict(X_train)\n",
        "    y_pred = model.predict(X_test)\n",
        "    \n",
        "    print(\"Test_Set\")\n",
        "    print(confusion_matrix(y_test, y_pred))\n",
        "    print(classification_report(y_test, y_pred))\n",
        "    print()\n",
        "    print(\"Train_Set\")\n",
        "    print(confusion_matrix(y_train, y_train_pred))\n",
        "    print(classification_report(y_train, y_train_pred))"
      ]
    },
    {
      "cell_type": "code",
      "execution_count": null,
      "id": "eaf1dc28",
      "metadata": {
        "scrolled": false,
        "id": "eaf1dc28",
        "outputId": "a98028bb-3f84-46d6-bd8c-4ad66e65089b"
      },
      "outputs": [
        {
          "name": "stdout",
          "output_type": "stream",
          "text": [
            "Test_Set\n",
            "[[21 10]\n",
            " [ 3 27]]\n",
            "              precision    recall  f1-score   support\n",
            "\n",
            "           0       0.88      0.68      0.76        31\n",
            "           1       0.73      0.90      0.81        30\n",
            "\n",
            "    accuracy                           0.79        61\n",
            "   macro avg       0.80      0.79      0.78        61\n",
            "weighted avg       0.80      0.79      0.78        61\n",
            "\n",
            "\n",
            "Train_Set\n",
            "[[ 77  30]\n",
            " [ 10 125]]\n",
            "              precision    recall  f1-score   support\n",
            "\n",
            "           0       0.89      0.72      0.79       107\n",
            "           1       0.81      0.93      0.86       135\n",
            "\n",
            "    accuracy                           0.83       242\n",
            "   macro avg       0.85      0.82      0.83       242\n",
            "weighted avg       0.84      0.83      0.83       242\n",
            "\n"
          ]
        }
      ],
      "source": [
        "eval_metric(grid_model, X_train_scaled, y_train, X_test_scaled, y_test)"
      ]
    },
    {
      "cell_type": "markdown",
      "id": "uyHR7S4ExKCU",
      "metadata": {
        "id": "uyHR7S4ExKCU"
      },
      "source": [
        "# Implement KNN and Evaluate"
      ]
    },
    {
      "cell_type": "code",
      "execution_count": null,
      "id": "0fd2969d",
      "metadata": {
        "id": "0fd2969d"
      },
      "outputs": [],
      "source": [
        "from sklearn.neighbors import KNeighborsClassifier\n"
      ]
    },
    {
      "cell_type": "code",
      "execution_count": null,
      "id": "612bff88-57f4-4d18-88bc-6fc7bb95735f",
      "metadata": {
        "id": "612bff88-57f4-4d18-88bc-6fc7bb95735f"
      },
      "outputs": [],
      "source": [
        "test_error_rates = []\n",
        "\n",
        "\n",
        "for k in range(1,30):\n",
        "    knn_model = KNeighborsClassifier(n_neighbors=k)\n",
        "    knn_model.fit(X_train_scaled,y_train) \n",
        "   \n",
        "    y_pred_test = knn_model.predict(X_test_scaled)\n",
        "    \n",
        "    \n",
        "    test_error = 1 - accuracy_score(y_test,y_pred_test)\n",
        "    \n",
        "    test_error_rates.append(test_error)"
      ]
    },
    {
      "cell_type": "code",
      "execution_count": null,
      "id": "6b3f6200",
      "metadata": {
        "id": "6b3f6200",
        "outputId": "060ad465-4541-4877-8914-d2bab654a8c6"
      },
      "outputs": [
        {
          "data": {
            "text/plain": [
              "<matplotlib.collections.LineCollection at 0x195d074fa30>"
            ]
          },
          "execution_count": 46,
          "metadata": {},
          "output_type": "execute_result"
        },
        {
          "data": {
            "image/png": "[encoded data removed]",
            "text/plain": [
              "<Figure size 1080x576 with 1 Axes>"
            ]
          },
          "metadata": {
            "needs_background": "light"
          },
          "output_type": "display_data"
        }
      ],
      "source": [
        "plt.figure(figsize=(15,8))\n",
        "plt.plot(range(1,30), test_error_rates, color='blue', linestyle='--', marker='o',\n",
        "         markerfacecolor='red', markersize=10)\n",
        "\n",
        "plt.title('Error Rate vs. K Value')\n",
        "plt.xlabel('K_values')\n",
        "plt.ylabel('Error Rate')\n",
        "plt.hlines(y=0.051, xmin = 0, xmax = 30, colors= 'r', linestyles=\"--\")\n",
        "plt.hlines(y=0.057, xmin = 0, xmax = 30, colors= 'r', linestyles=\"--\")"
      ]
    },
    {
      "cell_type": "code",
      "execution_count": null,
      "id": "13913d00",
      "metadata": {
        "id": "13913d00",
        "outputId": "2996bf3e-9a09-4b10-b7d8-9ba2828be894"
      },
      "outputs": [
        {
          "name": "stdout",
          "output_type": "stream",
          "text": [
            "WITH K=1\n",
            "\n",
            "Test_Set\n",
            "[[21 10]\n",
            " [ 5 25]]\n",
            "              precision    recall  f1-score   support\n",
            "\n",
            "           0       0.81      0.68      0.74        31\n",
            "           1       0.71      0.83      0.77        30\n",
            "\n",
            "    accuracy                           0.75        61\n",
            "   macro avg       0.76      0.76      0.75        61\n",
            "weighted avg       0.76      0.75      0.75        61\n",
            "\n",
            "\n",
            "Train_Set\n",
            "[[107   0]\n",
            " [  0 135]]\n",
            "              precision    recall  f1-score   support\n",
            "\n",
            "           0       1.00      1.00      1.00       107\n",
            "           1       1.00      1.00      1.00       135\n",
            "\n",
            "    accuracy                           1.00       242\n",
            "   macro avg       1.00      1.00      1.00       242\n",
            "weighted avg       1.00      1.00      1.00       242\n",
            "\n"
          ]
        }
      ],
      "source": [
        "knn = KNeighborsClassifier(n_neighbors=1)\n",
        "\n",
        "knn.fit(X_train_scaled,y_train)\n",
        "print('WITH K=1\\n')\n",
        "eval_metric(knn, X_train_scaled, y_train, X_test_scaled, y_test)"
      ]
    },
    {
      "cell_type": "code",
      "execution_count": null,
      "id": "485bcca3",
      "metadata": {
        "id": "485bcca3",
        "outputId": "7cf9be12-5ff8-4327-c833-1ecd81d281fd"
      },
      "outputs": [
        {
          "name": "stdout",
          "output_type": "stream",
          "text": [
            "WITH K=22\n",
            "\n",
            "Test_Set\n",
            "[[24  7]\n",
            " [ 6 24]]\n",
            "              precision    recall  f1-score   support\n",
            "\n",
            "           0       0.80      0.77      0.79        31\n",
            "           1       0.77      0.80      0.79        30\n",
            "\n",
            "    accuracy                           0.79        61\n",
            "   macro avg       0.79      0.79      0.79        61\n",
            "weighted avg       0.79      0.79      0.79        61\n",
            "\n",
            "\n",
            "Train_Set\n",
            "[[ 89  18]\n",
            " [ 17 118]]\n",
            "              precision    recall  f1-score   support\n",
            "\n",
            "           0       0.84      0.83      0.84       107\n",
            "           1       0.87      0.87      0.87       135\n",
            "\n",
            "    accuracy                           0.86       242\n",
            "   macro avg       0.85      0.85      0.85       242\n",
            "weighted avg       0.86      0.86      0.86       242\n",
            "\n"
          ]
        }
      ],
      "source": [
        "knn = KNeighborsClassifier(n_neighbors=9)\n",
        "\n",
        "knn.fit(X_train_scaled,y_train)\n",
        "print('WITH K=22\\n')\n",
        "eval_metric(knn, X_train_scaled, y_train, X_test_scaled, y_test)"
      ]
    },
    {
      "cell_type": "code",
      "execution_count": null,
      "id": "3cc8b26e",
      "metadata": {
        "id": "3cc8b26e",
        "outputId": "8fc0f3d1-8100-48dd-c991-4e1d77cef11d"
      },
      "outputs": [
        {
          "data": {
            "text/html": [
              "<div>\n",
              "<style scoped>\n",
              "    .dataframe tbody tr th:only-of-type {\n",
              "        vertical-align: middle;\n",
              "    }\n",
              "\n",
              "    .dataframe tbody tr th {\n",
              "        vertical-align: top;\n",
              "    }\n",
              "\n",
              "    .dataframe thead th {\n",
              "        text-align: right;\n",
              "    }\n",
              "</style>\n",
              "<table border=\"1\" class=\"dataframe\">\n",
              "  <thead>\n",
              "    <tr style=\"text-align: right;\">\n",
              "      <th></th>\n",
              "      <th>fit_time</th>\n",
              "      <th>score_time</th>\n",
              "      <th>test_accuracy</th>\n",
              "      <th>test_precision</th>\n",
              "      <th>test_recall</th>\n",
              "      <th>test_f1</th>\n",
              "    </tr>\n",
              "  </thead>\n",
              "  <tbody>\n",
              "    <tr>\n",
              "      <th>1</th>\n",
              "      <td>0.002</td>\n",
              "      <td>0.004</td>\n",
              "      <td>0.800</td>\n",
              "      <td>0.800</td>\n",
              "      <td>0.857</td>\n",
              "      <td>0.828</td>\n",
              "    </tr>\n",
              "    <tr>\n",
              "      <th>2</th>\n",
              "      <td>0.001</td>\n",
              "      <td>0.004</td>\n",
              "      <td>0.720</td>\n",
              "      <td>0.733</td>\n",
              "      <td>0.786</td>\n",
              "      <td>0.759</td>\n",
              "    </tr>\n",
              "    <tr>\n",
              "      <th>3</th>\n",
              "      <td>0.001</td>\n",
              "      <td>0.003</td>\n",
              "      <td>0.833</td>\n",
              "      <td>0.857</td>\n",
              "      <td>0.857</td>\n",
              "      <td>0.857</td>\n",
              "    </tr>\n",
              "    <tr>\n",
              "      <th>4</th>\n",
              "      <td>0.001</td>\n",
              "      <td>0.006</td>\n",
              "      <td>0.833</td>\n",
              "      <td>0.812</td>\n",
              "      <td>0.929</td>\n",
              "      <td>0.867</td>\n",
              "    </tr>\n",
              "    <tr>\n",
              "      <th>5</th>\n",
              "      <td>0.001</td>\n",
              "      <td>0.004</td>\n",
              "      <td>0.792</td>\n",
              "      <td>0.800</td>\n",
              "      <td>0.857</td>\n",
              "      <td>0.828</td>\n",
              "    </tr>\n",
              "    <tr>\n",
              "      <th>6</th>\n",
              "      <td>0.001</td>\n",
              "      <td>0.003</td>\n",
              "      <td>0.667</td>\n",
              "      <td>0.692</td>\n",
              "      <td>0.692</td>\n",
              "      <td>0.692</td>\n",
              "    </tr>\n",
              "    <tr>\n",
              "      <th>7</th>\n",
              "      <td>0.001</td>\n",
              "      <td>0.003</td>\n",
              "      <td>0.833</td>\n",
              "      <td>0.800</td>\n",
              "      <td>0.923</td>\n",
              "      <td>0.857</td>\n",
              "    </tr>\n",
              "    <tr>\n",
              "      <th>8</th>\n",
              "      <td>0.000</td>\n",
              "      <td>0.004</td>\n",
              "      <td>0.667</td>\n",
              "      <td>0.647</td>\n",
              "      <td>0.846</td>\n",
              "      <td>0.733</td>\n",
              "    </tr>\n",
              "    <tr>\n",
              "      <th>9</th>\n",
              "      <td>0.002</td>\n",
              "      <td>0.003</td>\n",
              "      <td>0.750</td>\n",
              "      <td>0.706</td>\n",
              "      <td>0.923</td>\n",
              "      <td>0.800</td>\n",
              "    </tr>\n",
              "    <tr>\n",
              "      <th>10</th>\n",
              "      <td>0.001</td>\n",
              "      <td>0.004</td>\n",
              "      <td>0.917</td>\n",
              "      <td>0.923</td>\n",
              "      <td>0.923</td>\n",
              "      <td>0.923</td>\n",
              "    </tr>\n",
              "  </tbody>\n",
              "</table>\n",
              "</div>"
            ],
            "text/plain": [
              "    fit_time  score_time  test_accuracy  test_precision  test_recall  test_f1\n",
              "1      0.002       0.004          0.800           0.800        0.857    0.828\n",
              "2      0.001       0.004          0.720           0.733        0.786    0.759\n",
              "3      0.001       0.003          0.833           0.857        0.857    0.857\n",
              "4      0.001       0.006          0.833           0.812        0.929    0.867\n",
              "5      0.001       0.004          0.792           0.800        0.857    0.828\n",
              "6      0.001       0.003          0.667           0.692        0.692    0.692\n",
              "7      0.001       0.003          0.833           0.800        0.923    0.857\n",
              "8      0.000       0.004          0.667           0.647        0.846    0.733\n",
              "9      0.002       0.003          0.750           0.706        0.923    0.800\n",
              "10     0.001       0.004          0.917           0.923        0.923    0.923"
            ]
          },
          "execution_count": 49,
          "metadata": {},
          "output_type": "execute_result"
        }
      ],
      "source": [
        "model = KNeighborsClassifier(n_neighbors=9)\n",
        "\n",
        "scores = cross_validate(model, X_train_scaled, y_train, scoring = ['accuracy', 'precision','recall',\n",
        "                                                                   'f1'], cv = 10)\n",
        "df_scores = pd.DataFrame(scores, index = range(1, 11))\n",
        "df_scores"
      ]
    },
    {
      "cell_type": "code",
      "execution_count": null,
      "id": "6dd8a610",
      "metadata": {
        "id": "6dd8a610",
        "outputId": "91aeb5b0-41ad-4f3b-b678-0d2cac4de70f"
      },
      "outputs": [
        {
          "data": {
            "text/plain": [
              "test_accuracy    0.781\n",
              "test_precision   0.777\n",
              "test_recall      0.859\n",
              "test_f1          0.814\n",
              "dtype: float64"
            ]
          },
          "execution_count": 50,
          "metadata": {},
          "output_type": "execute_result"
        }
      ],
      "source": [
        "df_scores.mean()[2:]"
      ]
    },
    {
      "cell_type": "code",
      "execution_count": null,
      "id": "a3116f3e",
      "metadata": {
        "id": "a3116f3e"
      },
      "outputs": [],
      "source": [
        "knn_grid = KNeighborsClassifier()"
      ]
    },
    {
      "cell_type": "code",
      "execution_count": null,
      "id": "8f1fce2b",
      "metadata": {
        "id": "8f1fce2b"
      },
      "outputs": [],
      "source": [
        "k_values= range(1,50)"
      ]
    },
    {
      "cell_type": "code",
      "execution_count": null,
      "id": "10137e3a",
      "metadata": {
        "id": "10137e3a"
      },
      "outputs": [],
      "source": [
        "param_grid = {\"n_neighbors\":k_values, \"p\": [1,2], \"weights\": ['uniform', \"distance\"]}"
      ]
    },
    {
      "cell_type": "code",
      "execution_count": null,
      "id": "26f17c04",
      "metadata": {
        "id": "26f17c04"
      },
      "outputs": [],
      "source": [
        "knn_grid_model = GridSearchCV(knn_grid, param_grid, cv=10, scoring= 'recall')"
      ]
    },
    {
      "cell_type": "code",
      "execution_count": null,
      "id": "ecd92192",
      "metadata": {
        "id": "ecd92192",
        "outputId": "482cc4b3-23db-41b7-a0c2-17f644e13f86"
      },
      "outputs": [
        {
          "data": {
            "text/plain": [
              "GridSearchCV(cv=10, estimator=KNeighborsClassifier(),\n",
              "             param_grid={'n_neighbors': range(1, 50), 'p': [1, 2],\n",
              "                         'weights': ['uniform', 'distance']},\n",
              "             scoring='recall')"
            ]
          },
          "execution_count": 55,
          "metadata": {},
          "output_type": "execute_result"
        }
      ],
      "source": [
        "knn_grid_model.fit(X_train_scaled, y_train)"
      ]
    },
    {
      "cell_type": "code",
      "execution_count": null,
      "id": "9071c777",
      "metadata": {
        "id": "9071c777",
        "outputId": "848a5ee0-a91a-4343-94c8-58ff195fa36f"
      },
      "outputs": [
        {
          "data": {
            "text/plain": [
              "{'n_neighbors': 33, 'p': 1, 'weights': 'distance'}"
            ]
          },
          "execution_count": 56,
          "metadata": {},
          "output_type": "execute_result"
        }
      ],
      "source": [
        "knn_grid_model.best_params_"
      ]
    },
    {
      "cell_type": "code",
      "execution_count": null,
      "id": "de9a51c5",
      "metadata": {
        "id": "de9a51c5",
        "outputId": "2b838481-11f2-4ea6-9d95-5aebd1f8ba84"
      },
      "outputs": [
        {
          "name": "stdout",
          "output_type": "stream",
          "text": [
            "Test_Set\n",
            "[[23  8]\n",
            " [ 3 27]]\n",
            "              precision    recall  f1-score   support\n",
            "\n",
            "           0       0.88      0.74      0.81        31\n",
            "           1       0.77      0.90      0.83        30\n",
            "\n",
            "    accuracy                           0.82        61\n",
            "   macro avg       0.83      0.82      0.82        61\n",
            "weighted avg       0.83      0.82      0.82        61\n",
            "\n",
            "\n",
            "Train_Set\n",
            "[[107   0]\n",
            " [  0 135]]\n",
            "              precision    recall  f1-score   support\n",
            "\n",
            "           0       1.00      1.00      1.00       107\n",
            "           1       1.00      1.00      1.00       135\n",
            "\n",
            "    accuracy                           1.00       242\n",
            "   macro avg       1.00      1.00      1.00       242\n",
            "weighted avg       1.00      1.00      1.00       242\n",
            "\n"
          ]
        }
      ],
      "source": [
        "eval_metric(knn_grid_model, X_train_scaled, y_train, X_test_scaled, y_test)"
      ]
    },
    {
      "cell_type": "code",
      "execution_count": null,
      "id": "6c6c72e2",
      "metadata": {
        "id": "6c6c72e2"
      },
      "outputs": [],
      "source": [
        ""
      ]
    },
    {
      "cell_type": "markdown",
      "id": "8Hfumh_PyEoh",
      "metadata": {
        "id": "8Hfumh_PyEoh"
      },
      "source": [
        "# Visually compare models based on your chosen metric"
      ]
    },
    {
      "cell_type": "code",
      "execution_count": null,
      "id": "96f9baac",
      "metadata": {
        "scrolled": false,
        "id": "96f9baac",
        "outputId": "939dd77e-04c2-40b2-fef0-1731f8671e9f"
      },
      "outputs": [
        {
          "data": {
            "image/png": "[encoded data removed]",
            "text/plain": [
              "<Figure size 720x432 with 2 Axes>"
            ]
          },
          "metadata": {
            "needs_background": "light"
          },
          "output_type": "display_data"
        }
      ],
      "source": [
        "plot_confusion_matrix(grid_model, X_test_scaled, y_test);"
      ]
    },
    {
      "cell_type": "code",
      "execution_count": null,
      "id": "Rm-5gpKgycqD",
      "metadata": {
        "id": "Rm-5gpKgycqD",
        "outputId": "abb344ec-d202-4fb4-ea49-e975f1302868"
      },
      "outputs": [
        {
          "data": {
            "image/png": "[encoded data removed]",
            "text/plain": [
              "<Figure size 720x432 with 2 Axes>"
            ]
          },
          "metadata": {
            "needs_background": "light"
          },
          "output_type": "display_data"
        }
      ],
      "source": [
        "plot_confusion_matrix(knn_grid_model, X_test_scaled, y_test);"
      ]
    },
    {
      "cell_type": "markdown",
      "id": "3oDKxZRqx0Nw",
      "metadata": {
        "id": "3oDKxZRqx0Nw"
      },
      "source": [
        "# Chose best model and make a random prediction "
      ]
    },
    {
      "cell_type": "code",
      "execution_count": null,
      "id": "fbadf108",
      "metadata": {
        "id": "fbadf108"
      },
      "outputs": [],
      "source": [
        "scaler = MinMaxScaler()"
      ]
    },
    {
      "cell_type": "code",
      "execution_count": null,
      "id": "466b051e",
      "metadata": {
        "id": "466b051e",
        "outputId": "23cf7278-3868-4a34-8b3e-4b1e1ae88169"
      },
      "outputs": [
        {
          "data": {
            "text/plain": [
              "MinMaxScaler()"
            ]
          },
          "execution_count": 61,
          "metadata": {},
          "output_type": "execute_result"
        }
      ],
      "source": [
        "scaler.fit(X)"
      ]
    },
    {
      "cell_type": "code",
      "execution_count": null,
      "id": "a34ee7fa",
      "metadata": {
        "id": "a34ee7fa"
      },
      "outputs": [],
      "source": [
        "X_scaled = scaler.transform(X)"
      ]
    },
    {
      "cell_type": "code",
      "execution_count": null,
      "id": "39f8ab3d",
      "metadata": {
        "id": "39f8ab3d"
      },
      "outputs": [],
      "source": [
        "final_knn_model = KNeighborsClassifier(n_neighbors=33)"
      ]
    },
    {
      "cell_type": "code",
      "execution_count": null,
      "id": "3e4fd050",
      "metadata": {
        "scrolled": false,
        "id": "3e4fd050",
        "outputId": "f7ff881e-d567-4d8c-be1a-19b768096848"
      },
      "outputs": [
        {
          "data": {
            "text/html": [
              "<div>\n",
              "<style scoped>\n",
              "    .dataframe tbody tr th:only-of-type {\n",
              "        vertical-align: middle;\n",
              "    }\n",
              "\n",
              "    .dataframe tbody tr th {\n",
              "        vertical-align: top;\n",
              "    }\n",
              "\n",
              "    .dataframe thead th {\n",
              "        text-align: right;\n",
              "    }\n",
              "</style>\n",
              "<table border=\"1\" class=\"dataframe\">\n",
              "  <thead>\n",
              "    <tr style=\"text-align: right;\">\n",
              "      <th></th>\n",
              "      <th>age</th>\n",
              "      <th>sex</th>\n",
              "      <th>cp</th>\n",
              "      <th>trestbps</th>\n",
              "      <th>chol</th>\n",
              "      <th>fbs</th>\n",
              "      <th>restecg</th>\n",
              "      <th>thalach</th>\n",
              "      <th>exang</th>\n",
              "      <th>oldpeak</th>\n",
              "      <th>slope</th>\n",
              "      <th>ca</th>\n",
              "      <th>thal</th>\n",
              "    </tr>\n",
              "  </thead>\n",
              "  <tbody>\n",
              "    <tr>\n",
              "      <th>0</th>\n",
              "      <td>63</td>\n",
              "      <td>1</td>\n",
              "      <td>3</td>\n",
              "      <td>145</td>\n",
              "      <td>233</td>\n",
              "      <td>1</td>\n",
              "      <td>0</td>\n",
              "      <td>150</td>\n",
              "      <td>0</td>\n",
              "      <td>2.300</td>\n",
              "      <td>0</td>\n",
              "      <td>0</td>\n",
              "      <td>1</td>\n",
              "    </tr>\n",
              "    <tr>\n",
              "      <th>1</th>\n",
              "      <td>37</td>\n",
              "      <td>1</td>\n",
              "      <td>2</td>\n",
              "      <td>130</td>\n",
              "      <td>250</td>\n",
              "      <td>0</td>\n",
              "      <td>1</td>\n",
              "      <td>187</td>\n",
              "      <td>0</td>\n",
              "      <td>3.500</td>\n",
              "      <td>0</td>\n",
              "      <td>0</td>\n",
              "      <td>2</td>\n",
              "    </tr>\n",
              "    <tr>\n",
              "      <th>2</th>\n",
              "      <td>41</td>\n",
              "      <td>0</td>\n",
              "      <td>1</td>\n",
              "      <td>130</td>\n",
              "      <td>204</td>\n",
              "      <td>0</td>\n",
              "      <td>0</td>\n",
              "      <td>172</td>\n",
              "      <td>0</td>\n",
              "      <td>1.400</td>\n",
              "      <td>2</td>\n",
              "      <td>0</td>\n",
              "      <td>2</td>\n",
              "    </tr>\n",
              "    <tr>\n",
              "      <th>3</th>\n",
              "      <td>56</td>\n",
              "      <td>1</td>\n",
              "      <td>1</td>\n",
              "      <td>120</td>\n",
              "      <td>236</td>\n",
              "      <td>0</td>\n",
              "      <td>1</td>\n",
              "      <td>178</td>\n",
              "      <td>0</td>\n",
              "      <td>0.800</td>\n",
              "      <td>2</td>\n",
              "      <td>0</td>\n",
              "      <td>2</td>\n",
              "    </tr>\n",
              "    <tr>\n",
              "      <th>4</th>\n",
              "      <td>57</td>\n",
              "      <td>0</td>\n",
              "      <td>0</td>\n",
              "      <td>120</td>\n",
              "      <td>354</td>\n",
              "      <td>0</td>\n",
              "      <td>1</td>\n",
              "      <td>163</td>\n",
              "      <td>1</td>\n",
              "      <td>0.600</td>\n",
              "      <td>2</td>\n",
              "      <td>0</td>\n",
              "      <td>2</td>\n",
              "    </tr>\n",
              "    <tr>\n",
              "      <th>...</th>\n",
              "      <td>...</td>\n",
              "      <td>...</td>\n",
              "      <td>...</td>\n",
              "      <td>...</td>\n",
              "      <td>...</td>\n",
              "      <td>...</td>\n",
              "      <td>...</td>\n",
              "      <td>...</td>\n",
              "      <td>...</td>\n",
              "      <td>...</td>\n",
              "      <td>...</td>\n",
              "      <td>...</td>\n",
              "      <td>...</td>\n",
              "    </tr>\n",
              "    <tr>\n",
              "      <th>298</th>\n",
              "      <td>57</td>\n",
              "      <td>0</td>\n",
              "      <td>0</td>\n",
              "      <td>140</td>\n",
              "      <td>241</td>\n",
              "      <td>0</td>\n",
              "      <td>1</td>\n",
              "      <td>123</td>\n",
              "      <td>1</td>\n",
              "      <td>0.200</td>\n",
              "      <td>1</td>\n",
              "      <td>0</td>\n",
              "      <td>3</td>\n",
              "    </tr>\n",
              "    <tr>\n",
              "      <th>299</th>\n",
              "      <td>45</td>\n",
              "      <td>1</td>\n",
              "      <td>3</td>\n",
              "      <td>110</td>\n",
              "      <td>264</td>\n",
              "      <td>0</td>\n",
              "      <td>1</td>\n",
              "      <td>132</td>\n",
              "      <td>0</td>\n",
              "      <td>1.200</td>\n",
              "      <td>1</td>\n",
              "      <td>0</td>\n",
              "      <td>3</td>\n",
              "    </tr>\n",
              "    <tr>\n",
              "      <th>300</th>\n",
              "      <td>68</td>\n",
              "      <td>1</td>\n",
              "      <td>0</td>\n",
              "      <td>144</td>\n",
              "      <td>193</td>\n",
              "      <td>1</td>\n",
              "      <td>1</td>\n",
              "      <td>141</td>\n",
              "      <td>0</td>\n",
              "      <td>3.400</td>\n",
              "      <td>1</td>\n",
              "      <td>2</td>\n",
              "      <td>3</td>\n",
              "    </tr>\n",
              "    <tr>\n",
              "      <th>301</th>\n",
              "      <td>57</td>\n",
              "      <td>1</td>\n",
              "      <td>0</td>\n",
              "      <td>130</td>\n",
              "      <td>131</td>\n",
              "      <td>0</td>\n",
              "      <td>1</td>\n",
              "      <td>115</td>\n",
              "      <td>1</td>\n",
              "      <td>1.200</td>\n",
              "      <td>1</td>\n",
              "      <td>1</td>\n",
              "      <td>3</td>\n",
              "    </tr>\n",
              "    <tr>\n",
              "      <th>302</th>\n",
              "      <td>57</td>\n",
              "      <td>0</td>\n",
              "      <td>1</td>\n",
              "      <td>130</td>\n",
              "      <td>236</td>\n",
              "      <td>0</td>\n",
              "      <td>0</td>\n",
              "      <td>174</td>\n",
              "      <td>0</td>\n",
              "      <td>0.000</td>\n",
              "      <td>1</td>\n",
              "      <td>1</td>\n",
              "      <td>2</td>\n",
              "    </tr>\n",
              "  </tbody>\n",
              "</table>\n",
              "<p>303 rows × 13 columns</p>\n",
              "</div>"
            ],
            "text/plain": [
              "     age  sex  cp  trestbps  chol  fbs  restecg  thalach  exang  oldpeak  \\\n",
              "0     63    1   3       145   233    1        0      150      0    2.300   \n",
              "1     37    1   2       130   250    0        1      187      0    3.500   \n",
              "2     41    0   1       130   204    0        0      172      0    1.400   \n",
              "3     56    1   1       120   236    0        1      178      0    0.800   \n",
              "4     57    0   0       120   354    0        1      163      1    0.600   \n",
              "..   ...  ...  ..       ...   ...  ...      ...      ...    ...      ...   \n",
              "298   57    0   0       140   241    0        1      123      1    0.200   \n",
              "299   45    1   3       110   264    0        1      132      0    1.200   \n",
              "300   68    1   0       144   193    1        1      141      0    3.400   \n",
              "301   57    1   0       130   131    0        1      115      1    1.200   \n",
              "302   57    0   1       130   236    0        0      174      0    0.000   \n",
              "\n",
              "     slope  ca  thal  \n",
              "0        0   0     1  \n",
              "1        0   0     2  \n",
              "2        2   0     2  \n",
              "3        2   0     2  \n",
              "4        2   0     2  \n",
              "..     ...  ..   ...  \n",
              "298      1   0     3  \n",
              "299      1   0     3  \n",
              "300      1   2     3  \n",
              "301      1   1     3  \n",
              "302      1   1     2  \n",
              "\n",
              "[303 rows x 13 columns]"
            ]
          },
          "execution_count": 64,
          "metadata": {},
          "output_type": "execute_result"
        }
      ],
      "source": [
        "X"
      ]
    },
    {
      "cell_type": "code",
      "execution_count": null,
      "id": "a4fedf5d",
      "metadata": {
        "id": "a4fedf5d",
        "outputId": "8b17b94c-67e6-4117-ca59-e0cd1560d649"
      },
      "outputs": [
        {
          "data": {
            "text/plain": [
              "Index(['age', 'sex', 'cp', 'trestbps', 'chol', 'fbs', 'restecg', 'thalach',\n",
              "       'exang', 'oldpeak', 'slope', 'ca', 'thal'],\n",
              "      dtype='object')"
            ]
          },
          "execution_count": 65,
          "metadata": {},
          "output_type": "execute_result"
        }
      ],
      "source": [
        "X.columns"
      ]
    },
    {
      "cell_type": "code",
      "execution_count": null,
      "id": "f74db1a5",
      "metadata": {
        "id": "f74db1a5",
        "outputId": "61f76339-39b8-4ac3-cf46-35203e9d2ee3"
      },
      "outputs": [
        {
          "data": {
            "text/html": [
              "<div>\n",
              "<style scoped>\n",
              "    .dataframe tbody tr th:only-of-type {\n",
              "        vertical-align: middle;\n",
              "    }\n",
              "\n",
              "    .dataframe tbody tr th {\n",
              "        vertical-align: top;\n",
              "    }\n",
              "\n",
              "    .dataframe thead th {\n",
              "        text-align: right;\n",
              "    }\n",
              "</style>\n",
              "<table border=\"1\" class=\"dataframe\">\n",
              "  <thead>\n",
              "    <tr style=\"text-align: right;\">\n",
              "      <th></th>\n",
              "      <th>age</th>\n",
              "      <th>sex</th>\n",
              "      <th>cp</th>\n",
              "      <th>trestbps</th>\n",
              "      <th>chol</th>\n",
              "      <th>fbs</th>\n",
              "      <th>restecg</th>\n",
              "      <th>thalach</th>\n",
              "      <th>exang</th>\n",
              "      <th>oldpeak</th>\n",
              "      <th>slope</th>\n",
              "      <th>ca</th>\n",
              "      <th>thal</th>\n",
              "    </tr>\n",
              "  </thead>\n",
              "  <tbody>\n",
              "    <tr>\n",
              "      <th>count</th>\n",
              "      <td>303.000</td>\n",
              "      <td>303.000</td>\n",
              "      <td>303.000</td>\n",
              "      <td>303.000</td>\n",
              "      <td>303.000</td>\n",
              "      <td>303.000</td>\n",
              "      <td>303.000</td>\n",
              "      <td>303.000</td>\n",
              "      <td>303.000</td>\n",
              "      <td>303.000</td>\n",
              "      <td>303.000</td>\n",
              "      <td>303.000</td>\n",
              "      <td>303.000</td>\n",
              "    </tr>\n",
              "    <tr>\n",
              "      <th>mean</th>\n",
              "      <td>54.366</td>\n",
              "      <td>0.683</td>\n",
              "      <td>0.967</td>\n",
              "      <td>131.624</td>\n",
              "      <td>246.264</td>\n",
              "      <td>0.149</td>\n",
              "      <td>0.528</td>\n",
              "      <td>149.647</td>\n",
              "      <td>0.327</td>\n",
              "      <td>1.040</td>\n",
              "      <td>1.399</td>\n",
              "      <td>0.729</td>\n",
              "      <td>2.314</td>\n",
              "    </tr>\n",
              "    <tr>\n",
              "      <th>std</th>\n",
              "      <td>9.082</td>\n",
              "      <td>0.466</td>\n",
              "      <td>1.032</td>\n",
              "      <td>17.538</td>\n",
              "      <td>51.831</td>\n",
              "      <td>0.356</td>\n",
              "      <td>0.526</td>\n",
              "      <td>22.905</td>\n",
              "      <td>0.470</td>\n",
              "      <td>1.161</td>\n",
              "      <td>0.616</td>\n",
              "      <td>1.023</td>\n",
              "      <td>0.612</td>\n",
              "    </tr>\n",
              "    <tr>\n",
              "      <th>min</th>\n",
              "      <td>29.000</td>\n",
              "      <td>0.000</td>\n",
              "      <td>0.000</td>\n",
              "      <td>94.000</td>\n",
              "      <td>126.000</td>\n",
              "      <td>0.000</td>\n",
              "      <td>0.000</td>\n",
              "      <td>71.000</td>\n",
              "      <td>0.000</td>\n",
              "      <td>0.000</td>\n",
              "      <td>0.000</td>\n",
              "      <td>0.000</td>\n",
              "      <td>0.000</td>\n",
              "    </tr>\n",
              "    <tr>\n",
              "      <th>25%</th>\n",
              "      <td>47.500</td>\n",
              "      <td>0.000</td>\n",
              "      <td>0.000</td>\n",
              "      <td>120.000</td>\n",
              "      <td>211.000</td>\n",
              "      <td>0.000</td>\n",
              "      <td>0.000</td>\n",
              "      <td>133.500</td>\n",
              "      <td>0.000</td>\n",
              "      <td>0.000</td>\n",
              "      <td>1.000</td>\n",
              "      <td>0.000</td>\n",
              "      <td>2.000</td>\n",
              "    </tr>\n",
              "    <tr>\n",
              "      <th>50%</th>\n",
              "      <td>55.000</td>\n",
              "      <td>1.000</td>\n",
              "      <td>1.000</td>\n",
              "      <td>130.000</td>\n",
              "      <td>240.000</td>\n",
              "      <td>0.000</td>\n",
              "      <td>1.000</td>\n",
              "      <td>153.000</td>\n",
              "      <td>0.000</td>\n",
              "      <td>0.800</td>\n",
              "      <td>1.000</td>\n",
              "      <td>0.000</td>\n",
              "      <td>2.000</td>\n",
              "    </tr>\n",
              "    <tr>\n",
              "      <th>75%</th>\n",
              "      <td>61.000</td>\n",
              "      <td>1.000</td>\n",
              "      <td>2.000</td>\n",
              "      <td>140.000</td>\n",
              "      <td>274.500</td>\n",
              "      <td>0.000</td>\n",
              "      <td>1.000</td>\n",
              "      <td>166.000</td>\n",
              "      <td>1.000</td>\n",
              "      <td>1.600</td>\n",
              "      <td>2.000</td>\n",
              "      <td>1.000</td>\n",
              "      <td>3.000</td>\n",
              "    </tr>\n",
              "    <tr>\n",
              "      <th>max</th>\n",
              "      <td>77.000</td>\n",
              "      <td>1.000</td>\n",
              "      <td>3.000</td>\n",
              "      <td>200.000</td>\n",
              "      <td>564.000</td>\n",
              "      <td>1.000</td>\n",
              "      <td>2.000</td>\n",
              "      <td>202.000</td>\n",
              "      <td>1.000</td>\n",
              "      <td>6.200</td>\n",
              "      <td>2.000</td>\n",
              "      <td>4.000</td>\n",
              "      <td>3.000</td>\n",
              "    </tr>\n",
              "  </tbody>\n",
              "</table>\n",
              "</div>"
            ],
            "text/plain": [
              "          age     sex      cp  trestbps    chol     fbs  restecg  thalach  \\\n",
              "count 303.000 303.000 303.000   303.000 303.000 303.000  303.000  303.000   \n",
              "mean   54.366   0.683   0.967   131.624 246.264   0.149    0.528  149.647   \n",
              "std     9.082   0.466   1.032    17.538  51.831   0.356    0.526   22.905   \n",
              "min    29.000   0.000   0.000    94.000 126.000   0.000    0.000   71.000   \n",
              "25%    47.500   0.000   0.000   120.000 211.000   0.000    0.000  133.500   \n",
              "50%    55.000   1.000   1.000   130.000 240.000   0.000    1.000  153.000   \n",
              "75%    61.000   1.000   2.000   140.000 274.500   0.000    1.000  166.000   \n",
              "max    77.000   1.000   3.000   200.000 564.000   1.000    2.000  202.000   \n",
              "\n",
              "        exang  oldpeak   slope      ca    thal  \n",
              "count 303.000  303.000 303.000 303.000 303.000  \n",
              "mean    0.327    1.040   1.399   0.729   2.314  \n",
              "std     0.470    1.161   0.616   1.023   0.612  \n",
              "min     0.000    0.000   0.000   0.000   0.000  \n",
              "25%     0.000    0.000   1.000   0.000   2.000  \n",
              "50%     0.000    0.800   1.000   0.000   2.000  \n",
              "75%     1.000    1.600   2.000   1.000   3.000  \n",
              "max     1.000    6.200   2.000   4.000   3.000  "
            ]
          },
          "execution_count": 66,
          "metadata": {},
          "output_type": "execute_result"
        }
      ],
      "source": [
        "X.describe()"
      ]
    },
    {
      "cell_type": "code",
      "execution_count": null,
      "id": "e7c23bf5",
      "metadata": {
        "id": "e7c23bf5"
      },
      "outputs": [],
      "source": [
        "new_obs = {\"age\": [43,51,37,56,65],\n",
        "           \"sex\": [1,1,0,1,0],\n",
        "           \"cp\": [4,1,0,0,3],\n",
        "           \"trestbps\": [145,152,160,130,145],\n",
        "           \"chol\": [380,250,275,312,200],\n",
        "           \"fbs\": [0,1,0,1,0],\n",
        "           \"restecg\": [1,1,2,0,0],\n",
        "           \"thalach\": [132,167,146,180,190],\n",
        "           \"exang\": [1,0,1,0,1],\n",
        "           \"oldpeak\": [0.1,2.4,3.3,5.7,6.1],\n",
        "           \"slope\": [0,2,2,1,0],\n",
        "           \"ca\": [0,3,2,1,3],\n",
        "           \"thal\": [3,1,2,0,1]               \n",
        "           \n",
        "           \n",
        "          }"
      ]
    },
    {
      "cell_type": "code",
      "execution_count": null,
      "id": "90a92bd0",
      "metadata": {
        "id": "90a92bd0",
        "outputId": "c6b25d47-354d-49f8-e0f6-bfe3e6c9568e"
      },
      "outputs": [
        {
          "data": {
            "text/html": [
              "<div>\n",
              "<style scoped>\n",
              "    .dataframe tbody tr th:only-of-type {\n",
              "        vertical-align: middle;\n",
              "    }\n",
              "\n",
              "    .dataframe tbody tr th {\n",
              "        vertical-align: top;\n",
              "    }\n",
              "\n",
              "    .dataframe thead th {\n",
              "        text-align: right;\n",
              "    }\n",
              "</style>\n",
              "<table border=\"1\" class=\"dataframe\">\n",
              "  <thead>\n",
              "    <tr style=\"text-align: right;\">\n",
              "      <th></th>\n",
              "      <th>age</th>\n",
              "      <th>sex</th>\n",
              "      <th>cp</th>\n",
              "      <th>trestbps</th>\n",
              "      <th>chol</th>\n",
              "      <th>fbs</th>\n",
              "      <th>restecg</th>\n",
              "      <th>thalach</th>\n",
              "      <th>exang</th>\n",
              "      <th>oldpeak</th>\n",
              "      <th>slope</th>\n",
              "      <th>ca</th>\n",
              "      <th>thal</th>\n",
              "    </tr>\n",
              "  </thead>\n",
              "  <tbody>\n",
              "    <tr>\n",
              "      <th>0</th>\n",
              "      <td>43</td>\n",
              "      <td>1</td>\n",
              "      <td>4</td>\n",
              "      <td>145</td>\n",
              "      <td>380</td>\n",
              "      <td>0</td>\n",
              "      <td>1</td>\n",
              "      <td>132</td>\n",
              "      <td>1</td>\n",
              "      <td>0.100</td>\n",
              "      <td>0</td>\n",
              "      <td>0</td>\n",
              "      <td>3</td>\n",
              "    </tr>\n",
              "    <tr>\n",
              "      <th>1</th>\n",
              "      <td>51</td>\n",
              "      <td>1</td>\n",
              "      <td>1</td>\n",
              "      <td>152</td>\n",
              "      <td>250</td>\n",
              "      <td>1</td>\n",
              "      <td>1</td>\n",
              "      <td>167</td>\n",
              "      <td>0</td>\n",
              "      <td>2.400</td>\n",
              "      <td>2</td>\n",
              "      <td>3</td>\n",
              "      <td>1</td>\n",
              "    </tr>\n",
              "    <tr>\n",
              "      <th>2</th>\n",
              "      <td>37</td>\n",
              "      <td>0</td>\n",
              "      <td>0</td>\n",
              "      <td>160</td>\n",
              "      <td>275</td>\n",
              "      <td>0</td>\n",
              "      <td>2</td>\n",
              "      <td>146</td>\n",
              "      <td>1</td>\n",
              "      <td>3.300</td>\n",
              "      <td>2</td>\n",
              "      <td>2</td>\n",
              "      <td>2</td>\n",
              "    </tr>\n",
              "    <tr>\n",
              "      <th>3</th>\n",
              "      <td>56</td>\n",
              "      <td>1</td>\n",
              "      <td>0</td>\n",
              "      <td>130</td>\n",
              "      <td>312</td>\n",
              "      <td>1</td>\n",
              "      <td>0</td>\n",
              "      <td>180</td>\n",
              "      <td>0</td>\n",
              "      <td>5.700</td>\n",
              "      <td>1</td>\n",
              "      <td>1</td>\n",
              "      <td>0</td>\n",
              "    </tr>\n",
              "    <tr>\n",
              "      <th>4</th>\n",
              "      <td>65</td>\n",
              "      <td>0</td>\n",
              "      <td>3</td>\n",
              "      <td>145</td>\n",
              "      <td>200</td>\n",
              "      <td>0</td>\n",
              "      <td>0</td>\n",
              "      <td>190</td>\n",
              "      <td>1</td>\n",
              "      <td>6.100</td>\n",
              "      <td>0</td>\n",
              "      <td>3</td>\n",
              "      <td>1</td>\n",
              "    </tr>\n",
              "  </tbody>\n",
              "</table>\n",
              "</div>"
            ],
            "text/plain": [
              "   age  sex  cp  trestbps  chol  fbs  restecg  thalach  exang  oldpeak  slope  \\\n",
              "0   43    1   4       145   380    0        1      132      1    0.100      0   \n",
              "1   51    1   1       152   250    1        1      167      0    2.400      2   \n",
              "2   37    0   0       160   275    0        2      146      1    3.300      2   \n",
              "3   56    1   0       130   312    1        0      180      0    5.700      1   \n",
              "4   65    0   3       145   200    0        0      190      1    6.100      0   \n",
              "\n",
              "   ca  thal  \n",
              "0   0     3  \n",
              "1   3     1  \n",
              "2   2     2  \n",
              "3   1     0  \n",
              "4   3     1  "
            ]
          },
          "execution_count": 68,
          "metadata": {},
          "output_type": "execute_result"
        }
      ],
      "source": [
        "samples = pd.DataFrame(new_obs)\n",
        "samples"
      ]
    },
    {
      "cell_type": "code",
      "execution_count": null,
      "id": "9cf5e6b5",
      "metadata": {
        "id": "9cf5e6b5",
        "outputId": "3165b54f-41aa-44ec-b2de-89daf933df42"
      },
      "outputs": [
        {
          "data": {
            "text/plain": [
              "array([[0.29166667, 1.        , 1.33333333, 0.48113208, 0.57990868,\n",
              "        0.        , 0.5       , 0.46564885, 1.        , 0.01612903,\n",
              "        0.        , 0.        , 1.        ],\n",
              "       [0.45833333, 1.        , 0.33333333, 0.54716981, 0.28310502,\n",
              "        1.        , 0.5       , 0.73282443, 0.        , 0.38709677,\n",
              "        1.        , 0.75      , 0.33333333],\n",
              "       [0.16666667, 0.        , 0.        , 0.62264151, 0.34018265,\n",
              "        0.        , 1.        , 0.57251908, 1.        , 0.53225806,\n",
              "        1.        , 0.5       , 0.66666667],\n",
              "       [0.5625    , 1.        , 0.        , 0.33962264, 0.42465753,\n",
              "        1.        , 0.        , 0.83206107, 0.        , 0.91935484,\n",
              "        0.5       , 0.25      , 0.        ],\n",
              "       [0.75      , 0.        , 1.        , 0.48113208, 0.16894977,\n",
              "        0.        , 0.        , 0.90839695, 1.        , 0.98387097,\n",
              "        0.        , 0.75      , 0.33333333]])"
            ]
          },
          "execution_count": 70,
          "metadata": {},
          "output_type": "execute_result"
        }
      ],
      "source": [
        "samples_scaled = scaler.transform(samples)\n",
        "samples_scaled"
      ]
    },
    {
      "cell_type": "code",
      "execution_count": null,
      "id": "3133a3eb",
      "metadata": {
        "id": "3133a3eb",
        "outputId": "1a15422b-4d49-4c5f-edb5-416066083bb5"
      },
      "outputs": [
        {
          "data": {
            "text/plain": [
              "KNeighborsClassifier(n_neighbors=33)"
            ]
          },
          "execution_count": 71,
          "metadata": {},
          "output_type": "execute_result"
        }
      ],
      "source": [
        "final_knn_model.fit(X_scaled,y)"
      ]
    },
    {
      "cell_type": "code",
      "execution_count": null,
      "id": "dfcf7f77",
      "metadata": {
        "id": "dfcf7f77"
      },
      "outputs": [],
      "source": [
        "predictions = final_knn_model.predict(samples_scaled)\n",
        "predictions_proba = final_knn_model.predict_proba(samples_scaled)"
      ]
    },
    {
      "cell_type": "code",
      "execution_count": null,
      "id": "18b9e076",
      "metadata": {
        "id": "18b9e076",
        "outputId": "3f3fcc02-ed89-45dc-f577-b9acec10a17d"
      },
      "outputs": [
        {
          "data": {
            "text/html": [
              "<div>\n",
              "<style scoped>\n",
              "    .dataframe tbody tr th:only-of-type {\n",
              "        vertical-align: middle;\n",
              "    }\n",
              "\n",
              "    .dataframe tbody tr th {\n",
              "        vertical-align: top;\n",
              "    }\n",
              "\n",
              "    .dataframe thead th {\n",
              "        text-align: right;\n",
              "    }\n",
              "</style>\n",
              "<table border=\"1\" class=\"dataframe\">\n",
              "  <thead>\n",
              "    <tr style=\"text-align: right;\">\n",
              "      <th></th>\n",
              "      <th>age</th>\n",
              "      <th>sex</th>\n",
              "      <th>cp</th>\n",
              "      <th>trestbps</th>\n",
              "      <th>chol</th>\n",
              "      <th>fbs</th>\n",
              "      <th>restecg</th>\n",
              "      <th>thalach</th>\n",
              "      <th>exang</th>\n",
              "      <th>oldpeak</th>\n",
              "      <th>slope</th>\n",
              "      <th>ca</th>\n",
              "      <th>thal</th>\n",
              "      <th>pred</th>\n",
              "      <th>pred_proba_1</th>\n",
              "      <th>pred_proba_0</th>\n",
              "    </tr>\n",
              "  </thead>\n",
              "  <tbody>\n",
              "    <tr>\n",
              "      <th>0</th>\n",
              "      <td>43</td>\n",
              "      <td>1</td>\n",
              "      <td>4</td>\n",
              "      <td>145</td>\n",
              "      <td>380</td>\n",
              "      <td>0</td>\n",
              "      <td>1</td>\n",
              "      <td>132</td>\n",
              "      <td>1</td>\n",
              "      <td>0.100</td>\n",
              "      <td>0</td>\n",
              "      <td>0</td>\n",
              "      <td>3</td>\n",
              "      <td>1</td>\n",
              "      <td>0.545</td>\n",
              "      <td>0.455</td>\n",
              "    </tr>\n",
              "    <tr>\n",
              "      <th>1</th>\n",
              "      <td>51</td>\n",
              "      <td>1</td>\n",
              "      <td>1</td>\n",
              "      <td>152</td>\n",
              "      <td>250</td>\n",
              "      <td>1</td>\n",
              "      <td>1</td>\n",
              "      <td>167</td>\n",
              "      <td>0</td>\n",
              "      <td>2.400</td>\n",
              "      <td>2</td>\n",
              "      <td>3</td>\n",
              "      <td>1</td>\n",
              "      <td>1</td>\n",
              "      <td>0.545</td>\n",
              "      <td>0.455</td>\n",
              "    </tr>\n",
              "    <tr>\n",
              "      <th>2</th>\n",
              "      <td>37</td>\n",
              "      <td>0</td>\n",
              "      <td>0</td>\n",
              "      <td>160</td>\n",
              "      <td>275</td>\n",
              "      <td>0</td>\n",
              "      <td>2</td>\n",
              "      <td>146</td>\n",
              "      <td>1</td>\n",
              "      <td>3.300</td>\n",
              "      <td>2</td>\n",
              "      <td>2</td>\n",
              "      <td>2</td>\n",
              "      <td>0</td>\n",
              "      <td>0.364</td>\n",
              "      <td>0.636</td>\n",
              "    </tr>\n",
              "    <tr>\n",
              "      <th>3</th>\n",
              "      <td>56</td>\n",
              "      <td>1</td>\n",
              "      <td>0</td>\n",
              "      <td>130</td>\n",
              "      <td>312</td>\n",
              "      <td>1</td>\n",
              "      <td>0</td>\n",
              "      <td>180</td>\n",
              "      <td>0</td>\n",
              "      <td>5.700</td>\n",
              "      <td>1</td>\n",
              "      <td>1</td>\n",
              "      <td>0</td>\n",
              "      <td>0</td>\n",
              "      <td>0.455</td>\n",
              "      <td>0.545</td>\n",
              "    </tr>\n",
              "    <tr>\n",
              "      <th>4</th>\n",
              "      <td>65</td>\n",
              "      <td>0</td>\n",
              "      <td>3</td>\n",
              "      <td>145</td>\n",
              "      <td>200</td>\n",
              "      <td>0</td>\n",
              "      <td>0</td>\n",
              "      <td>190</td>\n",
              "      <td>1</td>\n",
              "      <td>6.100</td>\n",
              "      <td>0</td>\n",
              "      <td>3</td>\n",
              "      <td>1</td>\n",
              "      <td>0</td>\n",
              "      <td>0.485</td>\n",
              "      <td>0.515</td>\n",
              "    </tr>\n",
              "  </tbody>\n",
              "</table>\n",
              "</div>"
            ],
            "text/plain": [
              "   age  sex  cp  trestbps  chol  fbs  restecg  thalach  exang  oldpeak  slope  \\\n",
              "0   43    1   4       145   380    0        1      132      1    0.100      0   \n",
              "1   51    1   1       152   250    1        1      167      0    2.400      2   \n",
              "2   37    0   0       160   275    0        2      146      1    3.300      2   \n",
              "3   56    1   0       130   312    1        0      180      0    5.700      1   \n",
              "4   65    0   3       145   200    0        0      190      1    6.100      0   \n",
              "\n",
              "   ca  thal  pred  pred_proba_1  pred_proba_0  \n",
              "0   0     3     1         0.545         0.455  \n",
              "1   3     1     1         0.545         0.455  \n",
              "2   2     2     0         0.364         0.636  \n",
              "3   1     0     0         0.455         0.545  \n",
              "4   3     1     0         0.485         0.515  "
            ]
          },
          "execution_count": 73,
          "metadata": {},
          "output_type": "execute_result"
        }
      ],
      "source": [
        "samples[\"pred\"] = predictions\n",
        "samples[\"pred_proba_1\"] = predictions_proba[:,1]\n",
        "samples[\"pred_proba_0\"] = predictions_proba[:,0]\n",
        "samples"
      ]
    },
    {
      "cell_type": "code",
      "execution_count": null,
      "id": "81a3e8bb",
      "metadata": {
        "id": "81a3e8bb"
      },
      "outputs": [],
      "source": [
        ""
      ]
    },
    {
      "cell_type": "code",
      "execution_count": null,
      "id": "072bdd85",
      "metadata": {
        "id": "072bdd85"
      },
      "outputs": [],
      "source": [
        ""
      ]
    }
  ],
  "metadata": {
    "colab": {
      "collapsed_sections": [],
      "name": "Heart_Stroke_Prediction_lab.ipynb",
      "provenance": [],
      "include_colab_link": true
    },
    "kernelspec": {
      "display_name": "Python 3",
      "language": "python",
      "name": "python3"
    },
    "language_info": {
      "codemirror_mode": {
        "name": "ipython",
        "version": 3
      },
      "file_extension": ".py",
      "mimetype": "text/x-python",
      "name": "python",
      "nbconvert_exporter": "python",
      "pygments_lexer": "ipython3",
      "version": "3.8.8"
    },
    "toc": {
      "base_numbering": 1,
      "nav_menu": {},
      "number_sections": true,
      "sideBar": true,
      "skip_h1_title": false,
      "title_cell": "Table of Contents",
      "title_sidebar": "Contents",
      "toc_cell": false,
      "toc_position": {},
      "toc_section_display": true,
      "toc_window_display": false
    },
    "varInspector": {
      "cols": {
        "lenName": 16,
        "lenType": 16,
        "lenVar": 40
      },
      "kernels_config": {
        "python": {
          "delete_cmd_postfix": "",
          "delete_cmd_prefix": "del ",
          "library": "var_list.py",
          "varRefreshCmd": "print(var_dic_list())"
        },
        "r": {
          "delete_cmd_postfix": ") ",
          "delete_cmd_prefix": "rm(",
          "library": "var_list.r",
          "varRefreshCmd": "cat(var_dic_list()) "
        }
      },
      "types_to_exclude": [
        "module",
        "function",
        "builtin_function_or_method",
        "instance",
        "_Feature"
      ],
      "window_display": false
    }
  },
  "nbformat": 4,
  "nbformat_minor": 5
}