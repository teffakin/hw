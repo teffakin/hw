{
  "cells": [
    {
      "cell_type": "markdown",
      "metadata": {
        "id": "view-in-github",
        "colab_type": "text"
      },
      "source": [
        "<a href=\"https://colab.research.google.com/github/teffakin/hw/blob/main/Assignment2_Student.ipynb\" target=\"_parent\"><img src=\"https://colab.research.google.com/assets/colab-badge.svg\" alt=\"Open In Colab\"/></a>"
      ]
    },
    {
      "cell_type": "markdown",
      "metadata": {
        "id": "QzA8z64utA0z"
      },
      "source": [
        "___\n",
        "\n",
        "<p style=\"text-align: center;\"><img src=\"https://docs.google.com/uc?id=1lY0Uj5R04yMY3-ZppPWxqCr5pvBLYPnV\" class=\"img-fluid\" alt=\"Rossum\"></p>\n",
        "\n",
        "\n",
        "____\n"
      ]
    },
    {
      "cell_type": "code",
      "source": [
        "from google.colab import drive\n",
        "drive.mount('/content/drive')"
      ],
      "metadata": {
        "id": "gUyo-O3pDTXD"
      },
      "execution_count": null,
      "outputs": []
    },
    {
      "cell_type": "code",
      "execution_count": null,
      "metadata": {
        "id": "rZkLop10tA03"
      },
      "outputs": [],
      "source": [
        "import pandas as pd"
      ]
    },
    {
      "cell_type": "code",
      "execution_count": null,
      "metadata": {
        "id": "77WcTMWKtA04"
      },
      "outputs": [],
      "source": [
        "ecom = pd.read_csv('data.csv',encoding= 'unicode_escape')"
      ]
    },
    {
      "cell_type": "markdown",
      "metadata": {
        "id": "0O20S7eHtA05"
      },
      "source": [
        "**Check the head of the DataFrame.**"
      ]
    },
    {
      "cell_type": "code",
      "execution_count": null,
      "metadata": {
        "id": "uoEGskw2tA05",
        "outputId": "8617d369-bf56-4833-dadd-30f9a4e51a02"
      },
      "outputs": [
        {
          "data": {
            "text/html": [
              "<div>\n",
              "<style scoped>\n",
              "    .dataframe tbody tr th:only-of-type {\n",
              "        vertical-align: middle;\n",
              "    }\n",
              "\n",
              "    .dataframe tbody tr th {\n",
              "        vertical-align: top;\n",
              "    }\n",
              "\n",
              "    .dataframe thead th {\n",
              "        text-align: right;\n",
              "    }\n",
              "</style>\n",
              "<table border=\"1\" class=\"dataframe\">\n",
              "  <thead>\n",
              "    <tr style=\"text-align: right;\">\n",
              "      <th></th>\n",
              "      <th>InvoiceNo</th>\n",
              "      <th>StockCode</th>\n",
              "      <th>Description</th>\n",
              "      <th>Quantity</th>\n",
              "      <th>InvoiceDate</th>\n",
              "      <th>UnitPrice</th>\n",
              "      <th>CustomerID</th>\n",
              "      <th>Country</th>\n",
              "    </tr>\n",
              "  </thead>\n",
              "  <tbody>\n",
              "    <tr>\n",
              "      <th>0</th>\n",
              "      <td>536365</td>\n",
              "      <td>85123A</td>\n",
              "      <td>WHITE HANGING HEART T-LIGHT HOLDER</td>\n",
              "      <td>6</td>\n",
              "      <td>12/1/2010 8:26</td>\n",
              "      <td>2.55</td>\n",
              "      <td>17850.0</td>\n",
              "      <td>United Kingdom</td>\n",
              "    </tr>\n",
              "    <tr>\n",
              "      <th>1</th>\n",
              "      <td>536365</td>\n",
              "      <td>71053</td>\n",
              "      <td>WHITE METAL LANTERN</td>\n",
              "      <td>6</td>\n",
              "      <td>12/1/2010 8:26</td>\n",
              "      <td>3.39</td>\n",
              "      <td>17850.0</td>\n",
              "      <td>United Kingdom</td>\n",
              "    </tr>\n",
              "    <tr>\n",
              "      <th>2</th>\n",
              "      <td>536365</td>\n",
              "      <td>84406B</td>\n",
              "      <td>CREAM CUPID HEARTS COAT HANGER</td>\n",
              "      <td>8</td>\n",
              "      <td>12/1/2010 8:26</td>\n",
              "      <td>2.75</td>\n",
              "      <td>17850.0</td>\n",
              "      <td>United Kingdom</td>\n",
              "    </tr>\n",
              "    <tr>\n",
              "      <th>3</th>\n",
              "      <td>536365</td>\n",
              "      <td>84029G</td>\n",
              "      <td>KNITTED UNION FLAG HOT WATER BOTTLE</td>\n",
              "      <td>6</td>\n",
              "      <td>12/1/2010 8:26</td>\n",
              "      <td>3.39</td>\n",
              "      <td>17850.0</td>\n",
              "      <td>United Kingdom</td>\n",
              "    </tr>\n",
              "    <tr>\n",
              "      <th>4</th>\n",
              "      <td>536365</td>\n",
              "      <td>84029E</td>\n",
              "      <td>RED WOOLLY HOTTIE WHITE HEART.</td>\n",
              "      <td>6</td>\n",
              "      <td>12/1/2010 8:26</td>\n",
              "      <td>3.39</td>\n",
              "      <td>17850.0</td>\n",
              "      <td>United Kingdom</td>\n",
              "    </tr>\n",
              "  </tbody>\n",
              "</table>\n",
              "</div>"
            ],
            "text/plain": [
              "  InvoiceNo StockCode                          Description  Quantity  \\\n",
              "0    536365    85123A   WHITE HANGING HEART T-LIGHT HOLDER         6   \n",
              "1    536365     71053                  WHITE METAL LANTERN         6   \n",
              "2    536365    84406B       CREAM CUPID HEARTS COAT HANGER         8   \n",
              "3    536365    84029G  KNITTED UNION FLAG HOT WATER BOTTLE         6   \n",
              "4    536365    84029E       RED WOOLLY HOTTIE WHITE HEART.         6   \n",
              "\n",
              "      InvoiceDate  UnitPrice  CustomerID         Country  \n",
              "0  12/1/2010 8:26       2.55     17850.0  United Kingdom  \n",
              "1  12/1/2010 8:26       3.39     17850.0  United Kingdom  \n",
              "2  12/1/2010 8:26       2.75     17850.0  United Kingdom  \n",
              "3  12/1/2010 8:26       3.39     17850.0  United Kingdom  \n",
              "4  12/1/2010 8:26       3.39     17850.0  United Kingdom  "
            ]
          },
          "execution_count": 3,
          "metadata": {},
          "output_type": "execute_result"
        }
      ],
      "source": [
        "ecom.head()"
      ]
    },
    {
      "cell_type": "markdown",
      "metadata": {
        "id": "S3Au6E8btA06"
      },
      "source": [
        "** How many rows and columns are there? **"
      ]
    },
    {
      "cell_type": "code",
      "execution_count": null,
      "metadata": {
        "id": "xmGHANp2tA07",
        "outputId": "4f6002be-c10a-41d7-dc25-6299b33d9e0d"
      },
      "outputs": [
        {
          "name": "stdout",
          "output_type": "stream",
          "text": [
            "<class 'pandas.core.frame.DataFrame'>\n",
            "RangeIndex: 541909 entries, 0 to 541908\n",
            "Data columns (total 8 columns):\n",
            " #   Column       Non-Null Count   Dtype  \n",
            "---  ------       --------------   -----  \n",
            " 0   InvoiceNo    541909 non-null  object \n",
            " 1   StockCode    541909 non-null  object \n",
            " 2   Description  540455 non-null  object \n",
            " 3   Quantity     541909 non-null  int64  \n",
            " 4   InvoiceDate  541909 non-null  object \n",
            " 5   UnitPrice    541909 non-null  float64\n",
            " 6   CustomerID   406829 non-null  float64\n",
            " 7   Country      541909 non-null  object \n",
            "dtypes: float64(2), int64(1), object(5)\n",
            "memory usage: 33.1+ MB\n"
          ]
        }
      ],
      "source": [
        "ecom.info()"
      ]
    },
    {
      "cell_type": "markdown",
      "metadata": {
        "id": "AiiPd5tXtA07"
      },
      "source": [
        "** Show the statistical measurements of ecom dataset **"
      ]
    },
    {
      "cell_type": "code",
      "execution_count": null,
      "metadata": {
        "id": "lSinC-PstA08",
        "outputId": "9f685bd9-bcd0-4592-edf6-9bb0e12b6939"
      },
      "outputs": [
        {
          "data": {
            "text/html": [
              "<div>\n",
              "<style scoped>\n",
              "    .dataframe tbody tr th:only-of-type {\n",
              "        vertical-align: middle;\n",
              "    }\n",
              "\n",
              "    .dataframe tbody tr th {\n",
              "        vertical-align: top;\n",
              "    }\n",
              "\n",
              "    .dataframe thead th {\n",
              "        text-align: right;\n",
              "    }\n",
              "</style>\n",
              "<table border=\"1\" class=\"dataframe\">\n",
              "  <thead>\n",
              "    <tr style=\"text-align: right;\">\n",
              "      <th></th>\n",
              "      <th>Quantity</th>\n",
              "      <th>UnitPrice</th>\n",
              "      <th>CustomerID</th>\n",
              "    </tr>\n",
              "  </thead>\n",
              "  <tbody>\n",
              "    <tr>\n",
              "      <th>count</th>\n",
              "      <td>541909.000000</td>\n",
              "      <td>541909.000000</td>\n",
              "      <td>406829.000000</td>\n",
              "    </tr>\n",
              "    <tr>\n",
              "      <th>mean</th>\n",
              "      <td>9.552250</td>\n",
              "      <td>4.611114</td>\n",
              "      <td>15287.690570</td>\n",
              "    </tr>\n",
              "    <tr>\n",
              "      <th>std</th>\n",
              "      <td>218.081158</td>\n",
              "      <td>96.759853</td>\n",
              "      <td>1713.600303</td>\n",
              "    </tr>\n",
              "    <tr>\n",
              "      <th>min</th>\n",
              "      <td>-80995.000000</td>\n",
              "      <td>-11062.060000</td>\n",
              "      <td>12346.000000</td>\n",
              "    </tr>\n",
              "    <tr>\n",
              "      <th>25%</th>\n",
              "      <td>1.000000</td>\n",
              "      <td>1.250000</td>\n",
              "      <td>13953.000000</td>\n",
              "    </tr>\n",
              "    <tr>\n",
              "      <th>50%</th>\n",
              "      <td>3.000000</td>\n",
              "      <td>2.080000</td>\n",
              "      <td>15152.000000</td>\n",
              "    </tr>\n",
              "    <tr>\n",
              "      <th>75%</th>\n",
              "      <td>10.000000</td>\n",
              "      <td>4.130000</td>\n",
              "      <td>16791.000000</td>\n",
              "    </tr>\n",
              "    <tr>\n",
              "      <th>max</th>\n",
              "      <td>80995.000000</td>\n",
              "      <td>38970.000000</td>\n",
              "      <td>18287.000000</td>\n",
              "    </tr>\n",
              "  </tbody>\n",
              "</table>\n",
              "</div>"
            ],
            "text/plain": [
              "            Quantity      UnitPrice     CustomerID\n",
              "count  541909.000000  541909.000000  406829.000000\n",
              "mean        9.552250       4.611114   15287.690570\n",
              "std       218.081158      96.759853    1713.600303\n",
              "min    -80995.000000  -11062.060000   12346.000000\n",
              "25%         1.000000       1.250000   13953.000000\n",
              "50%         3.000000       2.080000   15152.000000\n",
              "75%        10.000000       4.130000   16791.000000\n",
              "max     80995.000000   38970.000000   18287.000000"
            ]
          },
          "execution_count": 5,
          "metadata": {},
          "output_type": "execute_result"
        }
      ],
      "source": [
        "ecom.describe()"
      ]
    },
    {
      "cell_type": "markdown",
      "metadata": {
        "id": "VRVy-n4ctA08"
      },
      "source": [
        "** What is the average Purchase Price? **"
      ]
    },
    {
      "cell_type": "code",
      "execution_count": null,
      "metadata": {
        "id": "Lnqde1UXtA09",
        "outputId": "bf9ba91a-e8dd-4ed8-dfcc-3c3d446ab9d6"
      },
      "outputs": [
        {
          "data": {
            "text/plain": [
              "4.611113626083471"
            ]
          },
          "execution_count": 44,
          "metadata": {},
          "output_type": "execute_result"
        }
      ],
      "source": [
        "ecom.UnitPrice.mean()"
      ]
    },
    {
      "cell_type": "markdown",
      "metadata": {
        "id": "sYuZjZwbtA09"
      },
      "source": [
        "** What were the highest and lowest purchase prices? **"
      ]
    },
    {
      "cell_type": "code",
      "execution_count": null,
      "metadata": {
        "id": "XHTkMttYtA09",
        "outputId": "32a89a40-5d51-4f16-a065-f068cac5a5d6"
      },
      "outputs": [
        {
          "data": {
            "text/plain": [
              "38970.0"
            ]
          },
          "execution_count": 45,
          "metadata": {},
          "output_type": "execute_result"
        }
      ],
      "source": [
        "ecom.UnitPrice.max()"
      ]
    },
    {
      "cell_type": "code",
      "execution_count": null,
      "metadata": {
        "id": "xAHs3gvMtA0-",
        "outputId": "cdc06e4f-fd96-48f7-a766-99d583653e5f"
      },
      "outputs": [
        {
          "data": {
            "text/plain": [
              "-11062.06"
            ]
          },
          "execution_count": 46,
          "metadata": {},
          "output_type": "execute_result"
        }
      ],
      "source": [
        "ecom['UnitPrice'].min()"
      ]
    },
    {
      "cell_type": "markdown",
      "metadata": {
        "id": "Hc4SDcXUtA0-"
      },
      "source": [
        "** List the country names and number of records belongs to each country **"
      ]
    },
    {
      "cell_type": "code",
      "execution_count": null,
      "metadata": {
        "id": "MVLLeS-GtA0_",
        "outputId": "0ec08fc3-bd15-479b-b44d-0a7695168310"
      },
      "outputs": [
        {
          "data": {
            "text/plain": [
              "United Kingdom          495478\n",
              "Germany                   9495\n",
              "France                    8557\n",
              "EIRE                      8196\n",
              "Spain                     2533\n",
              "Netherlands               2371\n",
              "Belgium                   2069\n",
              "Switzerland               2002\n",
              "Portugal                  1519\n",
              "Australia                 1259\n",
              "Norway                    1086\n",
              "Italy                      803\n",
              "Channel Islands            758\n",
              "Finland                    695\n",
              "Cyprus                     622\n",
              "Sweden                     462\n",
              "Unspecified                446\n",
              "Austria                    401\n",
              "Denmark                    389\n",
              "Japan                      358\n",
              "Poland                     341\n",
              "Israel                     297\n",
              "USA                        291\n",
              "Hong Kong                  288\n",
              "Singapore                  229\n",
              "Iceland                    182\n",
              "Canada                     151\n",
              "Greece                     146\n",
              "Malta                      127\n",
              "United Arab Emirates        68\n",
              "European Community          61\n",
              "RSA                         58\n",
              "Lebanon                     45\n",
              "Lithuania                   35\n",
              "Brazil                      32\n",
              "Czech Republic              30\n",
              "Bahrain                     19\n",
              "Saudi Arabia                10\n",
              "Name: Country, dtype: int64"
            ]
          },
          "execution_count": 47,
          "metadata": {},
          "output_type": "execute_result"
        }
      ],
      "source": [
        "ecom.Country.value_counts()"
      ]
    },
    {
      "cell_type": "markdown",
      "metadata": {
        "id": "P2ttKXmftA0_"
      },
      "source": [
        "** How many records are as Country United Kingdom? **"
      ]
    },
    {
      "cell_type": "code",
      "execution_count": null,
      "metadata": {
        "id": "W6kxVXIjtA0_",
        "outputId": "e050bd73-42ac-408b-90ea-358c13630b2b"
      },
      "outputs": [
        {
          "data": {
            "text/plain": [
              "InvoiceNo      495478\n",
              "StockCode      495478\n",
              "Description    494024\n",
              "Quantity       495478\n",
              "InvoiceDate    495478\n",
              "UnitPrice      495478\n",
              "CustomerID     361878\n",
              "Country        495478\n",
              "dtype: int64"
            ]
          },
          "execution_count": 48,
          "metadata": {},
          "output_type": "execute_result"
        }
      ],
      "source": [
        "ecom[ecom['Country']=='United Kingdom'].count()"
      ]
    },
    {
      "cell_type": "markdown",
      "metadata": {
        "id": "Y0koZTfltA0_"
      },
      "source": [
        "** Create a column named Total which shows the total amount of spend using UnitPrice and Quantity ? **\n"
      ]
    },
    {
      "cell_type": "code",
      "execution_count": null,
      "metadata": {
        "id": "FbVxPsM_tA1A",
        "outputId": "e14444d1-5983-4488-f2db-485df9cb7dd2"
      },
      "outputs": [
        {
          "data": {
            "text/plain": [
              "0         15.30\n",
              "1         20.34\n",
              "2         22.00\n",
              "3         20.34\n",
              "4         20.34\n",
              "          ...  \n",
              "541904    10.20\n",
              "541905    12.60\n",
              "541906    16.60\n",
              "541907    16.60\n",
              "541908    14.85\n",
              "Name: Total, Length: 541909, dtype: float64"
            ]
          },
          "execution_count": 49,
          "metadata": {},
          "output_type": "execute_result"
        }
      ],
      "source": [
        "ecom['Total'] = ecom['UnitPrice'] * ecom['Quantity']"
      ]
    },
    {
      "cell_type": "markdown",
      "metadata": {
        "id": "K9_OXUP3tA1A"
      },
      "source": [
        "** Show total spending amount according to the Countries **"
      ]
    },
    {
      "cell_type": "code",
      "execution_count": null,
      "metadata": {
        "id": "zUePKXactA1A",
        "outputId": "17ed8a7a-6419-4211-db52-640cf9b0dac7"
      },
      "outputs": [
        {
          "data": {
            "text/plain": [
              "Country\n",
              "Australia                137.077270\n",
              "Austria                   10.154320\n",
              "Bahrain                    0.548400\n",
              "Belgium                   40.910960\n",
              "Brazil                     1.143600\n",
              "Canada                     3.666380\n",
              "Channel Islands           20.086290\n",
              "Cyprus                    12.946290\n",
              "Czech Republic             0.707720\n",
              "Denmark                   18.768140\n",
              "EIRE                     263.276820\n",
              "European Community         1.291750\n",
              "Finland                   22.326740\n",
              "France                   197.403900\n",
              "Germany                  221.698210\n",
              "Greece                     4.710520\n",
              "Hong Kong                 10.117040\n",
              "Iceland                    4.310000\n",
              "Israel                     7.907820\n",
              "Italy                     16.890510\n",
              "Japan                     35.340620\n",
              "Lebanon                    1.693880\n",
              "Lithuania                  1.661060\n",
              "Malta                      2.505470\n",
              "Netherlands              284.661540\n",
              "Norway                    35.163460\n",
              "Poland                     7.213140\n",
              "Portugal                  29.367020\n",
              "RSA                        1.002310\n",
              "Saudi Arabia               0.131170\n",
              "Singapore                  9.120390\n",
              "Spain                     54.774580\n",
              "Sweden                    36.595910\n",
              "Switzerland               56.385350\n",
              "USA                        1.730920\n",
              "United Arab Emirates       1.902280\n",
              "United Kingdom          8187.806364\n",
              "Unspecified                4.749790\n",
              "Name: Total, dtype: float64"
            ]
          },
          "execution_count": 50,
          "metadata": {},
          "output_type": "execute_result"
        }
      ],
      "source": [
        "ecom.groupby('Country')['Total'].round(3)"
      ]
    },
    {
      "cell_type": "markdown",
      "metadata": {
        "id": "aogBtS7BtA1B"
      },
      "source": [
        "** Which Country spend least? **"
      ]
    },
    {
      "cell_type": "code",
      "execution_count": null,
      "metadata": {
        "id": "S5ZIPvOytA1B",
        "outputId": "9ee885ec-af3c-4f92-b3a1-fb4b9a71d2dd"
      },
      "outputs": [
        {
          "data": {
            "text/plain": [
              "Country\n",
              "Saudi Arabia    131.17\n",
              "Name: Total, dtype: float64"
            ]
          },
          "execution_count": 51,
          "metadata": {},
          "output_type": "execute_result"
        }
      ],
      "source": [
        "total_list= ecom.groupby(\"Country\")['Total'].sum()\n",
        "total_list.iloc[[total_list.argmin()]]"
      ]
    },
    {
      "cell_type": "code",
      "execution_count": null,
      "metadata": {
        "id": "t7yYASN0tA1B"
      },
      "outputs": [],
      "source": [
        ""
      ]
    },
    {
      "cell_type": "markdown",
      "metadata": {
        "id": "vZ3G_432tA1B"
      },
      "source": [
        "** Calculate average of spending according to country with apply function? **"
      ]
    },
    {
      "cell_type": "code",
      "execution_count": null,
      "metadata": {
        "id": "B1NM5lFNtA1B",
        "outputId": "f1fbf41a-b82e-41a6-b93e-510466e76ee1"
      },
      "outputs": [
        {
          "data": {
            "application/javascript": [
              "\n",
              "        if (window._pyforest_update_imports_cell) { window._pyforest_update_imports_cell('import numpy as np'); }\n",
              "    "
            ],
            "text/plain": [
              "<IPython.core.display.Javascript object>"
            ]
          },
          "metadata": {},
          "output_type": "display_data"
        },
        {
          "data": {
            "text/plain": [
              "Country\n",
              "Australia               108.877895\n",
              "Austria                  25.322494\n",
              "Bahrain                  28.863158\n",
              "Belgium                  19.773301\n",
              "Brazil                   35.737500\n",
              "Canada                   24.280662\n",
              "Channel Islands          26.499063\n",
              "Cyprus                   20.813971\n",
              "Czech Republic           23.590667\n",
              "Denmark                  48.247147\n",
              "EIRE                     32.122599\n",
              "European Community       21.176230\n",
              "Finland                  32.124806\n",
              "France                   23.069288\n",
              "Germany                  23.348943\n",
              "Greece                   32.263836\n",
              "Hong Kong                35.128611\n",
              "Iceland                  23.681319\n",
              "Israel                   26.625657\n",
              "Italy                    21.034259\n",
              "Japan                    98.716816\n",
              "Lebanon                  37.641778\n",
              "Lithuania                47.458857\n",
              "Malta                    19.728110\n",
              "Netherlands             120.059696\n",
              "Norway                   32.378877\n",
              "Poland                   21.152903\n",
              "Portugal                 19.333127\n",
              "RSA                      17.281207\n",
              "Saudi Arabia             13.117000\n",
              "Singapore                39.827031\n",
              "Spain                    21.624390\n",
              "Sweden                   79.211926\n",
              "Switzerland              28.164510\n",
              "USA                       5.948179\n",
              "United Arab Emirates     27.974706\n",
              "United Kingdom           16.525065\n",
              "Unspecified              10.649753\n",
              "Name: Total, dtype: float64"
            ]
          },
          "execution_count": 52,
          "metadata": {},
          "output_type": "execute_result"
        }
      ],
      "source": [
        "ecom.groupby('Country')['Total'].apply(lambda x : x.mean())"
      ]
    },
    {
      "cell_type": "markdown",
      "metadata": {
        "id": "NvpGCtd8tA1C"
      },
      "source": [
        "** Calculate average,min,max of spending according to country with agg function? **"
      ]
    },
    {
      "cell_type": "code",
      "execution_count": null,
      "metadata": {
        "id": "zv69f5oatA1C",
        "outputId": "855b3ace-1680-4e4d-a1b7-0c309b5a6d70"
      },
      "outputs": [
        {
          "data": {
            "text/html": [
              "<div>\n",
              "<style scoped>\n",
              "    .dataframe tbody tr th:only-of-type {\n",
              "        vertical-align: middle;\n",
              "    }\n",
              "\n",
              "    .dataframe tbody tr th {\n",
              "        vertical-align: top;\n",
              "    }\n",
              "\n",
              "    .dataframe thead th {\n",
              "        text-align: right;\n",
              "    }\n",
              "</style>\n",
              "<table border=\"1\" class=\"dataframe\">\n",
              "  <thead>\n",
              "    <tr style=\"text-align: right;\">\n",
              "      <th></th>\n",
              "      <th>min</th>\n",
              "      <th>max</th>\n",
              "      <th>mean</th>\n",
              "    </tr>\n",
              "    <tr>\n",
              "      <th>Country</th>\n",
              "      <th></th>\n",
              "      <th></th>\n",
              "      <th></th>\n",
              "    </tr>\n",
              "  </thead>\n",
              "  <tbody>\n",
              "    <tr>\n",
              "      <th>Australia</th>\n",
              "      <td>-425.00</td>\n",
              "      <td>1718.40</td>\n",
              "      <td>108.877895</td>\n",
              "    </tr>\n",
              "    <tr>\n",
              "      <th>Austria</th>\n",
              "      <td>-21.25</td>\n",
              "      <td>360.00</td>\n",
              "      <td>25.322494</td>\n",
              "    </tr>\n",
              "    <tr>\n",
              "      <th>Bahrain</th>\n",
              "      <td>-205.74</td>\n",
              "      <td>205.74</td>\n",
              "      <td>28.863158</td>\n",
              "    </tr>\n",
              "    <tr>\n",
              "      <th>Belgium</th>\n",
              "      <td>-19.95</td>\n",
              "      <td>165.00</td>\n",
              "      <td>19.773301</td>\n",
              "    </tr>\n",
              "    <tr>\n",
              "      <th>Brazil</th>\n",
              "      <td>15.00</td>\n",
              "      <td>175.20</td>\n",
              "      <td>35.737500</td>\n",
              "    </tr>\n",
              "    <tr>\n",
              "      <th>Canada</th>\n",
              "      <td>2.50</td>\n",
              "      <td>550.94</td>\n",
              "      <td>24.280662</td>\n",
              "    </tr>\n",
              "    <tr>\n",
              "      <th>Channel Islands</th>\n",
              "      <td>-293.00</td>\n",
              "      <td>408.00</td>\n",
              "      <td>26.499063</td>\n",
              "    </tr>\n",
              "    <tr>\n",
              "      <th>Cyprus</th>\n",
              "      <td>-320.69</td>\n",
              "      <td>320.69</td>\n",
              "      <td>20.813971</td>\n",
              "    </tr>\n",
              "    <tr>\n",
              "      <th>Czech Republic</th>\n",
              "      <td>-35.76</td>\n",
              "      <td>70.80</td>\n",
              "      <td>23.590667</td>\n",
              "    </tr>\n",
              "    <tr>\n",
              "      <th>Denmark</th>\n",
              "      <td>-59.80</td>\n",
              "      <td>428.40</td>\n",
              "      <td>48.247147</td>\n",
              "    </tr>\n",
              "    <tr>\n",
              "      <th>EIRE</th>\n",
              "      <td>-1917.00</td>\n",
              "      <td>2365.20</td>\n",
              "      <td>32.122599</td>\n",
              "    </tr>\n",
              "    <tr>\n",
              "      <th>European Community</th>\n",
              "      <td>-8.50</td>\n",
              "      <td>60.00</td>\n",
              "      <td>21.176230</td>\n",
              "    </tr>\n",
              "    <tr>\n",
              "      <th>Finland</th>\n",
              "      <td>-80.00</td>\n",
              "      <td>551.20</td>\n",
              "      <td>32.124806</td>\n",
              "    </tr>\n",
              "    <tr>\n",
              "      <th>France</th>\n",
              "      <td>-8322.12</td>\n",
              "      <td>4161.06</td>\n",
              "      <td>23.069288</td>\n",
              "    </tr>\n",
              "    <tr>\n",
              "      <th>Germany</th>\n",
              "      <td>-599.50</td>\n",
              "      <td>876.00</td>\n",
              "      <td>23.348943</td>\n",
              "    </tr>\n",
              "    <tr>\n",
              "      <th>Greece</th>\n",
              "      <td>-50.00</td>\n",
              "      <td>175.20</td>\n",
              "      <td>32.263836</td>\n",
              "    </tr>\n",
              "    <tr>\n",
              "      <th>Hong Kong</th>\n",
              "      <td>-2653.95</td>\n",
              "      <td>2653.95</td>\n",
              "      <td>35.128611</td>\n",
              "    </tr>\n",
              "    <tr>\n",
              "      <th>Iceland</th>\n",
              "      <td>5.04</td>\n",
              "      <td>249.60</td>\n",
              "      <td>23.681319</td>\n",
              "    </tr>\n",
              "    <tr>\n",
              "      <th>Israel</th>\n",
              "      <td>-136.00</td>\n",
              "      <td>350.40</td>\n",
              "      <td>26.625657</td>\n",
              "    </tr>\n",
              "    <tr>\n",
              "      <th>Italy</th>\n",
              "      <td>-89.55</td>\n",
              "      <td>300.00</td>\n",
              "      <td>21.034259</td>\n",
              "    </tr>\n",
              "    <tr>\n",
              "      <th>Japan</th>\n",
              "      <td>-1591.20</td>\n",
              "      <td>3794.40</td>\n",
              "      <td>98.716816</td>\n",
              "    </tr>\n",
              "    <tr>\n",
              "      <th>Lebanon</th>\n",
              "      <td>10.20</td>\n",
              "      <td>153.00</td>\n",
              "      <td>37.641778</td>\n",
              "    </tr>\n",
              "    <tr>\n",
              "      <th>Lithuania</th>\n",
              "      <td>13.20</td>\n",
              "      <td>122.40</td>\n",
              "      <td>47.458857</td>\n",
              "    </tr>\n",
              "    <tr>\n",
              "      <th>Malta</th>\n",
              "      <td>-130.00</td>\n",
              "      <td>455.00</td>\n",
              "      <td>19.728110</td>\n",
              "    </tr>\n",
              "    <tr>\n",
              "      <th>Netherlands</th>\n",
              "      <td>-266.40</td>\n",
              "      <td>4992.00</td>\n",
              "      <td>120.059696</td>\n",
              "    </tr>\n",
              "    <tr>\n",
              "      <th>Norway</th>\n",
              "      <td>-376.50</td>\n",
              "      <td>700.00</td>\n",
              "      <td>32.378877</td>\n",
              "    </tr>\n",
              "    <tr>\n",
              "      <th>Poland</th>\n",
              "      <td>-39.80</td>\n",
              "      <td>120.00</td>\n",
              "      <td>21.152903</td>\n",
              "    </tr>\n",
              "    <tr>\n",
              "      <th>Portugal</th>\n",
              "      <td>-1241.98</td>\n",
              "      <td>1241.98</td>\n",
              "      <td>19.333127</td>\n",
              "    </tr>\n",
              "    <tr>\n",
              "      <th>RSA</th>\n",
              "      <td>0.00</td>\n",
              "      <td>38.25</td>\n",
              "      <td>17.281207</td>\n",
              "    </tr>\n",
              "    <tr>\n",
              "      <th>Saudi Arabia</th>\n",
              "      <td>-14.75</td>\n",
              "      <td>19.80</td>\n",
              "      <td>13.117000</td>\n",
              "    </tr>\n",
              "    <tr>\n",
              "      <th>Singapore</th>\n",
              "      <td>-3949.32</td>\n",
              "      <td>3949.32</td>\n",
              "      <td>39.827031</td>\n",
              "    </tr>\n",
              "    <tr>\n",
              "      <th>Spain</th>\n",
              "      <td>-1715.85</td>\n",
              "      <td>1350.00</td>\n",
              "      <td>21.624390</td>\n",
              "    </tr>\n",
              "    <tr>\n",
              "      <th>Sweden</th>\n",
              "      <td>-1188.00</td>\n",
              "      <td>1188.00</td>\n",
              "      <td>79.211926</td>\n",
              "    </tr>\n",
              "    <tr>\n",
              "      <th>Switzerland</th>\n",
              "      <td>-179.00</td>\n",
              "      <td>360.00</td>\n",
              "      <td>28.164510</td>\n",
              "    </tr>\n",
              "    <tr>\n",
              "      <th>USA</th>\n",
              "      <td>-74.88</td>\n",
              "      <td>81.36</td>\n",
              "      <td>5.948179</td>\n",
              "    </tr>\n",
              "    <tr>\n",
              "      <th>United Arab Emirates</th>\n",
              "      <td>3.48</td>\n",
              "      <td>153.00</td>\n",
              "      <td>27.974706</td>\n",
              "    </tr>\n",
              "    <tr>\n",
              "      <th>United Kingdom</th>\n",
              "      <td>-168469.60</td>\n",
              "      <td>168469.60</td>\n",
              "      <td>16.525065</td>\n",
              "    </tr>\n",
              "    <tr>\n",
              "      <th>Unspecified</th>\n",
              "      <td>0.19</td>\n",
              "      <td>69.36</td>\n",
              "      <td>10.649753</td>\n",
              "    </tr>\n",
              "  </tbody>\n",
              "</table>\n",
              "</div>"
            ],
            "text/plain": [
              "                            min        max        mean\n",
              "Country                                               \n",
              "Australia               -425.00    1718.40  108.877895\n",
              "Austria                  -21.25     360.00   25.322494\n",
              "Bahrain                 -205.74     205.74   28.863158\n",
              "Belgium                  -19.95     165.00   19.773301\n",
              "Brazil                    15.00     175.20   35.737500\n",
              "Canada                     2.50     550.94   24.280662\n",
              "Channel Islands         -293.00     408.00   26.499063\n",
              "Cyprus                  -320.69     320.69   20.813971\n",
              "Czech Republic           -35.76      70.80   23.590667\n",
              "Denmark                  -59.80     428.40   48.247147\n",
              "EIRE                   -1917.00    2365.20   32.122599\n",
              "European Community        -8.50      60.00   21.176230\n",
              "Finland                  -80.00     551.20   32.124806\n",
              "France                 -8322.12    4161.06   23.069288\n",
              "Germany                 -599.50     876.00   23.348943\n",
              "Greece                   -50.00     175.20   32.263836\n",
              "Hong Kong              -2653.95    2653.95   35.128611\n",
              "Iceland                    5.04     249.60   23.681319\n",
              "Israel                  -136.00     350.40   26.625657\n",
              "Italy                    -89.55     300.00   21.034259\n",
              "Japan                  -1591.20    3794.40   98.716816\n",
              "Lebanon                   10.20     153.00   37.641778\n",
              "Lithuania                 13.20     122.40   47.458857\n",
              "Malta                   -130.00     455.00   19.728110\n",
              "Netherlands             -266.40    4992.00  120.059696\n",
              "Norway                  -376.50     700.00   32.378877\n",
              "Poland                   -39.80     120.00   21.152903\n",
              "Portugal               -1241.98    1241.98   19.333127\n",
              "RSA                        0.00      38.25   17.281207\n",
              "Saudi Arabia             -14.75      19.80   13.117000\n",
              "Singapore              -3949.32    3949.32   39.827031\n",
              "Spain                  -1715.85    1350.00   21.624390\n",
              "Sweden                 -1188.00    1188.00   79.211926\n",
              "Switzerland             -179.00     360.00   28.164510\n",
              "USA                      -74.88      81.36    5.948179\n",
              "United Arab Emirates       3.48     153.00   27.974706\n",
              "United Kingdom       -168469.60  168469.60   16.525065\n",
              "Unspecified                0.19      69.36   10.649753"
            ]
          },
          "execution_count": 53,
          "metadata": {},
          "output_type": "execute_result"
        }
      ],
      "source": [
        "ecom.groupby('Country')['Total'].agg(['min','max','mean'])"
      ]
    },
    {
      "cell_type": "markdown",
      "metadata": {
        "id": "Y-A6jO96tA1C"
      },
      "source": [
        "** What is the max Total spending in whole dataset and show the records of that spending ?**"
      ]
    },
    {
      "cell_type": "code",
      "execution_count": null,
      "metadata": {
        "id": "Rgar1ss4tA1C",
        "outputId": "0661cca3-338f-42db-d9cb-52678e3f5d0e"
      },
      "outputs": [
        {
          "data": {
            "text/html": [
              "<div>\n",
              "<style scoped>\n",
              "    .dataframe tbody tr th:only-of-type {\n",
              "        vertical-align: middle;\n",
              "    }\n",
              "\n",
              "    .dataframe tbody tr th {\n",
              "        vertical-align: top;\n",
              "    }\n",
              "\n",
              "    .dataframe thead th {\n",
              "        text-align: right;\n",
              "    }\n",
              "</style>\n",
              "<table border=\"1\" class=\"dataframe\">\n",
              "  <thead>\n",
              "    <tr style=\"text-align: right;\">\n",
              "      <th></th>\n",
              "      <th>InvoiceNo</th>\n",
              "      <th>StockCode</th>\n",
              "      <th>Description</th>\n",
              "      <th>Quantity</th>\n",
              "      <th>InvoiceDate</th>\n",
              "      <th>UnitPrice</th>\n",
              "      <th>CustomerID</th>\n",
              "      <th>Country</th>\n",
              "      <th>Total</th>\n",
              "    </tr>\n",
              "  </thead>\n",
              "  <tbody>\n",
              "    <tr>\n",
              "      <th>540421</th>\n",
              "      <td>581483</td>\n",
              "      <td>23843</td>\n",
              "      <td>PAPER CRAFT , LITTLE BIRDIE</td>\n",
              "      <td>80995</td>\n",
              "      <td>12/9/2011 9:15</td>\n",
              "      <td>2.08</td>\n",
              "      <td>16446.0</td>\n",
              "      <td>United Kingdom</td>\n",
              "      <td>168469.6</td>\n",
              "    </tr>\n",
              "  </tbody>\n",
              "</table>\n",
              "</div>"
            ],
            "text/plain": [
              "       InvoiceNo StockCode                  Description  Quantity  \\\n",
              "540421    581483     23843  PAPER CRAFT , LITTLE BIRDIE     80995   \n",
              "\n",
              "           InvoiceDate  UnitPrice  CustomerID         Country     Total  \n",
              "540421  12/9/2011 9:15       2.08     16446.0  United Kingdom  168469.6  "
            ]
          },
          "execution_count": 55,
          "metadata": {},
          "output_type": "execute_result"
        }
      ],
      "source": [
        "ecom.sort_values(by='Total', ascending=False).head(1)"
      ]
    },
    {
      "cell_type": "markdown",
      "metadata": {
        "id": "7tGiyxM7tA1D"
      },
      "source": [
        "** How many people who live in Spain spend more than average Total ?**"
      ]
    },
    {
      "cell_type": "code",
      "execution_count": null,
      "metadata": {
        "id": "Yc-JY4SCtA1D",
        "outputId": "364e524a-93fc-44b1-815f-1e39d096aab6"
      },
      "outputs": [
        {
          "data": {
            "text/plain": [
              "InvoiceNo      728\n",
              "StockCode      728\n",
              "Description    728\n",
              "Quantity       728\n",
              "InvoiceDate    728\n",
              "UnitPrice      728\n",
              "CustomerID     728\n",
              "Country        728\n",
              "Total          728\n",
              "dtype: int64"
            ]
          },
          "execution_count": 56,
          "metadata": {},
          "output_type": "execute_result"
        }
      ],
      "source": [
        "ecom.loc[(ecom.Country == \"Spain\") & (ecom[\"Total\"] > ecom.Total.mean())].count()"
      ]
    },
    {
      "cell_type": "markdown",
      "metadata": {
        "id": "C2QqQcOUtA1E"
      },
      "source": [
        "** Convert datatype of InvoiceDate to datetime and assign it to new column name InvoiceDate2**"
      ]
    },
    {
      "cell_type": "code",
      "execution_count": null,
      "metadata": {
        "id": "VTSAoih3tA1F",
        "outputId": "a685e098-bd1d-4958-84e3-0ba8ac3d9fda"
      },
      "outputs": [
        {
          "data": {
            "text/plain": [
              "0        2010-12-01 08:26:00\n",
              "1        2010-12-01 08:26:00\n",
              "2        2010-12-01 08:26:00\n",
              "3        2010-12-01 08:26:00\n",
              "4        2010-12-01 08:26:00\n",
              "                 ...        \n",
              "541904   2011-12-09 12:50:00\n",
              "541905   2011-12-09 12:50:00\n",
              "541906   2011-12-09 12:50:00\n",
              "541907   2011-12-09 12:50:00\n",
              "541908   2011-12-09 12:50:00\n",
              "Name: InvoiceDate2, Length: 541909, dtype: datetime64[ns]"
            ]
          },
          "execution_count": 57,
          "metadata": {},
          "output_type": "execute_result"
        }
      ],
      "source": [
        "ecom['InvoiceDate2'] = pd.to_datetime(ecom['InvoiceDate'])"
      ]
    },
    {
      "cell_type": "markdown",
      "metadata": {
        "id": "13gESQwftA1F"
      },
      "source": [
        "** Take only date values (year-month-day) from InvoiceDate2 and assign it to a new column named date **"
      ]
    },
    {
      "cell_type": "code",
      "execution_count": null,
      "metadata": {
        "id": "k7DQAQaVtA1F"
      },
      "outputs": [],
      "source": [
        "ecom['date'] = pd.to_datetime(ecom.InvoiceDate2).dt.to_period('D')\n",
        "ecom['date']"
      ]
    },
    {
      "cell_type": "code",
      "execution_count": null,
      "metadata": {
        "id": "0_8GZaa4tA1F",
        "outputId": "dea00473-d9e9-4deb-a071-2d8f59a7c4d8"
      },
      "outputs": [
        {
          "data": {
            "text/plain": [
              "0         2010-12-01\n",
              "1         2010-12-01\n",
              "2         2010-12-01\n",
              "3         2010-12-01\n",
              "4         2010-12-01\n",
              "             ...    \n",
              "541904    2011-12-09\n",
              "541905    2011-12-09\n",
              "541906    2011-12-09\n",
              "541907    2011-12-09\n",
              "541908    2011-12-09\n",
              "Name: date, Length: 541909, dtype: object"
            ]
          },
          "execution_count": 59,
          "metadata": {},
          "output_type": "execute_result"
        }
      ],
      "source": [
        ""
      ]
    },
    {
      "cell_type": "code",
      "execution_count": null,
      "metadata": {
        "scrolled": true,
        "id": "ef3IpkIYtA1F",
        "outputId": "bd069bea-3be7-46b8-c4c7-4ef18e0f6dfe"
      },
      "outputs": [
        {
          "data": {
            "text/html": [
              "<div>\n",
              "<style scoped>\n",
              "    .dataframe tbody tr th:only-of-type {\n",
              "        vertical-align: middle;\n",
              "    }\n",
              "\n",
              "    .dataframe tbody tr th {\n",
              "        vertical-align: top;\n",
              "    }\n",
              "\n",
              "    .dataframe thead th {\n",
              "        text-align: right;\n",
              "    }\n",
              "</style>\n",
              "<table border=\"1\" class=\"dataframe\">\n",
              "  <thead>\n",
              "    <tr style=\"text-align: right;\">\n",
              "      <th></th>\n",
              "      <th>InvoiceNo</th>\n",
              "      <th>StockCode</th>\n",
              "      <th>Description</th>\n",
              "      <th>Quantity</th>\n",
              "      <th>InvoiceDate</th>\n",
              "      <th>UnitPrice</th>\n",
              "      <th>CustomerID</th>\n",
              "      <th>Country</th>\n",
              "      <th>Total</th>\n",
              "      <th>InvoiceDate2</th>\n",
              "      <th>date</th>\n",
              "    </tr>\n",
              "  </thead>\n",
              "  <tbody>\n",
              "    <tr>\n",
              "      <th>0</th>\n",
              "      <td>536365</td>\n",
              "      <td>85123A</td>\n",
              "      <td>WHITE HANGING HEART T-LIGHT HOLDER</td>\n",
              "      <td>6</td>\n",
              "      <td>12/1/2010 8:26</td>\n",
              "      <td>2.55</td>\n",
              "      <td>17850.0</td>\n",
              "      <td>United Kingdom</td>\n",
              "      <td>15.30</td>\n",
              "      <td>2010-12-01 08:26:00</td>\n",
              "      <td>2010-12-01</td>\n",
              "    </tr>\n",
              "    <tr>\n",
              "      <th>1</th>\n",
              "      <td>536365</td>\n",
              "      <td>71053</td>\n",
              "      <td>WHITE METAL LANTERN</td>\n",
              "      <td>6</td>\n",
              "      <td>12/1/2010 8:26</td>\n",
              "      <td>3.39</td>\n",
              "      <td>17850.0</td>\n",
              "      <td>United Kingdom</td>\n",
              "      <td>20.34</td>\n",
              "      <td>2010-12-01 08:26:00</td>\n",
              "      <td>2010-12-01</td>\n",
              "    </tr>\n",
              "    <tr>\n",
              "      <th>2</th>\n",
              "      <td>536365</td>\n",
              "      <td>84406B</td>\n",
              "      <td>CREAM CUPID HEARTS COAT HANGER</td>\n",
              "      <td>8</td>\n",
              "      <td>12/1/2010 8:26</td>\n",
              "      <td>2.75</td>\n",
              "      <td>17850.0</td>\n",
              "      <td>United Kingdom</td>\n",
              "      <td>22.00</td>\n",
              "      <td>2010-12-01 08:26:00</td>\n",
              "      <td>2010-12-01</td>\n",
              "    </tr>\n",
              "    <tr>\n",
              "      <th>3</th>\n",
              "      <td>536365</td>\n",
              "      <td>84029G</td>\n",
              "      <td>KNITTED UNION FLAG HOT WATER BOTTLE</td>\n",
              "      <td>6</td>\n",
              "      <td>12/1/2010 8:26</td>\n",
              "      <td>3.39</td>\n",
              "      <td>17850.0</td>\n",
              "      <td>United Kingdom</td>\n",
              "      <td>20.34</td>\n",
              "      <td>2010-12-01 08:26:00</td>\n",
              "      <td>2010-12-01</td>\n",
              "    </tr>\n",
              "    <tr>\n",
              "      <th>4</th>\n",
              "      <td>536365</td>\n",
              "      <td>84029E</td>\n",
              "      <td>RED WOOLLY HOTTIE WHITE HEART.</td>\n",
              "      <td>6</td>\n",
              "      <td>12/1/2010 8:26</td>\n",
              "      <td>3.39</td>\n",
              "      <td>17850.0</td>\n",
              "      <td>United Kingdom</td>\n",
              "      <td>20.34</td>\n",
              "      <td>2010-12-01 08:26:00</td>\n",
              "      <td>2010-12-01</td>\n",
              "    </tr>\n",
              "  </tbody>\n",
              "</table>\n",
              "</div>"
            ],
            "text/plain": [
              "  InvoiceNo StockCode                          Description  Quantity  \\\n",
              "0    536365    85123A   WHITE HANGING HEART T-LIGHT HOLDER         6   \n",
              "1    536365     71053                  WHITE METAL LANTERN         6   \n",
              "2    536365    84406B       CREAM CUPID HEARTS COAT HANGER         8   \n",
              "3    536365    84029G  KNITTED UNION FLAG HOT WATER BOTTLE         6   \n",
              "4    536365    84029E       RED WOOLLY HOTTIE WHITE HEART.         6   \n",
              "\n",
              "      InvoiceDate  UnitPrice  CustomerID         Country  Total  \\\n",
              "0  12/1/2010 8:26       2.55     17850.0  United Kingdom  15.30   \n",
              "1  12/1/2010 8:26       3.39     17850.0  United Kingdom  20.34   \n",
              "2  12/1/2010 8:26       2.75     17850.0  United Kingdom  22.00   \n",
              "3  12/1/2010 8:26       3.39     17850.0  United Kingdom  20.34   \n",
              "4  12/1/2010 8:26       3.39     17850.0  United Kingdom  20.34   \n",
              "\n",
              "         InvoiceDate2        date  \n",
              "0 2010-12-01 08:26:00  2010-12-01  \n",
              "1 2010-12-01 08:26:00  2010-12-01  \n",
              "2 2010-12-01 08:26:00  2010-12-01  \n",
              "3 2010-12-01 08:26:00  2010-12-01  \n",
              "4 2010-12-01 08:26:00  2010-12-01  "
            ]
          },
          "execution_count": 60,
          "metadata": {},
          "output_type": "execute_result"
        }
      ],
      "source": [
        "ecom.head()"
      ]
    },
    {
      "cell_type": "markdown",
      "metadata": {
        "id": "6w0cgwEMtA1G"
      },
      "source": [
        "** drop InvoiceDate2 and InvoiceDate columns permanently **"
      ]
    },
    {
      "cell_type": "code",
      "execution_count": null,
      "metadata": {
        "id": "deEXivCqtA1G",
        "outputId": "7597b036-1b63-4366-b3de-c2964e1f37e6"
      },
      "outputs": [
        {
          "data": {
            "text/html": [
              "<div>\n",
              "<style scoped>\n",
              "    .dataframe tbody tr th:only-of-type {\n",
              "        vertical-align: middle;\n",
              "    }\n",
              "\n",
              "    .dataframe tbody tr th {\n",
              "        vertical-align: top;\n",
              "    }\n",
              "\n",
              "    .dataframe thead th {\n",
              "        text-align: right;\n",
              "    }\n",
              "</style>\n",
              "<table border=\"1\" class=\"dataframe\">\n",
              "  <thead>\n",
              "    <tr style=\"text-align: right;\">\n",
              "      <th></th>\n",
              "      <th>InvoiceNo</th>\n",
              "      <th>StockCode</th>\n",
              "      <th>Description</th>\n",
              "      <th>Quantity</th>\n",
              "      <th>UnitPrice</th>\n",
              "      <th>CustomerID</th>\n",
              "      <th>Country</th>\n",
              "      <th>Total</th>\n",
              "      <th>date</th>\n",
              "    </tr>\n",
              "  </thead>\n",
              "  <tbody>\n",
              "    <tr>\n",
              "      <th>0</th>\n",
              "      <td>536365</td>\n",
              "      <td>85123A</td>\n",
              "      <td>WHITE HANGING HEART T-LIGHT HOLDER</td>\n",
              "      <td>6</td>\n",
              "      <td>2.55</td>\n",
              "      <td>17850.0</td>\n",
              "      <td>United Kingdom</td>\n",
              "      <td>15.30</td>\n",
              "      <td>2010-12-01</td>\n",
              "    </tr>\n",
              "    <tr>\n",
              "      <th>1</th>\n",
              "      <td>536365</td>\n",
              "      <td>71053</td>\n",
              "      <td>WHITE METAL LANTERN</td>\n",
              "      <td>6</td>\n",
              "      <td>3.39</td>\n",
              "      <td>17850.0</td>\n",
              "      <td>United Kingdom</td>\n",
              "      <td>20.34</td>\n",
              "      <td>2010-12-01</td>\n",
              "    </tr>\n",
              "    <tr>\n",
              "      <th>2</th>\n",
              "      <td>536365</td>\n",
              "      <td>84406B</td>\n",
              "      <td>CREAM CUPID HEARTS COAT HANGER</td>\n",
              "      <td>8</td>\n",
              "      <td>2.75</td>\n",
              "      <td>17850.0</td>\n",
              "      <td>United Kingdom</td>\n",
              "      <td>22.00</td>\n",
              "      <td>2010-12-01</td>\n",
              "    </tr>\n",
              "    <tr>\n",
              "      <th>3</th>\n",
              "      <td>536365</td>\n",
              "      <td>84029G</td>\n",
              "      <td>KNITTED UNION FLAG HOT WATER BOTTLE</td>\n",
              "      <td>6</td>\n",
              "      <td>3.39</td>\n",
              "      <td>17850.0</td>\n",
              "      <td>United Kingdom</td>\n",
              "      <td>20.34</td>\n",
              "      <td>2010-12-01</td>\n",
              "    </tr>\n",
              "    <tr>\n",
              "      <th>4</th>\n",
              "      <td>536365</td>\n",
              "      <td>84029E</td>\n",
              "      <td>RED WOOLLY HOTTIE WHITE HEART.</td>\n",
              "      <td>6</td>\n",
              "      <td>3.39</td>\n",
              "      <td>17850.0</td>\n",
              "      <td>United Kingdom</td>\n",
              "      <td>20.34</td>\n",
              "      <td>2010-12-01</td>\n",
              "    </tr>\n",
              "  </tbody>\n",
              "</table>\n",
              "</div>"
            ],
            "text/plain": [
              "  InvoiceNo StockCode                          Description  Quantity  \\\n",
              "0    536365    85123A   WHITE HANGING HEART T-LIGHT HOLDER         6   \n",
              "1    536365     71053                  WHITE METAL LANTERN         6   \n",
              "2    536365    84406B       CREAM CUPID HEARTS COAT HANGER         8   \n",
              "3    536365    84029G  KNITTED UNION FLAG HOT WATER BOTTLE         6   \n",
              "4    536365    84029E       RED WOOLLY HOTTIE WHITE HEART.         6   \n",
              "\n",
              "   UnitPrice  CustomerID         Country  Total        date  \n",
              "0       2.55     17850.0  United Kingdom  15.30  2010-12-01  \n",
              "1       3.39     17850.0  United Kingdom  20.34  2010-12-01  \n",
              "2       2.75     17850.0  United Kingdom  22.00  2010-12-01  \n",
              "3       3.39     17850.0  United Kingdom  20.34  2010-12-01  \n",
              "4       3.39     17850.0  United Kingdom  20.34  2010-12-01  "
            ]
          },
          "execution_count": 61,
          "metadata": {},
          "output_type": "execute_result"
        }
      ],
      "source": [
        "ecom.drop(['InvoiceDate','InvoiceDate2'], axis=1, inplace=True)"
      ]
    },
    {
      "cell_type": "markdown",
      "metadata": {
        "id": "cNp8B6t-tA1G"
      },
      "source": [
        "** Remove A, B, G and E from StockCode in first 5 rows of ecom dataframe with a string method **"
      ]
    },
    {
      "cell_type": "code",
      "execution_count": null,
      "metadata": {
        "id": "GoTJNuJxtA1G",
        "outputId": "771a5abe-0dee-48cb-b174-9e75c19eb7fd"
      },
      "outputs": [
        {
          "data": {
            "text/plain": [
              "0    85123\n",
              "1    71053\n",
              "2    84406\n",
              "3    84029\n",
              "4    84029\n",
              "Name: StockCode, dtype: object"
            ]
          },
          "execution_count": 86,
          "metadata": {},
          "output_type": "execute_result"
        }
      ],
      "source": [
        "#ecom.StockCode[:5].str.replace(r'\\D', '')\n",
        "ecom.StockCode.head().str.replace('A','').str.replace('B','').str.replace('G','').str.replace('E','')"
      ]
    },
    {
      "cell_type": "markdown",
      "metadata": {
        "id": "7roF5MVttA1G"
      },
      "source": [
        "** take only Total and date columns with loc and craete a new df named ecom2 **"
      ]
    },
    {
      "cell_type": "code",
      "execution_count": null,
      "metadata": {
        "id": "JkpFPFWNtA1G",
        "outputId": "6045b863-91e7-458a-d683-07a9f8e29680"
      },
      "outputs": [
        {
          "data": {
            "text/html": [
              "<div>\n",
              "<style scoped>\n",
              "    .dataframe tbody tr th:only-of-type {\n",
              "        vertical-align: middle;\n",
              "    }\n",
              "\n",
              "    .dataframe tbody tr th {\n",
              "        vertical-align: top;\n",
              "    }\n",
              "\n",
              "    .dataframe thead th {\n",
              "        text-align: right;\n",
              "    }\n",
              "</style>\n",
              "<table border=\"1\" class=\"dataframe\">\n",
              "  <thead>\n",
              "    <tr style=\"text-align: right;\">\n",
              "      <th></th>\n",
              "      <th>Total</th>\n",
              "      <th>date</th>\n",
              "    </tr>\n",
              "  </thead>\n",
              "  <tbody>\n",
              "    <tr>\n",
              "      <th>0</th>\n",
              "      <td>15.30</td>\n",
              "      <td>2010-12-01</td>\n",
              "    </tr>\n",
              "    <tr>\n",
              "      <th>1</th>\n",
              "      <td>20.34</td>\n",
              "      <td>2010-12-01</td>\n",
              "    </tr>\n",
              "    <tr>\n",
              "      <th>2</th>\n",
              "      <td>22.00</td>\n",
              "      <td>2010-12-01</td>\n",
              "    </tr>\n",
              "    <tr>\n",
              "      <th>3</th>\n",
              "      <td>20.34</td>\n",
              "      <td>2010-12-01</td>\n",
              "    </tr>\n",
              "    <tr>\n",
              "      <th>4</th>\n",
              "      <td>20.34</td>\n",
              "      <td>2010-12-01</td>\n",
              "    </tr>\n",
              "    <tr>\n",
              "      <th>...</th>\n",
              "      <td>...</td>\n",
              "      <td>...</td>\n",
              "    </tr>\n",
              "    <tr>\n",
              "      <th>541904</th>\n",
              "      <td>10.20</td>\n",
              "      <td>2011-12-09</td>\n",
              "    </tr>\n",
              "    <tr>\n",
              "      <th>541905</th>\n",
              "      <td>12.60</td>\n",
              "      <td>2011-12-09</td>\n",
              "    </tr>\n",
              "    <tr>\n",
              "      <th>541906</th>\n",
              "      <td>16.60</td>\n",
              "      <td>2011-12-09</td>\n",
              "    </tr>\n",
              "    <tr>\n",
              "      <th>541907</th>\n",
              "      <td>16.60</td>\n",
              "      <td>2011-12-09</td>\n",
              "    </tr>\n",
              "    <tr>\n",
              "      <th>541908</th>\n",
              "      <td>14.85</td>\n",
              "      <td>2011-12-09</td>\n",
              "    </tr>\n",
              "  </tbody>\n",
              "</table>\n",
              "<p>541909 rows × 2 columns</p>\n",
              "</div>"
            ],
            "text/plain": [
              "        Total        date\n",
              "0       15.30  2010-12-01\n",
              "1       20.34  2010-12-01\n",
              "2       22.00  2010-12-01\n",
              "3       20.34  2010-12-01\n",
              "4       20.34  2010-12-01\n",
              "...       ...         ...\n",
              "541904  10.20  2011-12-09\n",
              "541905  12.60  2011-12-09\n",
              "541906  16.60  2011-12-09\n",
              "541907  16.60  2011-12-09\n",
              "541908  14.85  2011-12-09\n",
              "\n",
              "[541909 rows x 2 columns]"
            ]
          },
          "execution_count": 62,
          "metadata": {},
          "output_type": "execute_result"
        }
      ],
      "source": [
        "ecom2 = pd.DataFrame(ecom.loc[: , ['Total', 'date']])\n",
        "ecom2"
      ]
    },
    {
      "cell_type": "markdown",
      "metadata": {
        "id": "nVydBlOotA1G"
      },
      "source": [
        "** take only InvoiceNo, CustomerID and Total columns with iloc and craete a new df named ecom3 **"
      ]
    },
    {
      "cell_type": "code",
      "execution_count": null,
      "metadata": {
        "id": "2msREDLutA1H",
        "outputId": "bb24c70e-4a12-410d-9901-c48c0cabc163"
      },
      "outputs": [
        {
          "data": {
            "text/html": [
              "<div>\n",
              "<style scoped>\n",
              "    .dataframe tbody tr th:only-of-type {\n",
              "        vertical-align: middle;\n",
              "    }\n",
              "\n",
              "    .dataframe tbody tr th {\n",
              "        vertical-align: top;\n",
              "    }\n",
              "\n",
              "    .dataframe thead th {\n",
              "        text-align: right;\n",
              "    }\n",
              "</style>\n",
              "<table border=\"1\" class=\"dataframe\">\n",
              "  <thead>\n",
              "    <tr style=\"text-align: right;\">\n",
              "      <th></th>\n",
              "      <th>InvoiceNo</th>\n",
              "      <th>CustomerID</th>\n",
              "      <th>Total</th>\n",
              "    </tr>\n",
              "  </thead>\n",
              "  <tbody>\n",
              "    <tr>\n",
              "      <th>0</th>\n",
              "      <td>536365</td>\n",
              "      <td>17850.0</td>\n",
              "      <td>15.30</td>\n",
              "    </tr>\n",
              "    <tr>\n",
              "      <th>1</th>\n",
              "      <td>536365</td>\n",
              "      <td>17850.0</td>\n",
              "      <td>20.34</td>\n",
              "    </tr>\n",
              "    <tr>\n",
              "      <th>2</th>\n",
              "      <td>536365</td>\n",
              "      <td>17850.0</td>\n",
              "      <td>22.00</td>\n",
              "    </tr>\n",
              "    <tr>\n",
              "      <th>3</th>\n",
              "      <td>536365</td>\n",
              "      <td>17850.0</td>\n",
              "      <td>20.34</td>\n",
              "    </tr>\n",
              "    <tr>\n",
              "      <th>4</th>\n",
              "      <td>536365</td>\n",
              "      <td>17850.0</td>\n",
              "      <td>20.34</td>\n",
              "    </tr>\n",
              "    <tr>\n",
              "      <th>...</th>\n",
              "      <td>...</td>\n",
              "      <td>...</td>\n",
              "      <td>...</td>\n",
              "    </tr>\n",
              "    <tr>\n",
              "      <th>541904</th>\n",
              "      <td>581587</td>\n",
              "      <td>12680.0</td>\n",
              "      <td>10.20</td>\n",
              "    </tr>\n",
              "    <tr>\n",
              "      <th>541905</th>\n",
              "      <td>581587</td>\n",
              "      <td>12680.0</td>\n",
              "      <td>12.60</td>\n",
              "    </tr>\n",
              "    <tr>\n",
              "      <th>541906</th>\n",
              "      <td>581587</td>\n",
              "      <td>12680.0</td>\n",
              "      <td>16.60</td>\n",
              "    </tr>\n",
              "    <tr>\n",
              "      <th>541907</th>\n",
              "      <td>581587</td>\n",
              "      <td>12680.0</td>\n",
              "      <td>16.60</td>\n",
              "    </tr>\n",
              "    <tr>\n",
              "      <th>541908</th>\n",
              "      <td>581587</td>\n",
              "      <td>12680.0</td>\n",
              "      <td>14.85</td>\n",
              "    </tr>\n",
              "  </tbody>\n",
              "</table>\n",
              "<p>541909 rows × 3 columns</p>\n",
              "</div>"
            ],
            "text/plain": [
              "       InvoiceNo  CustomerID  Total\n",
              "0         536365     17850.0  15.30\n",
              "1         536365     17850.0  20.34\n",
              "2         536365     17850.0  22.00\n",
              "3         536365     17850.0  20.34\n",
              "4         536365     17850.0  20.34\n",
              "...          ...         ...    ...\n",
              "541904    581587     12680.0  10.20\n",
              "541905    581587     12680.0  12.60\n",
              "541906    581587     12680.0  16.60\n",
              "541907    581587     12680.0  16.60\n",
              "541908    581587     12680.0  14.85\n",
              "\n",
              "[541909 rows x 3 columns]"
            ]
          },
          "execution_count": 63,
          "metadata": {},
          "output_type": "execute_result"
        }
      ],
      "source": [
        "ecom3 = pd.DataFrame(ecom.iloc[:,[0,5,7]])\n",
        "ecom3"
      ]
    },
    {
      "cell_type": "markdown",
      "metadata": {
        "id": "t3Vs6xx_tA1H"
      },
      "source": [
        "** Combine ecom2 and ecom3 with concat **"
      ]
    },
    {
      "cell_type": "code",
      "execution_count": null,
      "metadata": {
        "id": "_SjIK-zotA1H",
        "outputId": "52854151-b2c4-4823-fd55-ddaa7e5e6cde"
      },
      "outputs": [
        {
          "data": {
            "text/html": [
              "<div>\n",
              "<style scoped>\n",
              "    .dataframe tbody tr th:only-of-type {\n",
              "        vertical-align: middle;\n",
              "    }\n",
              "\n",
              "    .dataframe tbody tr th {\n",
              "        vertical-align: top;\n",
              "    }\n",
              "\n",
              "    .dataframe thead th {\n",
              "        text-align: right;\n",
              "    }\n",
              "</style>\n",
              "<table border=\"1\" class=\"dataframe\">\n",
              "  <thead>\n",
              "    <tr style=\"text-align: right;\">\n",
              "      <th></th>\n",
              "      <th>Total</th>\n",
              "      <th>date</th>\n",
              "      <th>InvoiceNo</th>\n",
              "      <th>CustomerID</th>\n",
              "      <th>Total</th>\n",
              "    </tr>\n",
              "  </thead>\n",
              "  <tbody>\n",
              "    <tr>\n",
              "      <th>0</th>\n",
              "      <td>15.30</td>\n",
              "      <td>2010-12-01</td>\n",
              "      <td>536365</td>\n",
              "      <td>17850.0</td>\n",
              "      <td>15.30</td>\n",
              "    </tr>\n",
              "    <tr>\n",
              "      <th>1</th>\n",
              "      <td>20.34</td>\n",
              "      <td>2010-12-01</td>\n",
              "      <td>536365</td>\n",
              "      <td>17850.0</td>\n",
              "      <td>20.34</td>\n",
              "    </tr>\n",
              "    <tr>\n",
              "      <th>2</th>\n",
              "      <td>22.00</td>\n",
              "      <td>2010-12-01</td>\n",
              "      <td>536365</td>\n",
              "      <td>17850.0</td>\n",
              "      <td>22.00</td>\n",
              "    </tr>\n",
              "    <tr>\n",
              "      <th>3</th>\n",
              "      <td>20.34</td>\n",
              "      <td>2010-12-01</td>\n",
              "      <td>536365</td>\n",
              "      <td>17850.0</td>\n",
              "      <td>20.34</td>\n",
              "    </tr>\n",
              "    <tr>\n",
              "      <th>4</th>\n",
              "      <td>20.34</td>\n",
              "      <td>2010-12-01</td>\n",
              "      <td>536365</td>\n",
              "      <td>17850.0</td>\n",
              "      <td>20.34</td>\n",
              "    </tr>\n",
              "    <tr>\n",
              "      <th>...</th>\n",
              "      <td>...</td>\n",
              "      <td>...</td>\n",
              "      <td>...</td>\n",
              "      <td>...</td>\n",
              "      <td>...</td>\n",
              "    </tr>\n",
              "    <tr>\n",
              "      <th>541904</th>\n",
              "      <td>10.20</td>\n",
              "      <td>2011-12-09</td>\n",
              "      <td>581587</td>\n",
              "      <td>12680.0</td>\n",
              "      <td>10.20</td>\n",
              "    </tr>\n",
              "    <tr>\n",
              "      <th>541905</th>\n",
              "      <td>12.60</td>\n",
              "      <td>2011-12-09</td>\n",
              "      <td>581587</td>\n",
              "      <td>12680.0</td>\n",
              "      <td>12.60</td>\n",
              "    </tr>\n",
              "    <tr>\n",
              "      <th>541906</th>\n",
              "      <td>16.60</td>\n",
              "      <td>2011-12-09</td>\n",
              "      <td>581587</td>\n",
              "      <td>12680.0</td>\n",
              "      <td>16.60</td>\n",
              "    </tr>\n",
              "    <tr>\n",
              "      <th>541907</th>\n",
              "      <td>16.60</td>\n",
              "      <td>2011-12-09</td>\n",
              "      <td>581587</td>\n",
              "      <td>12680.0</td>\n",
              "      <td>16.60</td>\n",
              "    </tr>\n",
              "    <tr>\n",
              "      <th>541908</th>\n",
              "      <td>14.85</td>\n",
              "      <td>2011-12-09</td>\n",
              "      <td>581587</td>\n",
              "      <td>12680.0</td>\n",
              "      <td>14.85</td>\n",
              "    </tr>\n",
              "  </tbody>\n",
              "</table>\n",
              "<p>541909 rows × 5 columns</p>\n",
              "</div>"
            ],
            "text/plain": [
              "        Total        date InvoiceNo  CustomerID  Total\n",
              "0       15.30  2010-12-01    536365     17850.0  15.30\n",
              "1       20.34  2010-12-01    536365     17850.0  20.34\n",
              "2       22.00  2010-12-01    536365     17850.0  22.00\n",
              "3       20.34  2010-12-01    536365     17850.0  20.34\n",
              "4       20.34  2010-12-01    536365     17850.0  20.34\n",
              "...       ...         ...       ...         ...    ...\n",
              "541904  10.20  2011-12-09    581587     12680.0  10.20\n",
              "541905  12.60  2011-12-09    581587     12680.0  12.60\n",
              "541906  16.60  2011-12-09    581587     12680.0  16.60\n",
              "541907  16.60  2011-12-09    581587     12680.0  16.60\n",
              "541908  14.85  2011-12-09    581587     12680.0  14.85\n",
              "\n",
              "[541909 rows x 5 columns]"
            ]
          },
          "execution_count": 64,
          "metadata": {},
          "output_type": "execute_result"
        }
      ],
      "source": [
        "pd.concat([ecom2,ecom3] , axis=1)"
      ]
    },
    {
      "cell_type": "markdown",
      "metadata": {
        "id": "k6vXo1SItA1H"
      },
      "source": [
        "** Combine ecom2 and ecom3 with merge. If memory error occurs take only first 400 rows from both DFs.**"
      ]
    },
    {
      "cell_type": "code",
      "execution_count": null,
      "metadata": {
        "id": "1t3vvdIctA1H",
        "outputId": "3ac69f2c-52eb-4e3a-b0df-d89574b4f7f7"
      },
      "outputs": [
        {
          "data": {
            "text/html": [
              "<div>\n",
              "<style scoped>\n",
              "    .dataframe tbody tr th:only-of-type {\n",
              "        vertical-align: middle;\n",
              "    }\n",
              "\n",
              "    .dataframe tbody tr th {\n",
              "        vertical-align: top;\n",
              "    }\n",
              "\n",
              "    .dataframe thead th {\n",
              "        text-align: right;\n",
              "    }\n",
              "</style>\n",
              "<table border=\"1\" class=\"dataframe\">\n",
              "  <thead>\n",
              "    <tr style=\"text-align: right;\">\n",
              "      <th></th>\n",
              "      <th>Total</th>\n",
              "      <th>date</th>\n",
              "      <th>InvoiceNo</th>\n",
              "      <th>CustomerID</th>\n",
              "    </tr>\n",
              "  </thead>\n",
              "  <tbody>\n",
              "    <tr>\n",
              "      <th>0</th>\n",
              "      <td>15.3</td>\n",
              "      <td>2010-12-01</td>\n",
              "      <td>536365</td>\n",
              "      <td>17850.0</td>\n",
              "    </tr>\n",
              "    <tr>\n",
              "      <th>1</th>\n",
              "      <td>15.3</td>\n",
              "      <td>2010-12-01</td>\n",
              "      <td>536373</td>\n",
              "      <td>17850.0</td>\n",
              "    </tr>\n",
              "    <tr>\n",
              "      <th>2</th>\n",
              "      <td>15.3</td>\n",
              "      <td>2010-12-01</td>\n",
              "      <td>536373</td>\n",
              "      <td>17850.0</td>\n",
              "    </tr>\n",
              "    <tr>\n",
              "      <th>3</th>\n",
              "      <td>15.3</td>\n",
              "      <td>2010-12-01</td>\n",
              "      <td>536375</td>\n",
              "      <td>17850.0</td>\n",
              "    </tr>\n",
              "    <tr>\n",
              "      <th>4</th>\n",
              "      <td>15.3</td>\n",
              "      <td>2010-12-01</td>\n",
              "      <td>536375</td>\n",
              "      <td>17850.0</td>\n",
              "    </tr>\n",
              "    <tr>\n",
              "      <th>...</th>\n",
              "      <td>...</td>\n",
              "      <td>...</td>\n",
              "      <td>...</td>\n",
              "      <td>...</td>\n",
              "    </tr>\n",
              "    <tr>\n",
              "      <th>395</th>\n",
              "      <td>13.2</td>\n",
              "      <td>2010-12-01</td>\n",
              "      <td>536378</td>\n",
              "      <td>14688.0</td>\n",
              "    </tr>\n",
              "    <tr>\n",
              "      <th>396</th>\n",
              "      <td>13.2</td>\n",
              "      <td>2010-12-01</td>\n",
              "      <td>536378</td>\n",
              "      <td>14688.0</td>\n",
              "    </tr>\n",
              "    <tr>\n",
              "      <th>397</th>\n",
              "      <td>13.2</td>\n",
              "      <td>2010-12-01</td>\n",
              "      <td>536378</td>\n",
              "      <td>14688.0</td>\n",
              "    </tr>\n",
              "    <tr>\n",
              "      <th>398</th>\n",
              "      <td>13.2</td>\n",
              "      <td>2010-12-01</td>\n",
              "      <td>536378</td>\n",
              "      <td>14688.0</td>\n",
              "    </tr>\n",
              "    <tr>\n",
              "      <th>399</th>\n",
              "      <td>13.2</td>\n",
              "      <td>2010-12-01</td>\n",
              "      <td>536378</td>\n",
              "      <td>14688.0</td>\n",
              "    </tr>\n",
              "  </tbody>\n",
              "</table>\n",
              "<p>400 rows × 4 columns</p>\n",
              "</div>"
            ],
            "text/plain": [
              "     Total        date InvoiceNo  CustomerID\n",
              "0     15.3  2010-12-01    536365     17850.0\n",
              "1     15.3  2010-12-01    536373     17850.0\n",
              "2     15.3  2010-12-01    536373     17850.0\n",
              "3     15.3  2010-12-01    536375     17850.0\n",
              "4     15.3  2010-12-01    536375     17850.0\n",
              "..     ...         ...       ...         ...\n",
              "395   13.2  2010-12-01    536378     14688.0\n",
              "396   13.2  2010-12-01    536378     14688.0\n",
              "397   13.2  2010-12-01    536378     14688.0\n",
              "398   13.2  2010-12-01    536378     14688.0\n",
              "399   13.2  2010-12-01    536378     14688.0\n",
              "\n",
              "[400 rows x 4 columns]"
            ]
          },
          "execution_count": 66,
          "metadata": {},
          "output_type": "execute_result"
        }
      ],
      "source": [
        "pd.merge(ecom2,ecom3, on='Total')"
      ]
    },
    {
      "cell_type": "markdown",
      "metadata": {
        "id": "uNixzWhOtA1I"
      },
      "source": [
        "** Combine ecom2 and ecom3 with join (inner)**"
      ]
    },
    {
      "cell_type": "code",
      "execution_count": null,
      "metadata": {
        "id": "BejQNkmvtA1I",
        "outputId": "8d62eef4-0c6a-4600-e99a-f937f2babf6b"
      },
      "outputs": [
        {
          "data": {
            "text/html": [
              "<div>\n",
              "<style scoped>\n",
              "    .dataframe tbody tr th:only-of-type {\n",
              "        vertical-align: middle;\n",
              "    }\n",
              "\n",
              "    .dataframe tbody tr th {\n",
              "        vertical-align: top;\n",
              "    }\n",
              "\n",
              "    .dataframe thead th {\n",
              "        text-align: right;\n",
              "    }\n",
              "</style>\n",
              "<table border=\"1\" class=\"dataframe\">\n",
              "  <thead>\n",
              "    <tr style=\"text-align: right;\">\n",
              "      <th></th>\n",
              "      <th>Total_left</th>\n",
              "      <th>date</th>\n",
              "      <th>InvoiceNo</th>\n",
              "      <th>CustomerID</th>\n",
              "      <th>Total_right</th>\n",
              "    </tr>\n",
              "  </thead>\n",
              "  <tbody>\n",
              "    <tr>\n",
              "      <th>0</th>\n",
              "      <td>15.30</td>\n",
              "      <td>2010-12-01</td>\n",
              "      <td>536365</td>\n",
              "      <td>17850.0</td>\n",
              "      <td>15.30</td>\n",
              "    </tr>\n",
              "    <tr>\n",
              "      <th>1</th>\n",
              "      <td>20.34</td>\n",
              "      <td>2010-12-01</td>\n",
              "      <td>536365</td>\n",
              "      <td>17850.0</td>\n",
              "      <td>20.34</td>\n",
              "    </tr>\n",
              "    <tr>\n",
              "      <th>2</th>\n",
              "      <td>22.00</td>\n",
              "      <td>2010-12-01</td>\n",
              "      <td>536365</td>\n",
              "      <td>17850.0</td>\n",
              "      <td>22.00</td>\n",
              "    </tr>\n",
              "    <tr>\n",
              "      <th>3</th>\n",
              "      <td>20.34</td>\n",
              "      <td>2010-12-01</td>\n",
              "      <td>536365</td>\n",
              "      <td>17850.0</td>\n",
              "      <td>20.34</td>\n",
              "    </tr>\n",
              "    <tr>\n",
              "      <th>4</th>\n",
              "      <td>20.34</td>\n",
              "      <td>2010-12-01</td>\n",
              "      <td>536365</td>\n",
              "      <td>17850.0</td>\n",
              "      <td>20.34</td>\n",
              "    </tr>\n",
              "    <tr>\n",
              "      <th>...</th>\n",
              "      <td>...</td>\n",
              "      <td>...</td>\n",
              "      <td>...</td>\n",
              "      <td>...</td>\n",
              "      <td>...</td>\n",
              "    </tr>\n",
              "    <tr>\n",
              "      <th>541904</th>\n",
              "      <td>10.20</td>\n",
              "      <td>2011-12-09</td>\n",
              "      <td>581587</td>\n",
              "      <td>12680.0</td>\n",
              "      <td>10.20</td>\n",
              "    </tr>\n",
              "    <tr>\n",
              "      <th>541905</th>\n",
              "      <td>12.60</td>\n",
              "      <td>2011-12-09</td>\n",
              "      <td>581587</td>\n",
              "      <td>12680.0</td>\n",
              "      <td>12.60</td>\n",
              "    </tr>\n",
              "    <tr>\n",
              "      <th>541906</th>\n",
              "      <td>16.60</td>\n",
              "      <td>2011-12-09</td>\n",
              "      <td>581587</td>\n",
              "      <td>12680.0</td>\n",
              "      <td>16.60</td>\n",
              "    </tr>\n",
              "    <tr>\n",
              "      <th>541907</th>\n",
              "      <td>16.60</td>\n",
              "      <td>2011-12-09</td>\n",
              "      <td>581587</td>\n",
              "      <td>12680.0</td>\n",
              "      <td>16.60</td>\n",
              "    </tr>\n",
              "    <tr>\n",
              "      <th>541908</th>\n",
              "      <td>14.85</td>\n",
              "      <td>2011-12-09</td>\n",
              "      <td>581587</td>\n",
              "      <td>12680.0</td>\n",
              "      <td>14.85</td>\n",
              "    </tr>\n",
              "  </tbody>\n",
              "</table>\n",
              "<p>541909 rows × 5 columns</p>\n",
              "</div>"
            ],
            "text/plain": [
              "        Total_left        date InvoiceNo  CustomerID  Total_right\n",
              "0            15.30  2010-12-01    536365     17850.0        15.30\n",
              "1            20.34  2010-12-01    536365     17850.0        20.34\n",
              "2            22.00  2010-12-01    536365     17850.0        22.00\n",
              "3            20.34  2010-12-01    536365     17850.0        20.34\n",
              "4            20.34  2010-12-01    536365     17850.0        20.34\n",
              "...            ...         ...       ...         ...          ...\n",
              "541904       10.20  2011-12-09    581587     12680.0        10.20\n",
              "541905       12.60  2011-12-09    581587     12680.0        12.60\n",
              "541906       16.60  2011-12-09    581587     12680.0        16.60\n",
              "541907       16.60  2011-12-09    581587     12680.0        16.60\n",
              "541908       14.85  2011-12-09    581587     12680.0        14.85\n",
              "\n",
              "[541909 rows x 5 columns]"
            ]
          },
          "execution_count": 71,
          "metadata": {},
          "output_type": "execute_result"
        }
      ],
      "source": [
        "ecom2.join(ecom3, rsuffix='_right')"
      ]
    },
    {
      "cell_type": "markdown",
      "metadata": {
        "id": "iemuTvPQtA1I"
      },
      "source": [
        "# Congrats!"
      ]
    },
    {
      "cell_type": "code",
      "execution_count": null,
      "metadata": {
        "id": "NQ21qs4etA1I"
      },
      "outputs": [],
      "source": [
        ""
      ]
    }
  ],
  "metadata": {
    "kernelspec": {
      "display_name": "Python 3",
      "language": "python",
      "name": "python3"
    },
    "language_info": {
      "codemirror_mode": {
        "name": "ipython",
        "version": 3
      },
      "file_extension": ".py",
      "mimetype": "text/x-python",
      "name": "python",
      "nbconvert_exporter": "python",
      "pygments_lexer": "ipython3",
      "version": "3.8.5"
    },
    "colab": {
      "name": "Assignment2_Student.ipynb",
      "provenance": [],
      "collapsed_sections": [],
      "include_colab_link": true
    }
  },
  "nbformat": 4,
  "nbformat_minor": 0
}